{
  "cells": [
    {
      "cell_type": "markdown",
      "metadata": {
        "id": "e7pQDUhUnIo8"
      },
      "source": [
        "## Midterm Project\n"
      ]
    },
    {
      "cell_type": "markdown",
      "metadata": {},
      "source": [
        "## Task 1: Defining your Problem and Audience\n",
        "\n",
        "✅ Deliverables\n",
        "\n",
        "#### Problem Statement \n",
        "\n",
        "Develop an AI-powered Bible study tool that empowers users to quickly find answers to their questions directly within the Bible text. By leveraging Large Language Models (LLMs), the tool will analyze user queries, identify relevant passages, and provide contextual insights from surrounding verses and cross-references, eliminating the need for extensive manual searching and memorization."
      ]
    },
    {
      "cell_type": "markdown",
      "metadata": {},
      "source": [
        "## Task 2: Propose a Solution\n",
        "\n",
        "✅ Deliverables\n",
        "\n",
        "#### Application Framework\n",
        "\n",
        "<img src=\"img/arch.png\" />\n",
        "\n",
        "- LLM \n",
        "    - \"gpt-4o\" is used for agent reasoning. \n",
        "- Embedding Model\n",
        "    - my fine tuned embedding model based on Snowflake/snowflake-arctic-embed-l\n",
        "- Orchestration\n",
        "    - There are two nodes in the graph: 1 agent node, 1 action node. The agent node does some reasoning based on the user queries and determines which tool in the action node to use. The action node provides a tool set for the agent node to use. In the first phase of this project, a RAG chain is the only available tool. The book of Genesis is saved in the vector database in RAG.\n",
        "- Vector Database\n",
        "    - Qdrant as it is a popular choirc for RAG. It is open sourced, excels at performing fast, accurate, and scalable vector similarity searches.\n",
        "- Monitoring\n",
        "- Evaluation\n",
        "    - RAGAS is used to generate synthetic data and evaluate the agent langgraph by using the following metrics\n",
        "        - Context Recall\n",
        "        - Faithfulness\n",
        "        - Factual correctness\n",
        "        - answer relevancy\n",
        "        - context entity recall\n",
        "        - noise sensitivity relevant\n",
        "- User Interface\n",
        "    - Chainlit as it is open sourced and ease to use\n"
      ]
    },
    {
      "cell_type": "markdown",
      "metadata": {},
      "source": [
        "## Task 3: Dealing with the Data\n",
        "\n",
        "✅ Deliverables\n",
        "1. Describe all of your data sources and external APIs, and describe what you’ll use them for.\n",
        "\n",
        "    - The book of Genesis is downloaded to local from https://www.vatican.va/archive/bible/genesis/documents/bible_genesis_en.html by using curl command. And then it is loaded by using langchain director loader.\n",
        "\n",
        "2. Describe the default chunking strategy that you will use.  Why did you make this decision?\n",
        "\n",
        "    - RecursiveCharacterTextSplitter is used to chunk the document. This text splitter is designed to split text recursively based on specified characters. It prioritizes splitting by certain characters (like paragraphs or sentences) before resorting to splitting by character length. The parameter chunk_overlap = 100 is useful for maintaining context and avoiding loss of information when processing the chunks independently.\n",
        "\n"
      ]
    },
    {
      "cell_type": "markdown",
      "metadata": {},
      "source": [
        "## Task 4: Building a Quick End-to-End Prototype\n",
        "\n",
        "✅ Deliverables\n",
        "\n",
        "https://huggingface.co/spaces/kcheng0816/BibleStudy"
      ]
    },
    {
      "cell_type": "markdown",
      "metadata": {},
      "source": [
        "### Installing Dependencies"
      ]
    },
    {
      "cell_type": "code",
      "execution_count": 1,
      "metadata": {},
      "outputs": [],
      "source": [
        "!uv pip install -qU ragas==0.2.10"
      ]
    },
    {
      "cell_type": "code",
      "execution_count": 2,
      "metadata": {},
      "outputs": [],
      "source": [
        "!uv pip install -qU cohere langchain_cohere langchain_huggingface"
      ]
    },
    {
      "cell_type": "code",
      "execution_count": 3,
      "metadata": {},
      "outputs": [],
      "source": [
        "!uv pip install -qU sentence_transformers datasets pyarrow"
      ]
    },
    {
      "cell_type": "code",
      "execution_count": 4,
      "metadata": {},
      "outputs": [],
      "source": [
        "!uv pip install -qU faiss-cpu python-pptx==1.0.2 nltk==3.9.1 beautifulsoup4 lxml"
      ]
    },
    {
      "cell_type": "code",
      "execution_count": 5,
      "metadata": {
        "colab": {
          "base_uri": "https://localhost:8080/"
        },
        "id": "KaVwN269EttM",
        "outputId": "ba50f775-3957-4d88-9a88-43acc6966dda"
      },
      "outputs": [],
      "source": [
        "!uv pip install -qU langchain-community==0.3.14 langchain-openai==0.2.14 unstructured==0.16.12 langgraph==0.2.61 langchain-qdrant==0.2.0"
      ]
    },
    {
      "cell_type": "markdown",
      "metadata": {
        "id": "wujPjGJuoPwg"
      },
      "source": [
        "### Environment Variables"
      ]
    },
    {
      "cell_type": "code",
      "execution_count": 6,
      "metadata": {},
      "outputs": [
        {
          "data": {
            "text/plain": [
              "True"
            ]
          },
          "execution_count": 6,
          "metadata": {},
          "output_type": "execute_result"
        }
      ],
      "source": [
        "import os\n",
        "from dotenv import load_dotenv\n",
        "\n",
        "load_dotenv()"
      ]
    },
    {
      "cell_type": "code",
      "execution_count": 7,
      "metadata": {},
      "outputs": [],
      "source": [
        "from uuid import uuid4\n",
        "\n",
        "os.environ[\"LANGCHAIN_TRACING_V2\"] = \"true\"\n",
        "os.environ[\"LANGCHAIN_PROJECT\"] = f\"AIE5 - Midterm Sample - {uuid4().hex[0:8]}\"\n"
      ]
    },
    {
      "cell_type": "markdown",
      "metadata": {},
      "source": [
        "### Data Preparation"
      ]
    },
    {
      "cell_type": "code",
      "execution_count": 8,
      "metadata": {},
      "outputs": [
        {
          "name": "stdout",
          "output_type": "stream",
          "text": [
            "  % Total    % Received % Xferd  Average Speed   Time    Time     Time  Current\n",
            "                                 Dload  Upload   Total   Spent    Left  Speed\n",
            "100  216k  100  216k    0     0   117k      0  0:00:01  0:00:01 --:--:--  118k\n"
          ]
        }
      ],
      "source": [
        "!curl https://www.vatican.va/archive/bible/genesis/documents/bible_genesis_en.html -o data/bible_genesis_en.html"
      ]
    },
    {
      "cell_type": "code",
      "execution_count": 9,
      "metadata": {},
      "outputs": [
        {
          "name": "stderr",
          "output_type": "stream",
          "text": [
            "libmagic is unavailable but assists in filetype detection. Please consider installing libmagic for better results.\n"
          ]
        }
      ],
      "source": [
        "from langchain_community.document_loaders import DirectoryLoader\n",
        "\n",
        "path = \"data/\"\n",
        "loader = DirectoryLoader(path, glob=\"*.html\")\n",
        "docs = loader.load()"
      ]
    },
    {
      "cell_type": "code",
      "execution_count": 10,
      "metadata": {},
      "outputs": [
        {
          "data": {
            "text/plain": [
              "307"
            ]
          },
          "execution_count": 10,
          "metadata": {},
          "output_type": "execute_result"
        }
      ],
      "source": [
        "from langchain.text_splitter import RecursiveCharacterTextSplitter\n",
        "\n",
        "text_splitter = RecursiveCharacterTextSplitter(\n",
        "    chunk_size = 750,\n",
        "    chunk_overlap = 100\n",
        ")\n",
        "\n",
        "split_documents = text_splitter.split_documents(docs)\n",
        "len(split_documents)"
      ]
    },
    {
      "cell_type": "markdown",
      "metadata": {},
      "source": [
        "### Embedding Model and Vector Store"
      ]
    },
    {
      "cell_type": "code",
      "execution_count": 11,
      "metadata": {},
      "outputs": [],
      "source": [
        "from langchain_huggingface import HuggingFaceEmbeddings\n",
        "\n",
        "base_embedding_model = HuggingFaceEmbeddings(model_name=\"Snowflake/snowflake-arctic-embed-l\")\n",
        "\n",
        "#from langchain_openai.embeddings import OpenAIEmbeddings\n",
        "\n",
        "#embedding_model = OpenAIEmbeddings(model=\"text-embedding-3-small\")"
      ]
    },
    {
      "cell_type": "code",
      "execution_count": 13,
      "metadata": {},
      "outputs": [],
      "source": [
        "from langchain_qdrant import QdrantVectorStore\n",
        "from qdrant_client import QdrantClient\n",
        "from qdrant_client.http.models import Distance, VectorParams\n",
        "\n",
        "client = QdrantClient(\":memory:\")\n",
        "\n",
        "client.create_collection(\n",
        "    collection_name=\"genesis_bible\",\n",
        "    vectors_config=VectorParams(size=1024, distance=Distance.COSINE),\n",
        ")\n",
        "\n",
        "vector_store = QdrantVectorStore(\n",
        "    client=client,\n",
        "    collection_name=\"genesis_bible\",\n",
        "    embedding=base_embedding_model,\n",
        ")"
      ]
    },
    {
      "cell_type": "code",
      "execution_count": 14,
      "metadata": {},
      "outputs": [],
      "source": [
        "_ = vector_store.add_documents(documents=split_documents)"
      ]
    },
    {
      "cell_type": "markdown",
      "metadata": {},
      "source": [
        "### Retriever"
      ]
    },
    {
      "cell_type": "code",
      "execution_count": 15,
      "metadata": {},
      "outputs": [],
      "source": [
        "retriever = vector_store.as_retriever(search_kwargs={\"k\": 5})"
      ]
    },
    {
      "cell_type": "code",
      "execution_count": 16,
      "metadata": {},
      "outputs": [],
      "source": [
        "def retrieve(state):\n",
        "  retrieved_docs = retriever.invoke(state[\"question\"])\n",
        "  return {\"context\" : retrieved_docs}"
      ]
    },
    {
      "cell_type": "markdown",
      "metadata": {},
      "source": [
        "### Augmented"
      ]
    },
    {
      "cell_type": "code",
      "execution_count": 17,
      "metadata": {},
      "outputs": [],
      "source": [
        "from langchain.prompts import ChatPromptTemplate\n",
        "\n",
        "RAG_PROMPT = \"\"\"\\\n",
        "You are a helpful assistant who answers questions based on provided context. You must only use the provided context, and cannot use your own knowledge.\n",
        "\n",
        "### Question\n",
        "{question}\n",
        "\n",
        "### Context\n",
        "{context}\n",
        "\"\"\"\n",
        "\n",
        "rag_prompt = ChatPromptTemplate.from_template(RAG_PROMPT)"
      ]
    },
    {
      "cell_type": "markdown",
      "metadata": {},
      "source": [
        "### Generation"
      ]
    },
    {
      "cell_type": "code",
      "execution_count": 18,
      "metadata": {},
      "outputs": [],
      "source": [
        "from langchain_openai import ChatOpenAI\n",
        "from langchain.chat_models import init_chat_model\n",
        "from langchain_core.rate_limiters import InMemoryRateLimiter\n",
        "\n",
        "rate_limiter = InMemoryRateLimiter(\n",
        "    requests_per_second=1,  # <-- make a request once every 1 seconds!!\n",
        "    check_every_n_seconds=0.1,  # Wake up every 100 ms to check whether allowed to make a request,\n",
        "    max_bucket_size=10,  # Controls the maximum burst size.\n",
        ")\n",
        "\n",
        "llm = init_chat_model(\"gpt-4o-mini\", rate_limiter=rate_limiter)\n",
        "\n",
        "#hit langsmith rate limit\n",
        "#llm = ChatOpenAI(model=\"gpt-4o-mini\")"
      ]
    },
    {
      "cell_type": "code",
      "execution_count": 19,
      "metadata": {},
      "outputs": [],
      "source": [
        "def generate(state):\n",
        "  docs_content = \"\\n\\n\".join(doc.page_content for doc in state[\"context\"])\n",
        "  messages = rag_prompt.format_messages(question=state[\"question\"], context=docs_content)\n",
        "  response = llm.invoke(messages)\n",
        "  return {\"response\" : response.content}"
      ]
    },
    {
      "cell_type": "code",
      "execution_count": 20,
      "metadata": {},
      "outputs": [],
      "source": [
        "from langgraph.graph import START, StateGraph\n",
        "from typing_extensions import List, TypedDict\n",
        "from langchain_core.documents import Document\n",
        "\n",
        "class State(TypedDict):\n",
        "  question: str\n",
        "  context: List[Document]\n",
        "  response: str"
      ]
    },
    {
      "cell_type": "code",
      "execution_count": 21,
      "metadata": {},
      "outputs": [],
      "source": [
        "graph_builder = StateGraph(State).add_sequence([retrieve, generate])\n",
        "graph_builder.add_edge(START, \"retrieve\")\n",
        "graph = graph_builder.compile()"
      ]
    },
    {
      "cell_type": "code",
      "execution_count": 22,
      "metadata": {},
      "outputs": [],
      "source": [
        "response = graph.invoke({\"question\" : \"How the universe was created?\"})"
      ]
    },
    {
      "cell_type": "code",
      "execution_count": 23,
      "metadata": {},
      "outputs": [
        {
          "data": {
            "text/plain": [
              "'The universe was created by God in the beginning, as described in the Book of Genesis. Initially, the earth was formless and covered in darkness. God then spoke, saying, \"Let there be light,\" and light came into existence. This marked the separation of light from darkness, establishing the cycle of day and night.\\n\\nOver the subsequent days, God continued to create: \\n\\n- On the second day, God created a dome to separate the waters above from the waters below, calling the dome Sky.\\n- On the third day, God gathered the waters to reveal dry land, which He called Earth, and commanded the earth to produce vegetation.\\n- On the fourth day, God created the sun, moon, and stars to provide light and to serve as markers for time.\\n- On the fifth day, God filled the waters with living creatures and created birds to fly in the sky.\\n- On the sixth day, God made land animals and formed man from the dust of the ground.\\n\\nFinally, on the seventh day, God completed His work and rested, blessing and sanctifying that day.'"
            ]
          },
          "execution_count": 23,
          "metadata": {},
          "output_type": "execute_result"
        }
      ],
      "source": [
        "response[\"response\"]"
      ]
    },
    {
      "cell_type": "code",
      "execution_count": 24,
      "metadata": {},
      "outputs": [],
      "source": [
        "from langchain_core.messages import HumanMessage\n",
        "from langchain_core.tools import tool\n",
        "\n",
        "@tool\n",
        "def ai_rag_tool(question: str) -> str:\n",
        "    \"\"\"Useful for when you need to answer questions about Bible \"\"\"\n",
        "    response = graph.invoke({\"question\": question})\n",
        "    return {\n",
        "        \"message\": [HumanMessage(content=response[\"response\"])],\n",
        "        \"context\": response[\"context\"]\n",
        "    }"
      ]
    },
    {
      "cell_type": "markdown",
      "metadata": {},
      "source": [
        "### Tool Belt"
      ]
    },
    {
      "cell_type": "code",
      "execution_count": 25,
      "metadata": {},
      "outputs": [],
      "source": [
        "tool_belt = [\n",
        "    ai_rag_tool\n",
        "]"
      ]
    },
    {
      "cell_type": "markdown",
      "metadata": {
        "id": "VI-C669ZYVI5"
      },
      "source": [
        "### LangGraph Agent"
      ]
    },
    {
      "cell_type": "markdown",
      "metadata": {},
      "source": [
        "### Binding the tools to the LLM"
      ]
    },
    {
      "cell_type": "code",
      "execution_count": 26,
      "metadata": {
        "id": "QkNS8rNZJs4z"
      },
      "outputs": [],
      "source": [
        "llm = init_chat_model(\"gpt-4o\", temperature=0, rate_limiter=rate_limiter)\n",
        "llm_with_tools = llm.bind_tools(tool_belt)"
      ]
    },
    {
      "cell_type": "markdown",
      "metadata": {},
      "source": [
        "### Define the State"
      ]
    },
    {
      "cell_type": "code",
      "execution_count": 27,
      "metadata": {
        "id": "mxL9b_NZKUdL"
      },
      "outputs": [],
      "source": [
        "from langgraph.graph import END\n",
        "from langchain_core.messages import AnyMessage\n",
        "from langgraph.graph.message import add_messages\n",
        "from typing import TypedDict, Annotated\n",
        "from langchain_core.documents import Document\n",
        "\n",
        "\n",
        "class AgentState(TypedDict):\n",
        "    messages: Annotated[list[AnyMessage], add_messages]\n",
        "    context:List[Document]"
      ]
    },
    {
      "cell_type": "code",
      "execution_count": 28,
      "metadata": {},
      "outputs": [],
      "source": [
        "from langgraph.prebuilt import ToolNode\n",
        "\n",
        "def call_mode(state):\n",
        "    messages = state[\"messages\"]\n",
        "    response = llm_with_tools.invoke(messages)\n",
        "    return {\n",
        "        \"messages\": [response],\n",
        "        \"context\": state.get(\"context\",[])\n",
        "    }\n",
        "\n",
        "tool_node = ToolNode(tool_belt)"
      ]
    },
    {
      "cell_type": "code",
      "execution_count": 29,
      "metadata": {},
      "outputs": [],
      "source": [
        "def should_continue(state):\n",
        "    last_message = state[\"messages\"][-1]\n",
        "\n",
        "    if last_message.tool_calls:\n",
        "        return \"action\"\n",
        "    \n",
        "    return END"
      ]
    },
    {
      "cell_type": "markdown",
      "metadata": {},
      "source": [
        "### Building the graph"
      ]
    },
    {
      "cell_type": "code",
      "execution_count": 30,
      "metadata": {},
      "outputs": [
        {
          "data": {
            "image/png": "[encoded data removed]",
            "text/plain": [
              "<IPython.core.display.Image object>"
            ]
          },
          "metadata": {},
          "output_type": "display_data"
        }
      ],
      "source": [
        "from langgraph.graph import StateGraph, END\n",
        "from IPython.display import Image, display\n",
        "\n",
        "uncompiled_graph = StateGraph(AgentState)\n",
        "\n",
        "uncompiled_graph.add_node(\"agent\", call_mode)\n",
        "uncompiled_graph.add_node(\"action\", tool_node)\n",
        "\n",
        "uncompiled_graph.set_entry_point(\"agent\")\n",
        "\n",
        "uncompiled_graph.add_conditional_edges(\n",
        "    \"agent\",\n",
        "    should_continue\n",
        ")\n",
        "\n",
        "uncompiled_graph.add_edge(\"action\", \"agent\")\n",
        "\n",
        "# Compile and display the graph for a visual overview\n",
        "compiled_graph = uncompiled_graph.compile()\n",
        "display(Image(compiled_graph.get_graph(xray=True).draw_mermaid_png()))"
      ]
    },
    {
      "cell_type": "code",
      "execution_count": 31,
      "metadata": {},
      "outputs": [
        {
          "name": "stdout",
          "output_type": "stream",
          "text": [
            "Receiving update from node: 'agent'\n",
            "[AIMessage(content='', additional_kwargs={'tool_calls': [{'id': 'call_ZeF76fzqEqXtzALp8HzRv2r4', 'function': {'arguments': '{\"question\":\"How many days did God take to create the universe according to the Bible?\"}', 'name': 'ai_rag_tool'}, 'type': 'function'}], 'refusal': None}, response_metadata={'token_usage': {'completion_tokens': 31, 'prompt_tokens': 62, 'total_tokens': 93, 'completion_tokens_details': {'accepted_prediction_tokens': 0, 'audio_tokens': 0, 'reasoning_tokens': 0, 'rejected_prediction_tokens': 0}, 'prompt_tokens_details': {'audio_tokens': 0, 'cached_tokens': 0}}, 'model_name': 'gpt-4o-2024-08-06', 'system_fingerprint': 'fp_eb9dce56a8', 'finish_reason': 'tool_calls', 'logprobs': None}, id='run-2eaf2427-6fa4-4d0b-82af-dc173620d262-0', tool_calls=[{'name': 'ai_rag_tool', 'args': {'question': 'How many days did God take to create the universe according to the Bible?'}, 'id': 'call_ZeF76fzqEqXtzALp8HzRv2r4', 'type': 'tool_call'}], usage_metadata={'input_tokens': 62, 'output_tokens': 31, 'total_tokens': 93, 'input_token_details': {'audio': 0, 'cache_read': 0}, 'output_token_details': {'audio': 0, 'reasoning': 0}})]\n",
            "\n",
            "\n",
            "\n",
            "Receiving update from node: 'action'\n",
            "Tool Used: ai_rag_tool\n",
            "[ToolMessage(content='{\\'message\\': [HumanMessage(content=\\'According to the provided context, God took six days to create the universe, and on the seventh day, He rested from all the work that He had done.\\', additional_kwargs={}, response_metadata={})], \\'context\\': [Document(metadata={\\'source\\': \\'data/bible_genesis_en.html\\', \\'_id\\': \\'576fad7a83354555bbd0b2a9f7fca8a2\\', \\'_collection_name\\': \\'genesis_bible\\'}, page_content=\\'[2:2] And on the seventh day God finished the work that he had done, and he rested on the seventh day from all the work that he had done. [2:3] So God blessed the seventh day and hallowed it, because on it God rested from all the work that he had done in creation. [2:4] These are the generations of the heavens and the earth when they were created. In the day that the LORD God made the earth and the heavens, [2:5] when no plant of the field was yet in the earth and no herb of the field had yet sprung up - for the LORD God had not caused it to rain upon the earth, and there was no one to till the ground; [2:6] but a stream would rise from the earth, and water the whole face of the ground - [2:7] then the LORD God formed man from the dust of\\'), Document(metadata={\\'source\\': \\'data/bible_genesis_en.html\\', \\'_id\\': \\'514cff7a09bc493286b6ee4de67b173d\\', \\'_collection_name\\': \\'genesis_bible\\'}, page_content=\\'light Day, and the darkness he called Night. And there was evening and there was morning, the first day. [1:6] And God said, \"Let there be a dome in the midst of the waters, and let it separate the waters from the waters.\" [1:7] So God made the dome and separated the waters that were under the dome from the waters that were above the dome. And it was so. [1:8] God called the dome Sky. And there was evening and there was morning, the second day. [1:9] And God said, \"Let the waters under the sky be gathered together into one place, and let the dry land appear.\" And it was so. [1:10] God called the dry land Earth, and the waters that were gathered together he called Seas. And God saw that it was good. [1:11] Then God said, \"Let the earth put\\'), Document(metadata={\\'source\\': \\'data/bible_genesis_en.html\\', \\'_id\\': \\'32fa752f1a7940b9a9671b65dede2a1d\\', \\'_collection_name\\': \\'genesis_bible\\'}, page_content=\\'THE BOOK OF GENESIS 1 , 2 , 3 , 4 , 5 , 6 , 7 , 8 , 9 , 10 , 11 , 12 , 13 , 14 , 15 , 16 , 17 , 18 , 19 , 20 , 21 , 22 , 23 , 24 , 25 , 26 , 27 , 28 , 29 , 30 , 31 , 32 , 33 , 34 , 35 , 36 , 37 , 38 , 39 , 40 , 41 , 42 , 43 , 44 , 45 , 46 , 47 , 48 , 49 , 50 Chapter 1 [1:1] In the beginning when God created the heavens and the earth, [1:2] the earth was a formless void and darkness covered the face of the deep, while a wind from God swept over the face of the waters. [1:3] Then God said, \"Let there be light\"; and there was light. [1:4] And God saw that the light was good; and God separated the light from the darkness. [1:5] God called the light Day, and the darkness he called Night. And there was evening and there was morning, the first\\'), Document(metadata={\\'source\\': \\'data/bible_genesis_en.html\\', \\'_id\\': \\'8267bacb85e64113bbfe733ba56fb169\\', \\'_collection_name\\': \\'genesis_bible\\'}, page_content=\\'days and forty nights; and every living thing that I have made I will blot out from the face of the ground.\" [7:5] And Noah did all that the LORD had commanded him. [7:6] Noah was six hundred years old when the flood of waters came on the earth. [7:7] And Noah with his sons and his wife and his sons\\\\\\' wives went into the ark to escape the waters of the flood. [7:8] Of clean animals, and of animals that are not clean, and of birds, and of everything that creeps on the ground, [7:9] two and two, male and female, went into the ark with Noah, as God had commanded Noah. [7:10] And after seven days the waters of the flood came on the earth. [7:11] In the six hundredth year of Noah\\\\\\'s life, in the second month, on the seventeenth day of the month,\\'), Document(metadata={\\'source\\': \\'data/bible_genesis_en.html\\', \\'_id\\': \\'811189bcfa874eb6a1355298fc23d099\\', \\'_collection_name\\': \\'genesis_bible\\'}, page_content=\\'together he called Seas. And God saw that it was good. [1:11] Then God said, \"Let the earth put forth vegetation: plants yielding seed, and fruit trees of every kind on earth that bear fruit with the seed in it.\" And it was so. [1:12] The earth brought forth vegetation: plants yielding seed of every kind, and trees of every kind bearing fruit with the seed in it. And God saw that it was good. [1:13] And there was evening and there was morning, the third day. [1:14] And God said, \"Let there be lights in the dome of the sky to separate the day from the night; and let them be for signs and for seasons and for days and years, [1:15] and let them be lights in the dome of the sky to give light upon the earth.\" And it was so. [1:16] God made the\\')]}', name='ai_rag_tool', id='71ae2213-6703-47e7-8264-0c39a57c5f1d', tool_call_id='call_ZeF76fzqEqXtzALp8HzRv2r4')]\n",
            "\n",
            "\n",
            "\n",
            "Receiving update from node: 'agent'\n",
            "[AIMessage(content='According to the Bible, God took six days to create the universe, and on the seventh day, He rested from all the work that He had done.', additional_kwargs={'refusal': None}, response_metadata={'token_usage': {'completion_tokens': 33, 'prompt_tokens': 1463, 'total_tokens': 1496, 'completion_tokens_details': {'accepted_prediction_tokens': 0, 'audio_tokens': 0, 'reasoning_tokens': 0, 'rejected_prediction_tokens': 0}, 'prompt_tokens_details': {'audio_tokens': 0, 'cached_tokens': 0}}, 'model_name': 'gpt-4o-2024-08-06', 'system_fingerprint': 'fp_eb9dce56a8', 'finish_reason': 'stop', 'logprobs': None}, id='run-68b8e3f4-fabc-48cb-bc9a-85d9e5e89c51-0', usage_metadata={'input_tokens': 1463, 'output_tokens': 33, 'total_tokens': 1496, 'input_token_details': {'audio': 0, 'cache_read': 0}, 'output_token_details': {'audio': 0, 'reasoning': 0}})]\n",
            "\n",
            "\n",
            "\n"
          ]
        }
      ],
      "source": [
        "from langchain_core.messages import HumanMessage\n",
        "\n",
        "inputs = {\"messages\" : [HumanMessage(content=\"How many days did GOD take on creation the whole universe?\")]}\n",
        "\n",
        "async for chunk in compiled_graph.astream(inputs, stream_mode=\"updates\"):\n",
        "    for node, values in chunk.items():\n",
        "        print(f\"Receiving update from node: '{node}'\")\n",
        "        if node == \"action\":\n",
        "            print(f\"Tool Used: {values['messages'][0].name}\")\n",
        "        print(values[\"messages\"])\n",
        "        print(\"\\n\\n\")"
      ]
    },
    {
      "cell_type": "code",
      "execution_count": 32,
      "metadata": {},
      "outputs": [
        {
          "name": "stdout",
          "output_type": "stream",
          "text": [
            "Receiving update from node: 'agent'\n",
            "[AIMessage(content='', additional_kwargs={'tool_calls': [{'id': 'call_ToFmtcFoqrGLPrlmYjAR5f1E', 'function': {'arguments': '{\"question\":\"When was the book of Genesis finished?\"}', 'name': 'ai_rag_tool'}, 'type': 'function'}], 'refusal': None}, response_metadata={'token_usage': {'completion_tokens': 24, 'prompt_tokens': 64, 'total_tokens': 88, 'completion_tokens_details': {'accepted_prediction_tokens': 0, 'audio_tokens': 0, 'reasoning_tokens': 0, 'rejected_prediction_tokens': 0}, 'prompt_tokens_details': {'audio_tokens': 0, 'cached_tokens': 0}}, 'model_name': 'gpt-4o-2024-08-06', 'system_fingerprint': 'fp_eb9dce56a8', 'finish_reason': 'tool_calls', 'logprobs': None}, id='run-36dd8e08-4c49-408b-bff5-3a5e83c0953b-0', tool_calls=[{'name': 'ai_rag_tool', 'args': {'question': 'When was the book of Genesis finished?'}, 'id': 'call_ToFmtcFoqrGLPrlmYjAR5f1E', 'type': 'tool_call'}], usage_metadata={'input_tokens': 64, 'output_tokens': 24, 'total_tokens': 88, 'input_token_details': {'audio': 0, 'cache_read': 0}, 'output_token_details': {'audio': 0, 'reasoning': 0}})]\n",
            "\n",
            "\n",
            "\n",
            "Receiving update from node: 'action'\n",
            "Tool Used: ai_rag_tool\n",
            "[ToolMessage(content='{\\'message\\': [HumanMessage(content=\\'The provided context does not specify when the book of Genesis was finished.\\', additional_kwargs={}, response_metadata={})], \\'context\\': [Document(metadata={\\'source\\': \\'data/bible_genesis_en.html\\', \\'_id\\': \\'32fa752f1a7940b9a9671b65dede2a1d\\', \\'_collection_name\\': \\'genesis_bible\\'}, page_content=\\'THE BOOK OF GENESIS 1 , 2 , 3 , 4 , 5 , 6 , 7 , 8 , 9 , 10 , 11 , 12 , 13 , 14 , 15 , 16 , 17 , 18 , 19 , 20 , 21 , 22 , 23 , 24 , 25 , 26 , 27 , 28 , 29 , 30 , 31 , 32 , 33 , 34 , 35 , 36 , 37 , 38 , 39 , 40 , 41 , 42 , 43 , 44 , 45 , 46 , 47 , 48 , 49 , 50 Chapter 1 [1:1] In the beginning when God created the heavens and the earth, [1:2] the earth was a formless void and darkness covered the face of the deep, while a wind from God swept over the face of the waters. [1:3] Then God said, \"Let there be light\"; and there was light. [1:4] And God saw that the light was good; and God separated the light from the darkness. [1:5] God called the light Day, and the darkness he called Night. And there was evening and there was morning, the first\\'), Document(metadata={\\'source\\': \\'data/bible_genesis_en.html\\', \\'_id\\': \\'8267bacb85e64113bbfe733ba56fb169\\', \\'_collection_name\\': \\'genesis_bible\\'}, page_content=\\'days and forty nights; and every living thing that I have made I will blot out from the face of the ground.\" [7:5] And Noah did all that the LORD had commanded him. [7:6] Noah was six hundred years old when the flood of waters came on the earth. [7:7] And Noah with his sons and his wife and his sons\\\\\\' wives went into the ark to escape the waters of the flood. [7:8] Of clean animals, and of animals that are not clean, and of birds, and of everything that creeps on the ground, [7:9] two and two, male and female, went into the ark with Noah, as God had commanded Noah. [7:10] And after seven days the waters of the flood came on the earth. [7:11] In the six hundredth year of Noah\\\\\\'s life, in the second month, on the seventeenth day of the month,\\'), Document(metadata={\\'source\\': \\'data/bible_genesis_en.html\\', \\'_id\\': \\'576fad7a83354555bbd0b2a9f7fca8a2\\', \\'_collection_name\\': \\'genesis_bible\\'}, page_content=\\'[2:2] And on the seventh day God finished the work that he had done, and he rested on the seventh day from all the work that he had done. [2:3] So God blessed the seventh day and hallowed it, because on it God rested from all the work that he had done in creation. [2:4] These are the generations of the heavens and the earth when they were created. In the day that the LORD God made the earth and the heavens, [2:5] when no plant of the field was yet in the earth and no herb of the field had yet sprung up - for the LORD God had not caused it to rain upon the earth, and there was no one to till the ground; [2:6] but a stream would rise from the earth, and water the whole face of the ground - [2:7] then the LORD God formed man from the dust of\\'), Document(metadata={\\'source\\': \\'data/bible_genesis_en.html\\', \\'_id\\': \\'a65532d3c9dc4ef9a63be0abea1a8591\\', \\'_collection_name\\': \\'genesis_bible\\'}, page_content=\\'every living thing that moves upon the earth.\" [1:29] God said, \"See, I have given you every plant yielding seed that is upon the face of all the earth, and every tree with seed in its fruit; you shall have them for food. [1:30] And to every beast of the earth, and to every bird of the air, and to everything that creeps on the earth, everything that has the breath of life, I have given every green plant for food.\" And it was so. [1:31] God saw everything that he had made, and indeed, it was very good. And there was evening and there was morning, the sixth day. Chapter 2 [2:1] Thus the heavens and the earth were finished, and all their multitude. [2:2] And on the seventh day God finished the work that he had done, and he rested on the\\'), Document(metadata={\\'source\\': \\'data/bible_genesis_en.html\\', \\'_id\\': \\'70da81ff8ef44a8b914681916f8aa5a6\\', \\'_collection_name\\': \\'genesis_bible\\'}, page_content=\\'and it grieved him to his heart. [6:7] So the LORD said, \"I will blot out from the earth the human beings I have created - people together with animals and creeping things and birds of the air, for I am sorry that I have made them.\" [6:8] But Noah found favor in the sight of the LORD. [6:9] These are the descendants of Noah. Noah was a righteous man, blameless in his generation; Noah walked with God. [6:10] And Noah had three sons, Shem, Ham, and Japheth. [6:11] Now the earth was corrupt in God\\\\\\'s sight, and the earth was filled with violence. [6:12] And God saw that the earth was corrupt; for all flesh had corrupted its ways upon the earth. [6:13] And God said to Noah, \"I have determined to make an end of all flesh, for the earth is filled\\')]}', name='ai_rag_tool', id='fe5e831c-aaf8-4e1a-9b26-4f48122eb5e7', tool_call_id='call_ToFmtcFoqrGLPrlmYjAR5f1E')]\n",
            "\n",
            "\n",
            "\n",
            "Receiving update from node: 'agent'\n",
            "[AIMessage(content='The exact date when the Book of Genesis was finished is not specified in historical records. Traditionally, it is believed to have been written by Moses, and its composition is often dated to around the 15th century BCE, during the time of the Exodus. However, the exact date of its completion remains uncertain and is a topic of scholarly debate.', additional_kwargs={'refusal': None}, response_metadata={'token_usage': {'completion_tokens': 71, 'prompt_tokens': 1450, 'total_tokens': 1521, 'completion_tokens_details': {'accepted_prediction_tokens': 0, 'audio_tokens': 0, 'reasoning_tokens': 0, 'rejected_prediction_tokens': 0}, 'prompt_tokens_details': {'audio_tokens': 0, 'cached_tokens': 0}}, 'model_name': 'gpt-4o-2024-08-06', 'system_fingerprint': 'fp_eb9dce56a8', 'finish_reason': 'stop', 'logprobs': None}, id='run-48748027-e2e7-4c16-a45f-b239afa94d02-0', usage_metadata={'input_tokens': 1450, 'output_tokens': 71, 'total_tokens': 1521, 'input_token_details': {'audio': 0, 'cache_read': 0}, 'output_token_details': {'audio': 0, 'reasoning': 0}})]\n",
            "\n",
            "\n",
            "\n"
          ]
        }
      ],
      "source": [
        "from langchain_core.messages import HumanMessage\n",
        "\n",
        "inputs = {\"messages\" : [HumanMessage(content=\"Could you please tell me when was the book of Genesis was finished?\")]}\n",
        "\n",
        "async for chunk in compiled_graph.astream(inputs, stream_mode=\"updates\"):\n",
        "    for node, values in chunk.items():\n",
        "        print(f\"Receiving update from node: '{node}'\")\n",
        "        if node == \"action\":\n",
        "            print(f\"Tool Used: {values['messages'][0].name}\")\n",
        "        print(values[\"messages\"])\n",
        "        print(\"\\n\\n\")"
      ]
    },
    {
      "cell_type": "markdown",
      "metadata": {},
      "source": [
        "## Task 5: Creating a Golden Test Data Set"
      ]
    },
    {
      "cell_type": "markdown",
      "metadata": {},
      "source": [
        "### Ragas Baseline"
      ]
    },
    {
      "cell_type": "markdown",
      "metadata": {},
      "source": [
        "#### Abstracted SDG"
      ]
    },
    {
      "cell_type": "code",
      "execution_count": 33,
      "metadata": {},
      "outputs": [],
      "source": [
        "from ragas.llms import LangchainLLMWrapper\n",
        "from ragas.embeddings import LangchainEmbeddingsWrapper\n",
        "from langchain_openai import ChatOpenAI\n",
        "from langchain_openai import OpenAIEmbeddings\n",
        "\n",
        "model = init_chat_model(\"gpt-4o\", temperature=0, rate_limiter=rate_limiter)\n",
        "\n",
        "generator_llm = LangchainLLMWrapper(model)\n",
        "generator_embeddings = LangchainEmbeddingsWrapper(OpenAIEmbeddings())"
      ]
    },
    {
      "cell_type": "code",
      "execution_count": 34,
      "metadata": {},
      "outputs": [
        {
          "data": {
            "application/vnd.jupyter.widget-view+json": {
              "model_id": "99883bce649744ca93d720928f793063",
              "version_major": 2,
              "version_minor": 0
            },
            "text/plain": [
              "Applying HeadlinesExtractor:   0%|          | 0/1 [00:00<?, ?it/s]"
            ]
          },
          "metadata": {},
          "output_type": "display_data"
        },
        {
          "data": {
            "application/vnd.jupyter.widget-view+json": {
              "model_id": "3ce64206b5b14077a751718594bba52f",
              "version_major": 2,
              "version_minor": 0
            },
            "text/plain": [
              "Applying HeadlineSplitter:   0%|          | 0/1 [00:00<?, ?it/s]"
            ]
          },
          "metadata": {},
          "output_type": "display_data"
        },
        {
          "data": {
            "application/vnd.jupyter.widget-view+json": {
              "model_id": "59c792d5a7c94476bb36dc43bfff0d5a",
              "version_major": 2,
              "version_minor": 0
            },
            "text/plain": [
              "Applying SummaryExtractor:   0%|          | 0/1 [00:00<?, ?it/s]"
            ]
          },
          "metadata": {},
          "output_type": "display_data"
        },
        {
          "data": {
            "application/vnd.jupyter.widget-view+json": {
              "model_id": "6102e65b0796473bb38c0878c42db484",
              "version_major": 2,
              "version_minor": 0
            },
            "text/plain": [
              "Applying CustomNodeFilter:   0%|          | 0/42 [00:00<?, ?it/s]"
            ]
          },
          "metadata": {},
          "output_type": "display_data"
        },
        {
          "data": {
            "application/vnd.jupyter.widget-view+json": {
              "model_id": "da4d95333b4f4cc2ba7a316bd403f649",
              "version_major": 2,
              "version_minor": 0
            },
            "text/plain": [
              "Applying [EmbeddingExtractor, ThemesExtractor, NERExtractor]:   0%|          | 0/61 [00:00<?, ?it/s]"
            ]
          },
          "metadata": {},
          "output_type": "display_data"
        },
        {
          "data": {
            "application/vnd.jupyter.widget-view+json": {
              "model_id": "4a8890df34cc45d680fb3cf8dd7cc602",
              "version_major": 2,
              "version_minor": 0
            },
            "text/plain": [
              "Applying [CosineSimilarityBuilder, OverlapScoreBuilder]:   0%|          | 0/2 [00:00<?, ?it/s]"
            ]
          },
          "metadata": {},
          "output_type": "display_data"
        },
        {
          "data": {
            "application/vnd.jupyter.widget-view+json": {
              "model_id": "31e90dd09b6749ee9bd0e8c850c3c69e",
              "version_major": 2,
              "version_minor": 0
            },
            "text/plain": [
              "Generating personas:   0%|          | 0/1 [00:00<?, ?it/s]"
            ]
          },
          "metadata": {},
          "output_type": "display_data"
        },
        {
          "data": {
            "application/vnd.jupyter.widget-view+json": {
              "model_id": "121bdbd2b6584ed289ba212865fe1330",
              "version_major": 2,
              "version_minor": 0
            },
            "text/plain": [
              "Generating Scenarios:   0%|          | 0/2 [00:00<?, ?it/s]"
            ]
          },
          "metadata": {},
          "output_type": "display_data"
        },
        {
          "data": {
            "application/vnd.jupyter.widget-view+json": {
              "model_id": "92d7847a45dc4c2f9bac8b1c4fb30c1e",
              "version_major": 2,
              "version_minor": 0
            },
            "text/plain": [
              "Generating Samples:   0%|          | 0/10 [00:00<?, ?it/s]"
            ]
          },
          "metadata": {},
          "output_type": "display_data"
        }
      ],
      "source": [
        "from ragas.testset import TestsetGenerator\n",
        "\n",
        "generator = TestsetGenerator(llm=generator_llm, embedding_model=generator_embeddings)\n",
        "dataset = generator.generate_with_langchain_docs(docs, testset_size=10)"
      ]
    },
    {
      "cell_type": "code",
      "execution_count": 35,
      "metadata": {},
      "outputs": [
        {
          "data": {
            "text/html": [
              "<div>\n",
              "<style scoped>\n",
              "    .dataframe tbody tr th:only-of-type {\n",
              "        vertical-align: middle;\n",
              "    }\n",
              "\n",
              "    .dataframe tbody tr th {\n",
              "        vertical-align: top;\n",
              "    }\n",
              "\n",
              "    .dataframe thead th {\n",
              "        text-align: right;\n",
              "    }\n",
              "</style>\n",
              "<table border=\"1\" class=\"dataframe\">\n",
              "  <thead>\n",
              "    <tr style=\"text-align: right;\">\n",
              "      <th></th>\n",
              "      <th>user_input</th>\n",
              "      <th>reference_contexts</th>\n",
              "      <th>reference</th>\n",
              "      <th>synthesizer_name</th>\n",
              "    </tr>\n",
              "  </thead>\n",
              "  <tbody>\n",
              "    <tr>\n",
              "      <th>0</th>\n",
              "      <td>What role does the dome play in the creation n...</td>\n",
              "      <td>[Chapter 1 [1:1] In the beginning when God cre...</td>\n",
              "      <td>In the creation narrative, the dome is created...</td>\n",
              "      <td>single_hop_specifc_query_synthesizer</td>\n",
              "    </tr>\n",
              "    <tr>\n",
              "      <th>1</th>\n",
              "      <td>In the context of the creation narrative found...</td>\n",
              "      <td>[Chapter 2 [2:1] Thus the heavens and the eart...</td>\n",
              "      <td>In the creation narrative of Genesis, the Euph...</td>\n",
              "      <td>single_hop_specifc_query_synthesizer</td>\n",
              "    </tr>\n",
              "    <tr>\n",
              "      <th>2</th>\n",
              "      <td>Why LORD God make man leave garden?</td>\n",
              "      <td>[Chapter 3 [3:1] Now the serpent was more craf...</td>\n",
              "      <td>The LORD God sent the man forth from the garde...</td>\n",
              "      <td>single_hop_specifc_query_synthesizer</td>\n",
              "    </tr>\n",
              "    <tr>\n",
              "      <th>3</th>\n",
              "      <td>Who was Eve in the context of Genesis Chapter 4?</td>\n",
              "      <td>[Chapter 4 [4:1] Now the man knew his wife Eve...</td>\n",
              "      <td>Eve was the wife of Adam and the mother of Cai...</td>\n",
              "      <td>single_hop_specifc_query_synthesizer</td>\n",
              "    </tr>\n",
              "    <tr>\n",
              "      <th>4</th>\n",
              "      <td>What is the significance of Jared in the genea...</td>\n",
              "      <td>[Chapter 5 [5:1] This is the list of the desce...</td>\n",
              "      <td>Jared is significant in the genealogy of Adam ...</td>\n",
              "      <td>single_hop_specifc_query_synthesizer</td>\n",
              "    </tr>\n",
              "    <tr>\n",
              "      <th>5</th>\n",
              "      <td>Why Jacob go to Bethel and what happen with hi...</td>\n",
              "      <td>[&lt;1-hop&gt;\\n\\nChapter 35 [35:1] God said to Jaco...</td>\n",
              "      <td>Jacob went to Bethel because God told him to a...</td>\n",
              "      <td>multi_hop_specific_query_synthesizer</td>\n",
              "    </tr>\n",
              "    <tr>\n",
              "      <th>6</th>\n",
              "      <td>How did Sarai's journey with Abram from Ur of ...</td>\n",
              "      <td>[&lt;1-hop&gt;\\n\\nher mother said, \"Let the girl rem...</td>\n",
              "      <td>Sarai, Abram's wife, initially journeyed with ...</td>\n",
              "      <td>multi_hop_specific_query_synthesizer</td>\n",
              "    </tr>\n",
              "    <tr>\n",
              "      <th>7</th>\n",
              "      <td>How did the Israelites, led by Jacob, end up i...</td>\n",
              "      <td>[&lt;1-hop&gt;\\n\\nChapter 37 [37:1] Jacob settled in...</td>\n",
              "      <td>The Israelites, led by Jacob, ended up in Egyp...</td>\n",
              "      <td>multi_hop_specific_query_synthesizer</td>\n",
              "    </tr>\n",
              "    <tr>\n",
              "      <th>8</th>\n",
              "      <td>How does the significance of Shechem in Abram'...</td>\n",
              "      <td>[&lt;1-hop&gt;\\n\\nand his daughter-in-law Sarai, his...</td>\n",
              "      <td>In Abram's journey, Shechem is significant as ...</td>\n",
              "      <td>multi_hop_specific_query_synthesizer</td>\n",
              "    </tr>\n",
              "    <tr>\n",
              "      <th>9</th>\n",
              "      <td>What is the significance of Zebulun's settleme...</td>\n",
              "      <td>[&lt;1-hop&gt;\\n\\nfather laid his right hand on the ...</td>\n",
              "      <td>In Jacob's blessings to his sons, Zebulun is p...</td>\n",
              "      <td>multi_hop_specific_query_synthesizer</td>\n",
              "    </tr>\n",
              "  </tbody>\n",
              "</table>\n",
              "</div>"
            ],
            "text/plain": [
              "                                          user_input  \\\n",
              "0  What role does the dome play in the creation n...   \n",
              "1  In the context of the creation narrative found...   \n",
              "2                Why LORD God make man leave garden?   \n",
              "3   Who was Eve in the context of Genesis Chapter 4?   \n",
              "4  What is the significance of Jared in the genea...   \n",
              "5  Why Jacob go to Bethel and what happen with hi...   \n",
              "6  How did Sarai's journey with Abram from Ur of ...   \n",
              "7  How did the Israelites, led by Jacob, end up i...   \n",
              "8  How does the significance of Shechem in Abram'...   \n",
              "9  What is the significance of Zebulun's settleme...   \n",
              "\n",
              "                                  reference_contexts  \\\n",
              "0  [Chapter 1 [1:1] In the beginning when God cre...   \n",
              "1  [Chapter 2 [2:1] Thus the heavens and the eart...   \n",
              "2  [Chapter 3 [3:1] Now the serpent was more craf...   \n",
              "3  [Chapter 4 [4:1] Now the man knew his wife Eve...   \n",
              "4  [Chapter 5 [5:1] This is the list of the desce...   \n",
              "5  [<1-hop>\\n\\nChapter 35 [35:1] God said to Jaco...   \n",
              "6  [<1-hop>\\n\\nher mother said, \"Let the girl rem...   \n",
              "7  [<1-hop>\\n\\nChapter 37 [37:1] Jacob settled in...   \n",
              "8  [<1-hop>\\n\\nand his daughter-in-law Sarai, his...   \n",
              "9  [<1-hop>\\n\\nfather laid his right hand on the ...   \n",
              "\n",
              "                                           reference  \\\n",
              "0  In the creation narrative, the dome is created...   \n",
              "1  In the creation narrative of Genesis, the Euph...   \n",
              "2  The LORD God sent the man forth from the garde...   \n",
              "3  Eve was the wife of Adam and the mother of Cai...   \n",
              "4  Jared is significant in the genealogy of Adam ...   \n",
              "5  Jacob went to Bethel because God told him to a...   \n",
              "6  Sarai, Abram's wife, initially journeyed with ...   \n",
              "7  The Israelites, led by Jacob, ended up in Egyp...   \n",
              "8  In Abram's journey, Shechem is significant as ...   \n",
              "9  In Jacob's blessings to his sons, Zebulun is p...   \n",
              "\n",
              "                       synthesizer_name  \n",
              "0  single_hop_specifc_query_synthesizer  \n",
              "1  single_hop_specifc_query_synthesizer  \n",
              "2  single_hop_specifc_query_synthesizer  \n",
              "3  single_hop_specifc_query_synthesizer  \n",
              "4  single_hop_specifc_query_synthesizer  \n",
              "5  multi_hop_specific_query_synthesizer  \n",
              "6  multi_hop_specific_query_synthesizer  \n",
              "7  multi_hop_specific_query_synthesizer  \n",
              "8  multi_hop_specific_query_synthesizer  \n",
              "9  multi_hop_specific_query_synthesizer  "
            ]
          },
          "execution_count": 35,
          "metadata": {},
          "output_type": "execute_result"
        }
      ],
      "source": [
        "dataset.to_pandas()"
      ]
    },
    {
      "cell_type": "code",
      "execution_count": 36,
      "metadata": {},
      "outputs": [
        {
          "name": "stdout",
          "output_type": "stream",
          "text": [
            "Testset uploaded! View at https://app.ragas.io/dashboard/alignment/testset/466d70a0-ca95-48f8-8f3b-50f05d09583d\n"
          ]
        },
        {
          "data": {
            "text/plain": [
              "'https://app.ragas.io/dashboard/alignment/testset/466d70a0-ca95-48f8-8f3b-50f05d09583d'"
            ]
          },
          "execution_count": 36,
          "metadata": {},
          "output_type": "execute_result"
        }
      ],
      "source": [
        "dataset.upload()"
      ]
    },
    {
      "cell_type": "markdown",
      "metadata": {},
      "source": [
        "### Evaluating the RAG with Ragas"
      ]
    },
    {
      "cell_type": "code",
      "execution_count": 37,
      "metadata": {},
      "outputs": [],
      "source": [
        "from langchain_core.messages import HumanMessage\n",
        "\n",
        "messages = [HumanMessage(content=\"How many days did GOD take on creation the whole universe?\")]\n",
        "result = compiled_graph.invoke({\"messages\": messages})"
      ]
    },
    {
      "cell_type": "code",
      "execution_count": 38,
      "metadata": {},
      "outputs": [
        {
          "data": {
            "text/plain": [
              "['[2:2] And on the seventh day God finished the work that he had done, and he rested on the seventh day from all the work that he had done. [2:3] So God blessed the seventh day and hallowed it, because on it God rested from all the work that he had done in creation. [2:4] These are the generations of the heavens and the earth when they were created. In the day that the LORD God made the earth and the heavens, [2:5] when no plant of the field was yet in the earth and no herb of the field had yet sprung up - for the LORD God had not caused it to rain upon the earth, and there was no one to till the ground; [2:6] but a stream would rise from the earth, and water the whole face of the ground - [2:7] then the LORD God formed man from the dust of',\n",
              " 'light Day, and the darkness he called Night. And there was evening and there was morning, the first day. [1:6] And God said, \"Let there be a dome in the midst of the waters, and let it separate the waters from the waters.\" [1:7] So God made the dome and separated the waters that were under the dome from the waters that were above the dome. And it was so. [1:8] God called the dome Sky. And there was evening and there was morning, the second day. [1:9] And God said, \"Let the waters under the sky be gathered together into one place, and let the dry land appear.\" And it was so. [1:10] God called the dry land Earth, and the waters that were gathered together he called Seas. And God saw that it was good. [1:11] Then God said, \"Let the earth put',\n",
              " 'THE BOOK OF GENESIS 1 , 2 , 3 , 4 , 5 , 6 , 7 , 8 , 9 , 10 , 11 , 12 , 13 , 14 , 15 , 16 , 17 , 18 , 19 , 20 , 21 , 22 , 23 , 24 , 25 , 26 , 27 , 28 , 29 , 30 , 31 , 32 , 33 , 34 , 35 , 36 , 37 , 38 , 39 , 40 , 41 , 42 , 43 , 44 , 45 , 46 , 47 , 48 , 49 , 50 Chapter 1 [1:1] In the beginning when God created the heavens and the earth, [1:2] the earth was a formless void and darkness covered the face of the deep, while a wind from God swept over the face of the waters. [1:3] Then God said, \"Let there be light\"; and there was light. [1:4] And God saw that the light was good; and God separated the light from the darkness. [1:5] God called the light Day, and the darkness he called Night. And there was evening and there was morning, the first',\n",
              " 'days and forty nights; and every living thing that I have made I will blot out from the face of the ground.\" [7:5] And Noah did all that the LORD had commanded him. [7:6] Noah was six hundred years old when the flood of waters came on the earth. [7:7] And Noah with his sons and his wife and his sons\\\\',\n",
              " 'together he called Seas. And God saw that it was good. [1:11] Then God said, \"Let the earth put forth vegetation: plants yielding seed, and fruit trees of every kind on earth that bear fruit with the seed in it.\" And it was so. [1:12] The earth brought forth vegetation: plants yielding seed of every kind, and trees of every kind bearing fruit with the seed in it. And God saw that it was good. [1:13] And there was evening and there was morning, the third day. [1:14] And God said, \"Let there be lights in the dome of the sky to separate the day from the night; and let them be for signs and for seasons and for days and years, [1:15] and let them be lights in the dome of the sky to give light upon the earth.\" And it was so. [1:16] God made the']"
            ]
          },
          "execution_count": 38,
          "metadata": {},
          "output_type": "execute_result"
        }
      ],
      "source": [
        "import re\n",
        "\n",
        "def extract_page_content(tool_message_str):\n",
        "    # Pattern to match page_content='...' sections\n",
        "    pattern = r\"page_content='([^']*)'[^']*\"\n",
        "    \n",
        "    # Find all matches\n",
        "    matches = re.findall(pattern, tool_message_str)\n",
        "    \n",
        "    return matches\n",
        "\n",
        "\n",
        "\n",
        "extract_page_content(result[\"messages\"][-2].content)"
      ]
    },
    {
      "cell_type": "code",
      "execution_count": 39,
      "metadata": {},
      "outputs": [],
      "source": [
        "import time\n",
        "\n",
        "for test_row in dataset:\n",
        "    inputs = {\"messages\": [HumanMessage(content=test_row.eval_sample.user_input)]}\n",
        "    response = compiled_graph.invoke(inputs)\n",
        "    test_row.eval_sample.response = response[\"messages\"][-1].content\n",
        "    test_row.eval_sample.retrieved_contexts = extract_page_content(response[\"messages\"][-2].content)\n",
        "    time.sleep(60)\n"
      ]
    },
    {
      "cell_type": "markdown",
      "metadata": {},
      "source": [
        "✅ Deliverables\n",
        "\n",
        "#### A Golden Test Dataset"
      ]
    },
    {
      "cell_type": "code",
      "execution_count": 40,
      "metadata": {},
      "outputs": [
        {
          "data": {
            "text/html": [
              "<div>\n",
              "<style scoped>\n",
              "    .dataframe tbody tr th:only-of-type {\n",
              "        vertical-align: middle;\n",
              "    }\n",
              "\n",
              "    .dataframe tbody tr th {\n",
              "        vertical-align: top;\n",
              "    }\n",
              "\n",
              "    .dataframe thead th {\n",
              "        text-align: right;\n",
              "    }\n",
              "</style>\n",
              "<table border=\"1\" class=\"dataframe\">\n",
              "  <thead>\n",
              "    <tr style=\"text-align: right;\">\n",
              "      <th></th>\n",
              "      <th>user_input</th>\n",
              "      <th>retrieved_contexts</th>\n",
              "      <th>reference_contexts</th>\n",
              "      <th>response</th>\n",
              "      <th>reference</th>\n",
              "      <th>synthesizer_name</th>\n",
              "    </tr>\n",
              "  </thead>\n",
              "  <tbody>\n",
              "    <tr>\n",
              "      <th>0</th>\n",
              "      <td>What role does the dome play in the creation n...</td>\n",
              "      <td>[light Day, and the darkness he called Night. ...</td>\n",
              "      <td>[Chapter 1 [1:1] In the beginning when God cre...</td>\n",
              "      <td>In the creation narrative, the dome plays a si...</td>\n",
              "      <td>In the creation narrative, the dome is created...</td>\n",
              "      <td>single_hop_specifc_query_synthesizer</td>\n",
              "    </tr>\n",
              "    <tr>\n",
              "      <th>1</th>\n",
              "      <td>In the context of the creation narrative found...</td>\n",
              "      <td>[is Pishon; it is the one that flows around th...</td>\n",
              "      <td>[Chapter 2 [2:1] Thus the heavens and the eart...</td>\n",
              "      <td>In the creation narrative found in Genesis, th...</td>\n",
              "      <td>In the creation narrative of Genesis, the Euph...</td>\n",
              "      <td>single_hop_specifc_query_synthesizer</td>\n",
              "    </tr>\n",
              "    <tr>\n",
              "      <th>2</th>\n",
              "      <td>Why LORD God make man leave garden?</td>\n",
              "      <td>[for out of it you were taken; you are dust, a...</td>\n",
              "      <td>[Chapter 3 [3:1] Now the serpent was more craf...</td>\n",
              "      <td>The LORD God made man leave the Garden of Eden...</td>\n",
              "      <td>The LORD God sent the man forth from the garde...</td>\n",
              "      <td>single_hop_specifc_query_synthesizer</td>\n",
              "    </tr>\n",
              "    <tr>\n",
              "      <th>3</th>\n",
              "      <td>Who was Eve in the context of Genesis Chapter 4?</td>\n",
              "      <td>[for out of it you were taken; you are dust, a...</td>\n",
              "      <td>[Chapter 4 [4:1] Now the man knew his wife Eve...</td>\n",
              "      <td>In Genesis Chapter 4, Eve is described as the ...</td>\n",
              "      <td>Eve was the wife of Adam and the mother of Cai...</td>\n",
              "      <td>single_hop_specifc_query_synthesizer</td>\n",
              "    </tr>\n",
              "    <tr>\n",
              "      <th>4</th>\n",
              "      <td>What is the significance of Jared in the genea...</td>\n",
              "      <td>[and it grieved him to his heart. [6:7] So the...</td>\n",
              "      <td>[Chapter 5 [5:1] This is the list of the desce...</td>\n",
              "      <td>Jared is a figure mentioned in the genealogy o...</td>\n",
              "      <td>Jared is significant in the genealogy of Adam ...</td>\n",
              "      <td>single_hop_specifc_query_synthesizer</td>\n",
              "    </tr>\n",
              "    <tr>\n",
              "      <th>5</th>\n",
              "      <td>Why Jacob go to Bethel and what happen with hi...</td>\n",
              "      <td>[that the sons of Laban were saying, \"Jacob ha...</td>\n",
              "      <td>[&lt;1-hop&gt;\\n\\nChapter 35 [35:1] God said to Jaco...</td>\n",
              "      <td>Jacob went to Bethel because the LORD instruct...</td>\n",
              "      <td>Jacob went to Bethel because God told him to a...</td>\n",
              "      <td>multi_hop_specific_query_synthesizer</td>\n",
              "    </tr>\n",
              "    <tr>\n",
              "      <th>6</th>\n",
              "      <td>How did Sarai's journey with Abram from Ur of ...</td>\n",
              "      <td>[the famine was severe in the land. [12:11] Wh...</td>\n",
              "      <td>[&lt;1-hop&gt;\\n\\nher mother said, \"Let the girl rem...</td>\n",
              "      <td>Sarai's journey with Abram from Ur of the Chal...</td>\n",
              "      <td>Sarai, Abram's wife, initially journeyed with ...</td>\n",
              "      <td>multi_hop_specific_query_synthesizer</td>\n",
              "    </tr>\n",
              "    <tr>\n",
              "      <th>7</th>\n",
              "      <td>How did the Israelites, led by Jacob, end up i...</td>\n",
              "      <td>[[47:1] So Joseph went and told Pharaoh, \"My f...</td>\n",
              "      <td>[&lt;1-hop&gt;\\n\\nChapter 37 [37:1] Jacob settled in...</td>\n",
              "      <td>The Israelites, led by Jacob, ended up in Egyp...</td>\n",
              "      <td>The Israelites, led by Jacob, ended up in Egyp...</td>\n",
              "      <td>multi_hop_specific_query_synthesizer</td>\n",
              "    </tr>\n",
              "    <tr>\n",
              "      <th>8</th>\n",
              "      <td>How does the significance of Shechem in Abram'...</td>\n",
              "      <td>[Jacob came in from the field. When they heard...</td>\n",
              "      <td>[&lt;1-hop&gt;\\n\\nand his daughter-in-law Sarai, his...</td>\n",
              "      <td>The significance of Shechem in Abram's journey...</td>\n",
              "      <td>In Abram's journey, Shechem is significant as ...</td>\n",
              "      <td>multi_hop_specific_query_synthesizer</td>\n",
              "    </tr>\n",
              "    <tr>\n",
              "      <th>9</th>\n",
              "      <td>What is the significance of Zebulun's settleme...</td>\n",
              "      <td>[that the sons of Laban were saying, \"Jacob ha...</td>\n",
              "      <td>[&lt;1-hop&gt;\\n\\nfather laid his right hand on the ...</td>\n",
              "      <td>The significance of Zebulun's settlement by th...</td>\n",
              "      <td>In Jacob's blessings to his sons, Zebulun is p...</td>\n",
              "      <td>multi_hop_specific_query_synthesizer</td>\n",
              "    </tr>\n",
              "  </tbody>\n",
              "</table>\n",
              "</div>"
            ],
            "text/plain": [
              "                                          user_input  \\\n",
              "0  What role does the dome play in the creation n...   \n",
              "1  In the context of the creation narrative found...   \n",
              "2                Why LORD God make man leave garden?   \n",
              "3   Who was Eve in the context of Genesis Chapter 4?   \n",
              "4  What is the significance of Jared in the genea...   \n",
              "5  Why Jacob go to Bethel and what happen with hi...   \n",
              "6  How did Sarai's journey with Abram from Ur of ...   \n",
              "7  How did the Israelites, led by Jacob, end up i...   \n",
              "8  How does the significance of Shechem in Abram'...   \n",
              "9  What is the significance of Zebulun's settleme...   \n",
              "\n",
              "                                  retrieved_contexts  \\\n",
              "0  [light Day, and the darkness he called Night. ...   \n",
              "1  [is Pishon; it is the one that flows around th...   \n",
              "2  [for out of it you were taken; you are dust, a...   \n",
              "3  [for out of it you were taken; you are dust, a...   \n",
              "4  [and it grieved him to his heart. [6:7] So the...   \n",
              "5  [that the sons of Laban were saying, \"Jacob ha...   \n",
              "6  [the famine was severe in the land. [12:11] Wh...   \n",
              "7  [[47:1] So Joseph went and told Pharaoh, \"My f...   \n",
              "8  [Jacob came in from the field. When they heard...   \n",
              "9  [that the sons of Laban were saying, \"Jacob ha...   \n",
              "\n",
              "                                  reference_contexts  \\\n",
              "0  [Chapter 1 [1:1] In the beginning when God cre...   \n",
              "1  [Chapter 2 [2:1] Thus the heavens and the eart...   \n",
              "2  [Chapter 3 [3:1] Now the serpent was more craf...   \n",
              "3  [Chapter 4 [4:1] Now the man knew his wife Eve...   \n",
              "4  [Chapter 5 [5:1] This is the list of the desce...   \n",
              "5  [<1-hop>\\n\\nChapter 35 [35:1] God said to Jaco...   \n",
              "6  [<1-hop>\\n\\nher mother said, \"Let the girl rem...   \n",
              "7  [<1-hop>\\n\\nChapter 37 [37:1] Jacob settled in...   \n",
              "8  [<1-hop>\\n\\nand his daughter-in-law Sarai, his...   \n",
              "9  [<1-hop>\\n\\nfather laid his right hand on the ...   \n",
              "\n",
              "                                            response  \\\n",
              "0  In the creation narrative, the dome plays a si...   \n",
              "1  In the creation narrative found in Genesis, th...   \n",
              "2  The LORD God made man leave the Garden of Eden...   \n",
              "3  In Genesis Chapter 4, Eve is described as the ...   \n",
              "4  Jared is a figure mentioned in the genealogy o...   \n",
              "5  Jacob went to Bethel because the LORD instruct...   \n",
              "6  Sarai's journey with Abram from Ur of the Chal...   \n",
              "7  The Israelites, led by Jacob, ended up in Egyp...   \n",
              "8  The significance of Shechem in Abram's journey...   \n",
              "9  The significance of Zebulun's settlement by th...   \n",
              "\n",
              "                                           reference  \\\n",
              "0  In the creation narrative, the dome is created...   \n",
              "1  In the creation narrative of Genesis, the Euph...   \n",
              "2  The LORD God sent the man forth from the garde...   \n",
              "3  Eve was the wife of Adam and the mother of Cai...   \n",
              "4  Jared is significant in the genealogy of Adam ...   \n",
              "5  Jacob went to Bethel because God told him to a...   \n",
              "6  Sarai, Abram's wife, initially journeyed with ...   \n",
              "7  The Israelites, led by Jacob, ended up in Egyp...   \n",
              "8  In Abram's journey, Shechem is significant as ...   \n",
              "9  In Jacob's blessings to his sons, Zebulun is p...   \n",
              "\n",
              "                       synthesizer_name  \n",
              "0  single_hop_specifc_query_synthesizer  \n",
              "1  single_hop_specifc_query_synthesizer  \n",
              "2  single_hop_specifc_query_synthesizer  \n",
              "3  single_hop_specifc_query_synthesizer  \n",
              "4  single_hop_specifc_query_synthesizer  \n",
              "5  multi_hop_specific_query_synthesizer  \n",
              "6  multi_hop_specific_query_synthesizer  \n",
              "7  multi_hop_specific_query_synthesizer  \n",
              "8  multi_hop_specific_query_synthesizer  \n",
              "9  multi_hop_specific_query_synthesizer  "
            ]
          },
          "execution_count": 40,
          "metadata": {},
          "output_type": "execute_result"
        }
      ],
      "source": [
        "dataset.to_pandas()"
      ]
    },
    {
      "cell_type": "code",
      "execution_count": 41,
      "metadata": {},
      "outputs": [],
      "source": [
        "from ragas import EvaluationDataset\n",
        "\n",
        "evaluation_dataset = EvaluationDataset.from_pandas(dataset.to_pandas())"
      ]
    },
    {
      "cell_type": "code",
      "execution_count": 42,
      "metadata": {},
      "outputs": [],
      "source": [
        "from ragas import evaluate\n",
        "from ragas.llms import LangchainLLMWrapper\n",
        "\n",
        "evaluator_llm = LangchainLLMWrapper(init_chat_model(\"gpt-4o\", temperature=0, rate_limiter=rate_limiter))"
      ]
    },
    {
      "cell_type": "code",
      "execution_count": 43,
      "metadata": {},
      "outputs": [
        {
          "data": {
            "application/vnd.jupyter.widget-view+json": {
              "model_id": "42aa9643e8224cb5b72b65b22d785e5c",
              "version_major": 2,
              "version_minor": 0
            },
            "text/plain": [
              "Evaluating:   0%|          | 0/60 [00:00<?, ?it/s]"
            ]
          },
          "metadata": {},
          "output_type": "display_data"
        },
        {
          "name": "stderr",
          "output_type": "stream",
          "text": [
            "Exception raised in Job[53]: RateLimitError(Error code: 429 - {'error': {'message': 'You exceeded your current quota, please check your plan and billing details. For more information on this error, read the docs: https://platform.openai.com/docs/guides/error-codes/api-errors.', 'type': 'insufficient_quota', 'param': None, 'code': 'insufficient_quota'}})\n",
            "Exception raised in Job[59]: RateLimitError(Error code: 429 - {'error': {'message': 'You exceeded your current quota, please check your plan and billing details. For more information on this error, read the docs: https://platform.openai.com/docs/guides/error-codes/api-errors.', 'type': 'insufficient_quota', 'param': None, 'code': 'insufficient_quota'}})\n"
          ]
        },
        {
          "data": {
            "text/plain": [
              "{'context_recall': 0.5500, 'faithfulness': 0.5588, 'factual_correctness': 0.6360, 'answer_relevancy': 0.8632, 'context_entity_recall': 0.5267, 'noise_sensitivity_relevant': 0.1293}"
            ]
          },
          "execution_count": 43,
          "metadata": {},
          "output_type": "execute_result"
        }
      ],
      "source": [
        "from ragas.metrics import LLMContextRecall, Faithfulness, FactualCorrectness, ResponseRelevancy, ContextEntityRecall, NoiseSensitivity\n",
        "from ragas import evaluate, RunConfig\n",
        "\n",
        "custom_run_config = RunConfig(timeout=1440)\n",
        "\n",
        "result = evaluate(\n",
        "    dataset=evaluation_dataset,\n",
        "    metrics=[LLMContextRecall(), Faithfulness(), FactualCorrectness(), ResponseRelevancy(), ContextEntityRecall(), NoiseSensitivity()],\n",
        "    llm=evaluator_llm,\n",
        "    run_config=custom_run_config\n",
        ")\n",
        "result"
      ]
    },
    {
      "cell_type": "markdown",
      "metadata": {},
      "source": []
    },
    {
      "cell_type": "markdown",
      "metadata": {},
      "source": [
        "### Task 6: Fine-Tuning Open-Source Embeddings\n",
        "\n",
        "✅ Deliverables\n",
        "\n",
        "The fine tuned model: https://huggingface.co/kcheng0816/finetuned_arctic_genesis"
      ]
    },
    {
      "cell_type": "code",
      "execution_count": 44,
      "metadata": {},
      "outputs": [],
      "source": [
        "import nest_asyncio\n",
        "\n",
        "nest_asyncio.apply()"
      ]
    },
    {
      "cell_type": "code",
      "execution_count": 45,
      "metadata": {},
      "outputs": [],
      "source": [
        "from langchain_community.document_loaders import DirectoryLoader\n",
        "from langchain_community.document_loaders import BSHTMLLoader\n",
        "\n",
        "path = \"data/\"\n",
        "text_loader = DirectoryLoader(path, glob=\"*.html\", loader_cls=BSHTMLLoader)"
      ]
    },
    {
      "cell_type": "code",
      "execution_count": 46,
      "metadata": {},
      "outputs": [],
      "source": [
        "from langchain_text_splitters import RecursiveCharacterTextSplitter\n",
        "\n",
        "text_splitter = RecursiveCharacterTextSplitter(\n",
        "    chunk_size = 750,\n",
        "    chunk_overlap  = 20,\n",
        "    length_function = len\n",
        ")"
      ]
    },
    {
      "cell_type": "code",
      "execution_count": 47,
      "metadata": {},
      "outputs": [],
      "source": [
        "training_documents = text_splitter.split_documents(text_loader.load())"
      ]
    },
    {
      "cell_type": "code",
      "execution_count": 48,
      "metadata": {},
      "outputs": [
        {
          "data": {
            "text/plain": [
              "275"
            ]
          },
          "execution_count": 48,
          "metadata": {},
          "output_type": "execute_result"
        }
      ],
      "source": [
        "len(training_documents)"
      ]
    },
    {
      "cell_type": "code",
      "execution_count": 49,
      "metadata": {},
      "outputs": [],
      "source": [
        "import uuid\n",
        "\n",
        "id_set = set()\n",
        "\n",
        "for document in training_documents:\n",
        "  id = str(uuid.uuid4())\n",
        "  while id in id_set:\n",
        "    id = uuid.uuid4()\n",
        "  id_set.add(id)\n",
        "  document.metadata[\"id\"] = id"
      ]
    },
    {
      "cell_type": "code",
      "execution_count": 50,
      "metadata": {},
      "outputs": [
        {
          "name": "stdout",
          "output_type": "stream",
          "text": [
            "205\n",
            "40\n",
            "35\n"
          ]
        }
      ],
      "source": [
        "training_split_documents = training_documents[:len(training_documents) - 70]\n",
        "val_split_documents = training_documents[len(training_documents) - 75:275-35]\n",
        "test_split_documents = training_documents[275-35:]\n",
        "print(len(training_split_documents))\n",
        "print(len(val_split_documents))\n",
        "print(len(test_split_documents))"
      ]
    },
    {
      "cell_type": "markdown",
      "metadata": {},
      "source": [
        "### Constructing a fine tuning dataset"
      ]
    },
    {
      "cell_type": "code",
      "execution_count": 51,
      "metadata": {},
      "outputs": [],
      "source": [
        "from langchain_openai import ChatOpenAI\n",
        "\n",
        "qa_chat_model = ChatOpenAI(\n",
        "    model=\"gpt-4o-mini\",\n",
        "    temperature=0\n",
        ")"
      ]
    },
    {
      "cell_type": "code",
      "execution_count": 52,
      "metadata": {},
      "outputs": [],
      "source": [
        "from langchain_core.prompts import ChatPromptTemplate\n",
        "\n",
        "qa_prompt = \"\"\"\\\n",
        "Given the following context, you must generate questions based on only the provided context.\n",
        "\n",
        "You are to generate {n_questions} questions which should be provided in the following format:\n",
        "\n",
        "1. QUESTION #1\n",
        "2. QUESTION #2\n",
        "...\n",
        "\n",
        "Context:\n",
        "{context}\n",
        "\"\"\"\n",
        "\n",
        "qa_prompt_template = ChatPromptTemplate.from_template(qa_prompt)"
      ]
    },
    {
      "cell_type": "code",
      "execution_count": 53,
      "metadata": {},
      "outputs": [],
      "source": [
        "question_generation_chain = qa_prompt_template | qa_chat_model"
      ]
    },
    {
      "cell_type": "code",
      "execution_count": 54,
      "metadata": {},
      "outputs": [],
      "source": [
        "import tqdm\n",
        "import re\n",
        "\n",
        "async def create_questions(documents, n_questions):\n",
        "  questions = {}\n",
        "  relevant_docs = {}\n",
        "\n",
        "  # Process each document to generate questions\n",
        "  for doc in tqdm.tqdm(documents, desc=\"Processing documents\"):\n",
        "        # Generate n_questions for each document using the question generation chain\n",
        "        generated_questions = question_generation_chain.invoke({\n",
        "            \"context\": doc.page_content,\n",
        "            \"n_questions\": n_questions\n",
        "        })\n",
        "\n",
        "        # For each generated question\n",
        "        for question in generated_questions.content.split('\\n'):\n",
        "            #remove the question number at the begining\n",
        "            question = re.sub(r\"(^\\d+. )\", \"\", question)\n",
        "            \n",
        "            # Generate a unique ID for the question\n",
        "            question_id = str(uuid.uuid4())\n",
        "\n",
        "            # Add to questions dictionary\n",
        "            questions[question_id] = question.strip()\n",
        "                \n",
        "            # Add to relevant docs dictionary - link question to source document\n",
        "            relevant_docs[question_id] = [doc.metadata[\"id\"]]\n",
        "              \n",
        "  return questions, relevant_docs"
      ]
    },
    {
      "cell_type": "code",
      "execution_count": 57,
      "metadata": {},
      "outputs": [
        {
          "name": "stderr",
          "output_type": "stream",
          "text": [
            "Processing documents: 100%|██████████| 205/205 [03:57<00:00,  1.16s/it]\n"
          ]
        }
      ],
      "source": [
        "training_questions, training_relevant_contexts = await create_questions(training_split_documents, 2)"
      ]
    },
    {
      "cell_type": "code",
      "execution_count": 58,
      "metadata": {},
      "outputs": [
        {
          "name": "stderr",
          "output_type": "stream",
          "text": [
            "Processing documents: 100%|██████████| 40/40 [00:45<00:00,  1.14s/it]\n"
          ]
        }
      ],
      "source": [
        "val_questions, val_relevant_contexts = await create_questions(val_split_documents, 2)"
      ]
    },
    {
      "cell_type": "code",
      "execution_count": 59,
      "metadata": {},
      "outputs": [
        {
          "name": "stderr",
          "output_type": "stream",
          "text": [
            "Processing documents: 100%|██████████| 35/35 [00:37<00:00,  1.07s/it]"
          ]
        },
        {
          "name": "stdout",
          "output_type": "stream",
          "text": [
            "{'0fee006f-883d-4b8b-9f09-7c953ec47164': 'What will happen to the father if he sees that the boy is not with them?', 'bd84897f-fedf-4849-9ba1-ab5541203182': 'Why does the servant offer to remain as a slave in place of the boy?', '7f2a9486-0cd6-4f81-b65b-bdb2039796c2': 'What did Joseph cry out to those around him before revealing his identity to his brothers?', 'b7d866ee-11ee-48dd-adb0-14c8ba11dc93': \"How did Joseph's brothers react when he made himself known to them?\", 'ef57f4f9-e4d8-4c3b-9600-e3588b73ce18': 'What has been the duration of the famine in the land mentioned in the context?', 'e3eb43c8-e737-4e7d-97e6-5b89305a2f68': 'Who is Joseph instructed to tell about his position in Egypt and the invitation to come down?', '0a592f96-14af-436d-937d-588e36db149b': 'What did Joseph ask his brothers to tell their father about his status in Egypt?', 'ad279a30-0093-4c9e-ae56-ea8fb32abe36': 'How did Joseph and his brothers react when they were reunited?', 'e393a2e9-235b-4df9-9f6a-6c3c25f1bfe6': 'What instructions did Pharaoh give to Joseph regarding his brothers and their journey to Egypt?', '7c213143-5ec8-4125-936a-b8a4d348e452': 'What provisions did Joseph provide to his brothers for their journey back to Egypt?', '98fec900-2050-4db6-85a1-5b603ebfa5e8': 'What gifts did Joseph send to his father Jacob from Egypt?', '77883b92-8dd9-4c66-b4a4-fc3ffba8f5e3': 'How did Jacob react when he learned that Joseph was still alive?', '5fda66c2-85d1-48c3-a6ec-649e43d9be5a': 'What did Israel (Jacob) do when he saw the wagons sent by Joseph?', '052167d5-a929-4e6b-a532-bf0fb2349279': 'What assurance did God give to Israel regarding his journey to Egypt?', '052ee84d-de13-45c5-b7ba-d0694c97771d': 'Who carried Jacob and his family to Egypt in the wagons sent by Pharaoh?', 'c706384f-7b8f-4539-a94d-7d93fa8c66ba': \"What were the names of Jacob's firstborn and his children mentioned in the context?\", '9c8ee0d7-41bb-48ce-963f-73d247d22860': 'Who are the children of Levi mentioned in the context?', '248d7736-d610-4992-991e-45e9ea0b4cae': 'How many sons and daughters did Leah bear to Jacob according to the provided context?', '3a788c22-8214-4032-976a-455f70ea5e5a': \"Who are the children of Jacob's wife Rachel mentioned in the context?\", 'baac72ec-247f-44ff-a5b1-c766ff84420d': 'How many persons in total were born to Jacob through Zilpah according to the provided context?', '2fe3df43-08e3-4f09-8709-276ef51467b7': \"How many persons in total from Jacob's household came into Egypt, including his offspring and excluding the wives of his sons?\", '3600a6db-f7ba-49ec-8c2c-81162c9d42a6': 'Who did Israel send ahead to Joseph to lead the way into Goshen?', '5552319e-1bde-46a3-8da7-cabd9c3ccba2': \"What did Joseph plan to tell Pharaoh about his brothers and father's household?\", '45fdc195-b09a-4b47-8bc7-dfe4a68e44cf': 'Why did Joseph instruct his brothers to identify themselves as keepers of livestock when speaking to Pharaoh?', 'ede740ba-1ef3-409f-8012-a0268736cf5d': \"What did Pharaoh ask Joseph's brothers about their occupation?\", '8a8757a5-2d50-4a70-93a6-f792d3cd4a3d': \"Why did Joseph's family request to settle in the land of Goshen?\", 'f7c47b92-559b-4eb4-a311-0db0b43f76fc': 'What did Joseph instruct regarding the settlement of his father and brothers in Egypt?', 'ba115350-d1ed-4210-8e4c-13ad7c784a2d': 'How did Jacob respond when Pharaoh asked him about the years of his life?', '26bdbdf9-7fde-4bdd-a8ea-f017e1cc0ae5': \"What did Joseph provide to his father, his brothers, and all his father's household in Egypt?\", '69c1835d-fef4-41c5-a7fc-b4d5d426ef8b': 'Why was there no food in the land of Egypt and Canaan?', '11f71c8e-11ee-48ba-abf0-9b6119122f73': 'What did the Egyptians request from Joseph when their money was gone?', '1a6fb4e9-7456-4888-be6a-1982950c6d7d': \"What did Joseph offer in exchange for the Egyptians' livestock?\", '826a59fd-ab25-44d2-bb34-d22b2fe62950': 'What did the people of Egypt offer in exchange for food during the famine?', '1f7c979a-bb95-4140-aec1-cdf0d2f9473e': 'Why did the priests not sell their land to Pharaoh?', '7b12e6f1-0871-4984-acf5-1b995050a950': 'What did Joseph instruct the people to do with the seed he provided them?', '40aaa542-5efb-4e8f-85b5-5932e5df8f1e': 'What was the agreement regarding the harvests between the people and Pharaoh?', '83d0ba03-c22e-4db2-a2ee-7e4a67902ce1': 'How many years did Jacob live in the land of Egypt?', 'c4686ec8-5c19-429e-b2b1-787c84722bf2': 'What request did Jacob make to his son Joseph regarding his burial?', '3d8db33e-adaf-471c-b9c9-8e020c28f83d': 'What did God Almighty promise Jacob at Luz in the land of Canaan?', '3c71e4e5-bfab-4a50-91e7-48d0aff35bdb': 'How did Jacob regard his grandsons Ephraim and Manasseh in relation to his own sons?', 'a302495d-8294-4d48-a9a3-f38d48253592': \"What did Israel say when he saw Joseph's sons?\", '371cf17f-84ee-4287-9250-d3c419664ea3': 'Why was Israel unable to see well when Joseph brought his sons to him?', 'ad52855d-a9e2-41ad-a943-a743dbdf296c': 'What action did Joseph take before blessing his children, Ephraim and Manasseh?', '45b574d2-5af7-441f-8618-8873933b3e1c': 'How did Israel position his hands when blessing Ephraim and Manasseh, and what was the significance of this gesture?', '99ad43a3-3fc2-4448-b638-d1f7687306e0': \"Why was Joseph displeased when his father laid his right hand on Ephraim's head?\", '12a3c1d4-3e09-40d4-9d6f-1c0428dc55ed': \"What did Joseph's father say about the future of Ephraim and Manasseh?\", '1f45ddf2-a1a7-47ae-8f86-a385bc90752f': 'What blessing does Israel invoke for Ephraim and Manasseh?', 'f81875e7-db82-4d55-8b96-f3868355dac4': 'What does Jacob intend to tell his sons when he calls them to gather around?', 'f3e75c35-7ea0-4818-8eef-16e5f82a4838': \"What consequences are mentioned for the actions of the individual who defiled their father's bed?\", '2bcc38b5-bdc6-477b-9c2f-d1b9f4f0f4b2': 'How are Simeon and Levi characterized in the context provided?', 'b3ee030c-bb10-45d1-b13b-fb51d9c7bec5': 'What imagery is used to describe the character who crouches down and stretches out like a lion?', 'afc80d9c-797a-4fab-8b8a-9aca43ddb49e': 'What does the passage suggest about the future role of Judah in terms of leadership and obedience?', '5153b1ee-66a6-4d87-8a22-b5482d333cd2': 'What role is assigned to Dan among the tribes of Israel?', '32185630-0f2e-4ebb-8188-91d6d147bcb3': 'How is Joseph described in relation to his surroundings in the context?', '50fcf0ba-ae7d-4546-b508-5d566c20b7fe': 'What qualities are attributed to Joseph in the blessings mentioned in the context?', '1264f874-4bfb-49aa-a9df-87e83c903afc': 'How is Benjamin described in the context, and what imagery is used to illustrate his character?', '19d344ad-f09f-468d-9fcb-4d3db0a0d9d3': 'What did Jacob request regarding his burial place before he passed away?', '2c1ba20d-6d2b-482e-a11d-3d8b35c69f30': 'Which ancestors were mentioned as being buried in the cave at Machpelah?', '2dc14d63-d333-4cd9-891a-2ee804532933': 'What did Joseph do after his father breathed his last?', '5871dd10-73be-40f5-a965-522953d3f7ff': \"How long did the Egyptians weep for Joseph's father?\", '2b377c84-8f32-41ac-b183-8bf2d3a84616': 'Who accompanied Joseph to bury his father after Pharaoh granted him permission?', 'dc15dcf6-ae5a-4b52-935a-a1a7601b70ee': 'What significant event took place at the threshing floor of Atad during the burial procession?', 'daa23c07-99cf-4ace-94ee-49433e7a13ed': \"What did the Canaanite inhabitants observe during the mourning period for Joseph's father?\", '10eeee3f-8ceb-4b51-8719-04f638c4ee63': \"Where was Joseph's father buried after the mourning period?\", '48006c7b-5189-4040-b950-6586d53c98d6': \"What were Joseph's brothers afraid of after their father's death?\", 'd08769e9-05ee-452e-870c-94def4668774': \"How did Joseph respond to his brothers' plea for forgiveness?\", 'd49de427-9728-40ff-add9-2447729eee6d': \"How long did Joseph live in Egypt after his father's household settled there?\", '39fc2f7c-6fd9-48ca-927f-68ca3ed1fdd4': 'What promise did Joseph make to his brothers regarding his bones?', '921ab113-e2bd-49b7-ac06-fe3eeefb84d2': 'How old was Joseph when he died?', 'f58e8511-a95c-4d9b-8ba3-b0af3d68b3fb': \"What happened to Joseph's body after he died?\"}\n",
            "{'0fee006f-883d-4b8b-9f09-7c953ec47164': ['2e179fb3-0a50-451e-8970-2e1a4dcc3f75'], 'bd84897f-fedf-4849-9ba1-ab5541203182': ['2e179fb3-0a50-451e-8970-2e1a4dcc3f75'], '7f2a9486-0cd6-4f81-b65b-bdb2039796c2': ['1ce11608-1db7-49fc-8c4a-f3db66303369'], 'b7d866ee-11ee-48dd-adb0-14c8ba11dc93': ['1ce11608-1db7-49fc-8c4a-f3db66303369'], 'ef57f4f9-e4d8-4c3b-9600-e3588b73ce18': ['ad8766b3-1e70-4cc5-af8b-96896ebc30b7'], 'e3eb43c8-e737-4e7d-97e6-5b89305a2f68': ['ad8766b3-1e70-4cc5-af8b-96896ebc30b7'], '0a592f96-14af-436d-937d-588e36db149b': ['6759da95-5b6a-412e-a022-dea94befadac'], 'ad279a30-0093-4c9e-ae56-ea8fb32abe36': ['6759da95-5b6a-412e-a022-dea94befadac'], 'e393a2e9-235b-4df9-9f6a-6c3c25f1bfe6': ['d4825279-0333-49f5-ab6d-c9c039b7da1c'], '7c213143-5ec8-4125-936a-b8a4d348e452': ['d4825279-0333-49f5-ab6d-c9c039b7da1c'], '98fec900-2050-4db6-85a1-5b603ebfa5e8': ['a415f936-1899-44c3-bb06-217957e9ade0'], '77883b92-8dd9-4c66-b4a4-fc3ffba8f5e3': ['a415f936-1899-44c3-bb06-217957e9ade0'], '5fda66c2-85d1-48c3-a6ec-649e43d9be5a': ['4b36a623-b15c-4837-aca6-0d44dcef3f7c'], '052167d5-a929-4e6b-a532-bf0fb2349279': ['4b36a623-b15c-4837-aca6-0d44dcef3f7c'], '052ee84d-de13-45c5-b7ba-d0694c97771d': ['cb581652-b874-42ca-ac3f-62efa004fa9b'], 'c706384f-7b8f-4539-a94d-7d93fa8c66ba': ['cb581652-b874-42ca-ac3f-62efa004fa9b'], '9c8ee0d7-41bb-48ce-963f-73d247d22860': ['d5286311-a317-4de4-8163-72fa633cb583'], '248d7736-d610-4992-991e-45e9ea0b4cae': ['d5286311-a317-4de4-8163-72fa633cb583'], '3a788c22-8214-4032-976a-455f70ea5e5a': ['6994b7bb-524e-4dd8-be79-317d3c9b3513'], 'baac72ec-247f-44ff-a5b1-c766ff84420d': ['6994b7bb-524e-4dd8-be79-317d3c9b3513'], '2fe3df43-08e3-4f09-8709-276ef51467b7': ['3c8ede87-cc61-470d-a0d3-1e51fb45dba2'], '3600a6db-f7ba-49ec-8c2c-81162c9d42a6': ['3c8ede87-cc61-470d-a0d3-1e51fb45dba2'], '5552319e-1bde-46a3-8da7-cabd9c3ccba2': ['8d4ef7b1-74aa-44b4-a25c-712f659645f1'], '45fdc195-b09a-4b47-8bc7-dfe4a68e44cf': ['8d4ef7b1-74aa-44b4-a25c-712f659645f1'], 'ede740ba-1ef3-409f-8012-a0268736cf5d': ['1e625509-d66b-4e02-acd8-f574e0c3f0f3'], '8a8757a5-2d50-4a70-93a6-f792d3cd4a3d': ['1e625509-d66b-4e02-acd8-f574e0c3f0f3'], 'f7c47b92-559b-4eb4-a311-0db0b43f76fc': ['656186a5-533d-4149-9ea7-ae22c00b61e6'], 'ba115350-d1ed-4210-8e4c-13ad7c784a2d': ['656186a5-533d-4149-9ea7-ae22c00b61e6'], '26bdbdf9-7fde-4bdd-a8ea-f017e1cc0ae5': ['0ad97dbb-ecb6-41b1-87f6-3487b8794c49'], '69c1835d-fef4-41c5-a7fc-b4d5d426ef8b': ['0ad97dbb-ecb6-41b1-87f6-3487b8794c49'], '11f71c8e-11ee-48ba-abf0-9b6119122f73': ['799014d3-dcca-4351-9b80-765fb15ad993'], '1a6fb4e9-7456-4888-be6a-1982950c6d7d': ['799014d3-dcca-4351-9b80-765fb15ad993'], '826a59fd-ab25-44d2-bb34-d22b2fe62950': ['4ddf8c3f-a713-435f-b8c1-81720379d97e'], '1f7c979a-bb95-4140-aec1-cdf0d2f9473e': ['4ddf8c3f-a713-435f-b8c1-81720379d97e'], '7b12e6f1-0871-4984-acf5-1b995050a950': ['9631462d-51b6-4d14-9372-43da58e30664'], '40aaa542-5efb-4e8f-85b5-5932e5df8f1e': ['9631462d-51b6-4d14-9372-43da58e30664'], '83d0ba03-c22e-4db2-a2ee-7e4a67902ce1': ['3730b340-49c0-4ee4-95a2-86186032e90f'], 'c4686ec8-5c19-429e-b2b1-787c84722bf2': ['3730b340-49c0-4ee4-95a2-86186032e90f'], '3d8db33e-adaf-471c-b9c9-8e020c28f83d': ['e7988fbb-f7f8-43ed-98ad-3d214b2fa59e'], '3c71e4e5-bfab-4a50-91e7-48d0aff35bdb': ['e7988fbb-f7f8-43ed-98ad-3d214b2fa59e'], 'a302495d-8294-4d48-a9a3-f38d48253592': ['289b81c2-7e08-4f3b-8326-2c1410afe2da'], '371cf17f-84ee-4287-9250-d3c419664ea3': ['289b81c2-7e08-4f3b-8326-2c1410afe2da'], 'ad52855d-a9e2-41ad-a943-a743dbdf296c': ['e8b4ec00-1e6a-4117-80e6-9f75d6804ac4'], '45b574d2-5af7-441f-8618-8873933b3e1c': ['e8b4ec00-1e6a-4117-80e6-9f75d6804ac4'], '99ad43a3-3fc2-4448-b638-d1f7687306e0': ['e726b79a-eb0d-4ee9-b12b-a336b87fb6bd'], '12a3c1d4-3e09-40d4-9d6f-1c0428dc55ed': ['e726b79a-eb0d-4ee9-b12b-a336b87fb6bd'], '1f45ddf2-a1a7-47ae-8f86-a385bc90752f': ['c959ed9e-b607-462a-97bd-33242857d7ac'], 'f81875e7-db82-4d55-8b96-f3868355dac4': ['c959ed9e-b607-462a-97bd-33242857d7ac'], 'f3e75c35-7ea0-4818-8eef-16e5f82a4838': ['7e89d446-e3c3-4fc0-b147-0dbdafae4dee'], '2bcc38b5-bdc6-477b-9c2f-d1b9f4f0f4b2': ['7e89d446-e3c3-4fc0-b147-0dbdafae4dee'], 'b3ee030c-bb10-45d1-b13b-fb51d9c7bec5': ['e5f352f1-5ad0-41e0-b195-68dc253cb26f'], 'afc80d9c-797a-4fab-8b8a-9aca43ddb49e': ['e5f352f1-5ad0-41e0-b195-68dc253cb26f'], '5153b1ee-66a6-4d87-8a22-b5482d333cd2': ['e7465d4a-aebc-42fe-9c21-f1193b9eb45b'], '32185630-0f2e-4ebb-8188-91d6d147bcb3': ['e7465d4a-aebc-42fe-9c21-f1193b9eb45b'], '50fcf0ba-ae7d-4546-b508-5d566c20b7fe': ['a38f9003-4c8a-4506-9c2d-dfe64b045355'], '1264f874-4bfb-49aa-a9df-87e83c903afc': ['a38f9003-4c8a-4506-9c2d-dfe64b045355'], '19d344ad-f09f-468d-9fcb-4d3db0a0d9d3': ['aa36f328-b71f-40f9-a2be-a2238e458569'], '2c1ba20d-6d2b-482e-a11d-3d8b35c69f30': ['aa36f328-b71f-40f9-a2be-a2238e458569'], '2dc14d63-d333-4cd9-891a-2ee804532933': ['7be9f7cc-197f-4913-acc7-929180ff397b'], '5871dd10-73be-40f5-a965-522953d3f7ff': ['7be9f7cc-197f-4913-acc7-929180ff397b'], '2b377c84-8f32-41ac-b183-8bf2d3a84616': ['b9fee447-7d45-4182-ac43-43128c7e81a3'], 'dc15dcf6-ae5a-4b52-935a-a1a7601b70ee': ['b9fee447-7d45-4182-ac43-43128c7e81a3'], 'daa23c07-99cf-4ace-94ee-49433e7a13ed': ['66cdc0c9-81cf-49e8-a30f-152e4849c5ba'], '10eeee3f-8ceb-4b51-8719-04f638c4ee63': ['66cdc0c9-81cf-49e8-a30f-152e4849c5ba'], '48006c7b-5189-4040-b950-6586d53c98d6': ['8c05f1bf-8c77-40e1-9b9c-10e8b8ea80a8'], 'd08769e9-05ee-452e-870c-94def4668774': ['8c05f1bf-8c77-40e1-9b9c-10e8b8ea80a8'], 'd49de427-9728-40ff-add9-2447729eee6d': ['7ac996bd-db13-41bd-a8f4-06dde77fd2b1'], '39fc2f7c-6fd9-48ca-927f-68ca3ed1fdd4': ['7ac996bd-db13-41bd-a8f4-06dde77fd2b1'], '921ab113-e2bd-49b7-ac06-fe3eeefb84d2': ['d5b49071-5f16-4433-9958-46fd7b27e6ec'], 'f58e8511-a95c-4d9b-8ba3-b0af3d68b3fb': ['d5b49071-5f16-4433-9958-46fd7b27e6ec']}\n"
          ]
        },
        {
          "name": "stderr",
          "output_type": "stream",
          "text": [
            "\n"
          ]
        }
      ],
      "source": [
        "test_questions, test_relevant_contexts = await create_questions(test_split_documents, 2)\n",
        "print(test_questions)\n",
        "print(test_relevant_contexts)"
      ]
    },
    {
      "cell_type": "code",
      "execution_count": 60,
      "metadata": {},
      "outputs": [
        {
          "name": "stdout",
          "output_type": "stream",
          "text": [
            "0fee006f-883d-4b8b-9f09-7c953ec47164 : What will happen to the father if he sees that the boy is not with them?\n",
            "bd84897f-fedf-4849-9ba1-ab5541203182 : Why does the servant offer to remain as a slave in place of the boy?\n",
            "7f2a9486-0cd6-4f81-b65b-bdb2039796c2 : What did Joseph cry out to those around him before revealing his identity to his brothers?\n",
            "b7d866ee-11ee-48dd-adb0-14c8ba11dc93 : How did Joseph's brothers react when he made himself known to them?\n",
            "ef57f4f9-e4d8-4c3b-9600-e3588b73ce18 : What has been the duration of the famine in the land mentioned in the context?\n",
            "e3eb43c8-e737-4e7d-97e6-5b89305a2f68 : Who is Joseph instructed to tell about his position in Egypt and the invitation to come down?\n",
            "0a592f96-14af-436d-937d-588e36db149b : What did Joseph ask his brothers to tell their father about his status in Egypt?\n",
            "ad279a30-0093-4c9e-ae56-ea8fb32abe36 : How did Joseph and his brothers react when they were reunited?\n",
            "e393a2e9-235b-4df9-9f6a-6c3c25f1bfe6 : What instructions did Pharaoh give to Joseph regarding his brothers and their journey to Egypt?\n",
            "7c213143-5ec8-4125-936a-b8a4d348e452 : What provisions did Joseph provide to his brothers for their journey back to Egypt?\n",
            "98fec900-2050-4db6-85a1-5b603ebfa5e8 : What gifts did Joseph send to his father Jacob from Egypt?\n",
            "77883b92-8dd9-4c66-b4a4-fc3ffba8f5e3 : How did Jacob react when he learned that Joseph was still alive?\n",
            "5fda66c2-85d1-48c3-a6ec-649e43d9be5a : What did Israel (Jacob) do when he saw the wagons sent by Joseph?\n",
            "052167d5-a929-4e6b-a532-bf0fb2349279 : What assurance did God give to Israel regarding his journey to Egypt?\n",
            "052ee84d-de13-45c5-b7ba-d0694c97771d : Who carried Jacob and his family to Egypt in the wagons sent by Pharaoh?\n",
            "c706384f-7b8f-4539-a94d-7d93fa8c66ba : What were the names of Jacob's firstborn and his children mentioned in the context?\n",
            "9c8ee0d7-41bb-48ce-963f-73d247d22860 : Who are the children of Levi mentioned in the context?\n",
            "248d7736-d610-4992-991e-45e9ea0b4cae : How many sons and daughters did Leah bear to Jacob according to the provided context?\n",
            "3a788c22-8214-4032-976a-455f70ea5e5a : Who are the children of Jacob's wife Rachel mentioned in the context?\n",
            "baac72ec-247f-44ff-a5b1-c766ff84420d : How many persons in total were born to Jacob through Zilpah according to the provided context?\n",
            "2fe3df43-08e3-4f09-8709-276ef51467b7 : How many persons in total from Jacob's household came into Egypt, including his offspring and excluding the wives of his sons?\n",
            "3600a6db-f7ba-49ec-8c2c-81162c9d42a6 : Who did Israel send ahead to Joseph to lead the way into Goshen?\n",
            "5552319e-1bde-46a3-8da7-cabd9c3ccba2 : What did Joseph plan to tell Pharaoh about his brothers and father's household?\n",
            "45fdc195-b09a-4b47-8bc7-dfe4a68e44cf : Why did Joseph instruct his brothers to identify themselves as keepers of livestock when speaking to Pharaoh?\n",
            "ede740ba-1ef3-409f-8012-a0268736cf5d : What did Pharaoh ask Joseph's brothers about their occupation?\n",
            "8a8757a5-2d50-4a70-93a6-f792d3cd4a3d : Why did Joseph's family request to settle in the land of Goshen?\n",
            "f7c47b92-559b-4eb4-a311-0db0b43f76fc : What did Joseph instruct regarding the settlement of his father and brothers in Egypt?\n",
            "ba115350-d1ed-4210-8e4c-13ad7c784a2d : How did Jacob respond when Pharaoh asked him about the years of his life?\n",
            "26bdbdf9-7fde-4bdd-a8ea-f017e1cc0ae5 : What did Joseph provide to his father, his brothers, and all his father's household in Egypt?\n",
            "69c1835d-fef4-41c5-a7fc-b4d5d426ef8b : Why was there no food in the land of Egypt and Canaan?\n",
            "11f71c8e-11ee-48ba-abf0-9b6119122f73 : What did the Egyptians request from Joseph when their money was gone?\n",
            "1a6fb4e9-7456-4888-be6a-1982950c6d7d : What did Joseph offer in exchange for the Egyptians' livestock?\n",
            "826a59fd-ab25-44d2-bb34-d22b2fe62950 : What did the people of Egypt offer in exchange for food during the famine?\n",
            "1f7c979a-bb95-4140-aec1-cdf0d2f9473e : Why did the priests not sell their land to Pharaoh?\n",
            "7b12e6f1-0871-4984-acf5-1b995050a950 : What did Joseph instruct the people to do with the seed he provided them?\n",
            "40aaa542-5efb-4e8f-85b5-5932e5df8f1e : What was the agreement regarding the harvests between the people and Pharaoh?\n",
            "83d0ba03-c22e-4db2-a2ee-7e4a67902ce1 : How many years did Jacob live in the land of Egypt?\n",
            "c4686ec8-5c19-429e-b2b1-787c84722bf2 : What request did Jacob make to his son Joseph regarding his burial?\n",
            "3d8db33e-adaf-471c-b9c9-8e020c28f83d : What did God Almighty promise Jacob at Luz in the land of Canaan?\n",
            "3c71e4e5-bfab-4a50-91e7-48d0aff35bdb : How did Jacob regard his grandsons Ephraim and Manasseh in relation to his own sons?\n",
            "a302495d-8294-4d48-a9a3-f38d48253592 : What did Israel say when he saw Joseph's sons?\n",
            "371cf17f-84ee-4287-9250-d3c419664ea3 : Why was Israel unable to see well when Joseph brought his sons to him?\n",
            "ad52855d-a9e2-41ad-a943-a743dbdf296c : What action did Joseph take before blessing his children, Ephraim and Manasseh?\n",
            "45b574d2-5af7-441f-8618-8873933b3e1c : How did Israel position his hands when blessing Ephraim and Manasseh, and what was the significance of this gesture?\n",
            "99ad43a3-3fc2-4448-b638-d1f7687306e0 : Why was Joseph displeased when his father laid his right hand on Ephraim's head?\n",
            "12a3c1d4-3e09-40d4-9d6f-1c0428dc55ed : What did Joseph's father say about the future of Ephraim and Manasseh?\n",
            "1f45ddf2-a1a7-47ae-8f86-a385bc90752f : What blessing does Israel invoke for Ephraim and Manasseh?\n",
            "f81875e7-db82-4d55-8b96-f3868355dac4 : What does Jacob intend to tell his sons when he calls them to gather around?\n",
            "f3e75c35-7ea0-4818-8eef-16e5f82a4838 : What consequences are mentioned for the actions of the individual who defiled their father's bed?\n",
            "2bcc38b5-bdc6-477b-9c2f-d1b9f4f0f4b2 : How are Simeon and Levi characterized in the context provided?\n",
            "b3ee030c-bb10-45d1-b13b-fb51d9c7bec5 : What imagery is used to describe the character who crouches down and stretches out like a lion?\n",
            "afc80d9c-797a-4fab-8b8a-9aca43ddb49e : What does the passage suggest about the future role of Judah in terms of leadership and obedience?\n",
            "5153b1ee-66a6-4d87-8a22-b5482d333cd2 : What role is assigned to Dan among the tribes of Israel?\n",
            "32185630-0f2e-4ebb-8188-91d6d147bcb3 : How is Joseph described in relation to his surroundings in the context?\n",
            "50fcf0ba-ae7d-4546-b508-5d566c20b7fe : What qualities are attributed to Joseph in the blessings mentioned in the context?\n",
            "1264f874-4bfb-49aa-a9df-87e83c903afc : How is Benjamin described in the context, and what imagery is used to illustrate his character?\n",
            "19d344ad-f09f-468d-9fcb-4d3db0a0d9d3 : What did Jacob request regarding his burial place before he passed away?\n",
            "2c1ba20d-6d2b-482e-a11d-3d8b35c69f30 : Which ancestors were mentioned as being buried in the cave at Machpelah?\n",
            "2dc14d63-d333-4cd9-891a-2ee804532933 : What did Joseph do after his father breathed his last?\n",
            "5871dd10-73be-40f5-a965-522953d3f7ff : How long did the Egyptians weep for Joseph's father?\n",
            "2b377c84-8f32-41ac-b183-8bf2d3a84616 : Who accompanied Joseph to bury his father after Pharaoh granted him permission?\n",
            "dc15dcf6-ae5a-4b52-935a-a1a7601b70ee : What significant event took place at the threshing floor of Atad during the burial procession?\n",
            "daa23c07-99cf-4ace-94ee-49433e7a13ed : What did the Canaanite inhabitants observe during the mourning period for Joseph's father?\n",
            "10eeee3f-8ceb-4b51-8719-04f638c4ee63 : Where was Joseph's father buried after the mourning period?\n",
            "48006c7b-5189-4040-b950-6586d53c98d6 : What were Joseph's brothers afraid of after their father's death?\n",
            "d08769e9-05ee-452e-870c-94def4668774 : How did Joseph respond to his brothers' plea for forgiveness?\n",
            "d49de427-9728-40ff-add9-2447729eee6d : How long did Joseph live in Egypt after his father's household settled there?\n",
            "39fc2f7c-6fd9-48ca-927f-68ca3ed1fdd4 : What promise did Joseph make to his brothers regarding his bones?\n",
            "921ab113-e2bd-49b7-ac06-fe3eeefb84d2 : How old was Joseph when he died?\n",
            "f58e8511-a95c-4d9b-8ba3-b0af3d68b3fb : What happened to Joseph's body after he died?\n"
          ]
        }
      ],
      "source": [
        "for query_id, query in test_questions.items():\n",
        "    print(f\"{query_id} : {query}\")"
      ]
    },
    {
      "cell_type": "code",
      "execution_count": 61,
      "metadata": {},
      "outputs": [],
      "source": [
        "import json\n",
        "\n",
        "training_corpus = {train_item.metadata[\"id\"] : train_item.page_content for train_item in training_split_documents}\n",
        "\n",
        "train_dataset = {\n",
        "    \"questions\" : training_questions,\n",
        "    \"relevant_contexts\" : training_relevant_contexts,\n",
        "    \"corpus\" : training_corpus\n",
        "}\n",
        "\n",
        "with open(\"training_dataset.jsonl\", \"w\") as f:\n",
        "  json.dump(train_dataset, f)"
      ]
    },
    {
      "cell_type": "code",
      "execution_count": 62,
      "metadata": {},
      "outputs": [],
      "source": [
        "val_corpus = {val_item.metadata[\"id\"] : val_item.page_content for val_item in val_split_documents}\n",
        "\n",
        "val_dataset = {\n",
        "    \"questions\" : val_questions,\n",
        "    \"relevant_contexts\" : val_relevant_contexts,\n",
        "    \"corpus\" : val_corpus\n",
        "}\n",
        "\n",
        "with open(\"val_dataset.jsonl\", \"w\") as f:\n",
        "  json.dump(val_dataset, f)"
      ]
    },
    {
      "cell_type": "code",
      "execution_count": 63,
      "metadata": {},
      "outputs": [],
      "source": [
        "train_corpus = {test_item.metadata[\"id\"] : test_item.page_content for test_item in test_split_documents}\n",
        "\n",
        "test_dataset = {\n",
        "    \"questions\" : test_questions,\n",
        "    \"relevant_contexts\" : test_relevant_contexts,\n",
        "    \"corpus\" : train_corpus\n",
        "}\n",
        "\n",
        "with open(\"test_dataset.jsonl\", \"w\") as f:\n",
        "  json.dump(test_dataset, f)"
      ]
    },
    {
      "cell_type": "code",
      "execution_count": 64,
      "metadata": {},
      "outputs": [],
      "source": [
        "from sentence_transformers import SentenceTransformer\n",
        "\n",
        "model_id = \"Snowflake/snowflake-arctic-embed-l\"\n",
        "model = SentenceTransformer(model_id)"
      ]
    },
    {
      "cell_type": "code",
      "execution_count": 65,
      "metadata": {},
      "outputs": [],
      "source": [
        "from torch.utils.data import DataLoader\n",
        "from torch.utils.data import Dataset\n",
        "from sentence_transformers import InputExample"
      ]
    },
    {
      "cell_type": "code",
      "execution_count": 66,
      "metadata": {},
      "outputs": [],
      "source": [
        "BATCH_SIZE = 10"
      ]
    },
    {
      "cell_type": "code",
      "execution_count": 67,
      "metadata": {},
      "outputs": [],
      "source": [
        "#Prepare the Training Data\n",
        "corpus = train_dataset['corpus']\n",
        "queries = train_dataset['questions']\n",
        "relevant_docs = train_dataset['relevant_contexts']\n",
        "\n",
        "examples = []\n",
        "for query_id, query in queries.items():\n",
        "    doc_id = relevant_docs[query_id][0]\n",
        "    text = corpus[doc_id]\n",
        "    example = InputExample(texts=[query, text])\n",
        "    examples.append(example)"
      ]
    },
    {
      "cell_type": "code",
      "execution_count": 68,
      "metadata": {},
      "outputs": [],
      "source": [
        "loader = DataLoader(\n",
        "    examples, batch_size=BATCH_SIZE\n",
        ")"
      ]
    },
    {
      "cell_type": "code",
      "execution_count": 69,
      "metadata": {},
      "outputs": [],
      "source": [
        "from sentence_transformers.losses import MatryoshkaLoss, MultipleNegativesRankingLoss\n",
        "\n",
        "matryoshka_dimensions = [768, 512, 256, 128, 64]\n",
        "inner_train_loss = MultipleNegativesRankingLoss(model)\n",
        "train_loss = MatryoshkaLoss(\n",
        "    model, inner_train_loss, matryoshka_dims=matryoshka_dimensions\n",
        ")"
      ]
    },
    {
      "cell_type": "code",
      "execution_count": 70,
      "metadata": {},
      "outputs": [],
      "source": [
        "from sentence_transformers.evaluation import InformationRetrievalEvaluator\n",
        "\n",
        "corpus = val_dataset['corpus']\n",
        "queries = val_dataset['questions']\n",
        "relevant_docs = val_dataset['relevant_contexts']\n",
        "\n",
        "evaluator = InformationRetrievalEvaluator(queries, corpus, relevant_docs)"
      ]
    },
    {
      "cell_type": "code",
      "execution_count": 71,
      "metadata": {},
      "outputs": [],
      "source": [
        "EPOCHS = 10"
      ]
    },
    {
      "cell_type": "code",
      "execution_count": 72,
      "metadata": {},
      "outputs": [
        {
          "data": {
            "text/html": [
              "<button onClick=\"this.nextSibling.style.display='block';this.style.display='none';\">Display W&B run</button><iframe src='https://wandb.ai/dummy/dummy/runs/kv1hzfrg?jupyter=true' style='border:none;width:100%;height:420px;display:none;'></iframe>"
            ],
            "text/plain": [
              "<wandb.sdk.wandb_run.Run at 0x3437cb0d0>"
            ]
          },
          "execution_count": 72,
          "metadata": {},
          "output_type": "execute_result"
        }
      ],
      "source": [
        "import wandb\n",
        "wandb.init(mode=\"disabled\") # Completely disables logging"
      ]
    },
    {
      "cell_type": "code",
      "execution_count": 73,
      "metadata": {},
      "outputs": [
        {
          "data": {
            "application/vnd.jupyter.widget-view+json": {
              "model_id": "426b1e1d13d643369d0e285123957965",
              "version_major": 2,
              "version_minor": 0
            },
            "text/plain": [
              "Computing widget examples:   0%|          | 0/1 [00:00<?, ?example/s]"
            ]
          },
          "metadata": {},
          "output_type": "display_data"
        },
        {
          "name": "stderr",
          "output_type": "stream",
          "text": [
            "\u001b[34m\u001b[1mwandb\u001b[0m: \u001b[33mWARNING\u001b[0m The `run_name` is currently set to the same value as `TrainingArguments.output_dir`. If this was not intended, please specify a different run name by setting the `TrainingArguments.run_name` parameter.\n"
          ]
        },
        {
          "data": {
            "text/html": [
              "\n",
              "    <div>\n",
              "      \n",
              "      <progress value='410' max='410' style='width:300px; height:20px; vertical-align: middle;'></progress>\n",
              "      [410/410 24:29, Epoch 10/10]\n",
              "    </div>\n",
              "    <table border=\"1\" class=\"dataframe\">\n",
              "  <thead>\n",
              " <tr style=\"text-align: left;\">\n",
              "      <th>Step</th>\n",
              "      <th>Training Loss</th>\n",
              "      <th>Validation Loss</th>\n",
              "      <th>Cosine Accuracy@1</th>\n",
              "      <th>Cosine Accuracy@3</th>\n",
              "      <th>Cosine Accuracy@5</th>\n",
              "      <th>Cosine Accuracy@10</th>\n",
              "      <th>Cosine Precision@1</th>\n",
              "      <th>Cosine Precision@3</th>\n",
              "      <th>Cosine Precision@5</th>\n",
              "      <th>Cosine Precision@10</th>\n",
              "      <th>Cosine Recall@1</th>\n",
              "      <th>Cosine Recall@3</th>\n",
              "      <th>Cosine Recall@5</th>\n",
              "      <th>Cosine Recall@10</th>\n",
              "      <th>Cosine Ndcg@10</th>\n",
              "      <th>Cosine Mrr@10</th>\n",
              "      <th>Cosine Map@100</th>\n",
              "    </tr>\n",
              "  </thead>\n",
              "  <tbody>\n",
              "    <tr>\n",
              "      <td>41</td>\n",
              "      <td>No log</td>\n",
              "      <td>No log</td>\n",
              "      <td>0.787500</td>\n",
              "      <td>0.937500</td>\n",
              "      <td>0.987500</td>\n",
              "      <td>0.987500</td>\n",
              "      <td>0.787500</td>\n",
              "      <td>0.312500</td>\n",
              "      <td>0.197500</td>\n",
              "      <td>0.098750</td>\n",
              "      <td>0.787500</td>\n",
              "      <td>0.937500</td>\n",
              "      <td>0.987500</td>\n",
              "      <td>0.987500</td>\n",
              "      <td>0.898757</td>\n",
              "      <td>0.868958</td>\n",
              "      <td>0.870095</td>\n",
              "    </tr>\n",
              "    <tr>\n",
              "      <td>50</td>\n",
              "      <td>No log</td>\n",
              "      <td>No log</td>\n",
              "      <td>0.750000</td>\n",
              "      <td>0.937500</td>\n",
              "      <td>0.975000</td>\n",
              "      <td>0.987500</td>\n",
              "      <td>0.750000</td>\n",
              "      <td>0.312500</td>\n",
              "      <td>0.195000</td>\n",
              "      <td>0.098750</td>\n",
              "      <td>0.750000</td>\n",
              "      <td>0.937500</td>\n",
              "      <td>0.975000</td>\n",
              "      <td>0.987500</td>\n",
              "      <td>0.882388</td>\n",
              "      <td>0.847188</td>\n",
              "      <td>0.848149</td>\n",
              "    </tr>\n",
              "    <tr>\n",
              "      <td>82</td>\n",
              "      <td>No log</td>\n",
              "      <td>No log</td>\n",
              "      <td>0.750000</td>\n",
              "      <td>0.937500</td>\n",
              "      <td>0.975000</td>\n",
              "      <td>0.987500</td>\n",
              "      <td>0.750000</td>\n",
              "      <td>0.312500</td>\n",
              "      <td>0.195000</td>\n",
              "      <td>0.098750</td>\n",
              "      <td>0.750000</td>\n",
              "      <td>0.937500</td>\n",
              "      <td>0.975000</td>\n",
              "      <td>0.987500</td>\n",
              "      <td>0.877478</td>\n",
              "      <td>0.840938</td>\n",
              "      <td>0.841673</td>\n",
              "    </tr>\n",
              "    <tr>\n",
              "      <td>100</td>\n",
              "      <td>No log</td>\n",
              "      <td>No log</td>\n",
              "      <td>0.750000</td>\n",
              "      <td>0.937500</td>\n",
              "      <td>0.975000</td>\n",
              "      <td>0.987500</td>\n",
              "      <td>0.750000</td>\n",
              "      <td>0.312500</td>\n",
              "      <td>0.195000</td>\n",
              "      <td>0.098750</td>\n",
              "      <td>0.750000</td>\n",
              "      <td>0.937500</td>\n",
              "      <td>0.975000</td>\n",
              "      <td>0.987500</td>\n",
              "      <td>0.880751</td>\n",
              "      <td>0.845104</td>\n",
              "      <td>0.845839</td>\n",
              "    </tr>\n",
              "    <tr>\n",
              "      <td>123</td>\n",
              "      <td>No log</td>\n",
              "      <td>No log</td>\n",
              "      <td>0.712500</td>\n",
              "      <td>0.937500</td>\n",
              "      <td>0.987500</td>\n",
              "      <td>0.987500</td>\n",
              "      <td>0.712500</td>\n",
              "      <td>0.312500</td>\n",
              "      <td>0.197500</td>\n",
              "      <td>0.098750</td>\n",
              "      <td>0.712500</td>\n",
              "      <td>0.937500</td>\n",
              "      <td>0.987500</td>\n",
              "      <td>0.987500</td>\n",
              "      <td>0.867262</td>\n",
              "      <td>0.826458</td>\n",
              "      <td>0.827420</td>\n",
              "    </tr>\n",
              "    <tr>\n",
              "      <td>150</td>\n",
              "      <td>No log</td>\n",
              "      <td>No log</td>\n",
              "      <td>0.712500</td>\n",
              "      <td>0.937500</td>\n",
              "      <td>0.987500</td>\n",
              "      <td>0.987500</td>\n",
              "      <td>0.712500</td>\n",
              "      <td>0.312500</td>\n",
              "      <td>0.197500</td>\n",
              "      <td>0.098750</td>\n",
              "      <td>0.712500</td>\n",
              "      <td>0.937500</td>\n",
              "      <td>0.987500</td>\n",
              "      <td>0.987500</td>\n",
              "      <td>0.863441</td>\n",
              "      <td>0.821667</td>\n",
              "      <td>0.822402</td>\n",
              "    </tr>\n",
              "    <tr>\n",
              "      <td>164</td>\n",
              "      <td>No log</td>\n",
              "      <td>No log</td>\n",
              "      <td>0.737500</td>\n",
              "      <td>0.925000</td>\n",
              "      <td>0.975000</td>\n",
              "      <td>0.987500</td>\n",
              "      <td>0.737500</td>\n",
              "      <td>0.308333</td>\n",
              "      <td>0.195000</td>\n",
              "      <td>0.098750</td>\n",
              "      <td>0.737500</td>\n",
              "      <td>0.925000</td>\n",
              "      <td>0.975000</td>\n",
              "      <td>0.987500</td>\n",
              "      <td>0.873454</td>\n",
              "      <td>0.835556</td>\n",
              "      <td>0.836250</td>\n",
              "    </tr>\n",
              "    <tr>\n",
              "      <td>200</td>\n",
              "      <td>No log</td>\n",
              "      <td>No log</td>\n",
              "      <td>0.725000</td>\n",
              "      <td>0.937500</td>\n",
              "      <td>0.987500</td>\n",
              "      <td>0.987500</td>\n",
              "      <td>0.725000</td>\n",
              "      <td>0.312500</td>\n",
              "      <td>0.197500</td>\n",
              "      <td>0.098750</td>\n",
              "      <td>0.725000</td>\n",
              "      <td>0.937500</td>\n",
              "      <td>0.987500</td>\n",
              "      <td>0.987500</td>\n",
              "      <td>0.872964</td>\n",
              "      <td>0.834167</td>\n",
              "      <td>0.834861</td>\n",
              "    </tr>\n",
              "    <tr>\n",
              "      <td>205</td>\n",
              "      <td>No log</td>\n",
              "      <td>No log</td>\n",
              "      <td>0.725000</td>\n",
              "      <td>0.937500</td>\n",
              "      <td>0.987500</td>\n",
              "      <td>0.987500</td>\n",
              "      <td>0.725000</td>\n",
              "      <td>0.312500</td>\n",
              "      <td>0.197500</td>\n",
              "      <td>0.098750</td>\n",
              "      <td>0.725000</td>\n",
              "      <td>0.937500</td>\n",
              "      <td>0.987500</td>\n",
              "      <td>0.987500</td>\n",
              "      <td>0.871328</td>\n",
              "      <td>0.832083</td>\n",
              "      <td>0.832778</td>\n",
              "    </tr>\n",
              "    <tr>\n",
              "      <td>246</td>\n",
              "      <td>No log</td>\n",
              "      <td>No log</td>\n",
              "      <td>0.725000</td>\n",
              "      <td>0.937500</td>\n",
              "      <td>0.987500</td>\n",
              "      <td>0.987500</td>\n",
              "      <td>0.725000</td>\n",
              "      <td>0.312500</td>\n",
              "      <td>0.197500</td>\n",
              "      <td>0.098750</td>\n",
              "      <td>0.725000</td>\n",
              "      <td>0.937500</td>\n",
              "      <td>0.987500</td>\n",
              "      <td>0.987500</td>\n",
              "      <td>0.871875</td>\n",
              "      <td>0.832708</td>\n",
              "      <td>0.833444</td>\n",
              "    </tr>\n",
              "    <tr>\n",
              "      <td>250</td>\n",
              "      <td>No log</td>\n",
              "      <td>No log</td>\n",
              "      <td>0.737500</td>\n",
              "      <td>0.937500</td>\n",
              "      <td>0.987500</td>\n",
              "      <td>0.987500</td>\n",
              "      <td>0.737500</td>\n",
              "      <td>0.312500</td>\n",
              "      <td>0.197500</td>\n",
              "      <td>0.098750</td>\n",
              "      <td>0.737500</td>\n",
              "      <td>0.937500</td>\n",
              "      <td>0.987500</td>\n",
              "      <td>0.987500</td>\n",
              "      <td>0.876489</td>\n",
              "      <td>0.838958</td>\n",
              "      <td>0.839694</td>\n",
              "    </tr>\n",
              "    <tr>\n",
              "      <td>287</td>\n",
              "      <td>No log</td>\n",
              "      <td>No log</td>\n",
              "      <td>0.750000</td>\n",
              "      <td>0.937500</td>\n",
              "      <td>0.975000</td>\n",
              "      <td>0.987500</td>\n",
              "      <td>0.750000</td>\n",
              "      <td>0.312500</td>\n",
              "      <td>0.195000</td>\n",
              "      <td>0.098750</td>\n",
              "      <td>0.750000</td>\n",
              "      <td>0.937500</td>\n",
              "      <td>0.975000</td>\n",
              "      <td>0.987500</td>\n",
              "      <td>0.884795</td>\n",
              "      <td>0.850119</td>\n",
              "      <td>0.850900</td>\n",
              "    </tr>\n",
              "    <tr>\n",
              "      <td>300</td>\n",
              "      <td>No log</td>\n",
              "      <td>No log</td>\n",
              "      <td>0.737500</td>\n",
              "      <td>0.937500</td>\n",
              "      <td>0.975000</td>\n",
              "      <td>0.987500</td>\n",
              "      <td>0.737500</td>\n",
              "      <td>0.312500</td>\n",
              "      <td>0.195000</td>\n",
              "      <td>0.098750</td>\n",
              "      <td>0.737500</td>\n",
              "      <td>0.937500</td>\n",
              "      <td>0.975000</td>\n",
              "      <td>0.987500</td>\n",
              "      <td>0.878322</td>\n",
              "      <td>0.841562</td>\n",
              "      <td>0.842344</td>\n",
              "    </tr>\n",
              "    <tr>\n",
              "      <td>328</td>\n",
              "      <td>No log</td>\n",
              "      <td>No log</td>\n",
              "      <td>0.762500</td>\n",
              "      <td>0.937500</td>\n",
              "      <td>0.975000</td>\n",
              "      <td>0.987500</td>\n",
              "      <td>0.762500</td>\n",
              "      <td>0.312500</td>\n",
              "      <td>0.195000</td>\n",
              "      <td>0.098750</td>\n",
              "      <td>0.762500</td>\n",
              "      <td>0.937500</td>\n",
              "      <td>0.975000</td>\n",
              "      <td>0.987500</td>\n",
              "      <td>0.889185</td>\n",
              "      <td>0.856146</td>\n",
              "      <td>0.857039</td>\n",
              "    </tr>\n",
              "    <tr>\n",
              "      <td>350</td>\n",
              "      <td>No log</td>\n",
              "      <td>No log</td>\n",
              "      <td>0.762500</td>\n",
              "      <td>0.937500</td>\n",
              "      <td>0.975000</td>\n",
              "      <td>0.987500</td>\n",
              "      <td>0.762500</td>\n",
              "      <td>0.312500</td>\n",
              "      <td>0.195000</td>\n",
              "      <td>0.098750</td>\n",
              "      <td>0.762500</td>\n",
              "      <td>0.937500</td>\n",
              "      <td>0.975000</td>\n",
              "      <td>0.987500</td>\n",
              "      <td>0.888097</td>\n",
              "      <td>0.854687</td>\n",
              "      <td>0.855521</td>\n",
              "    </tr>\n",
              "    <tr>\n",
              "      <td>369</td>\n",
              "      <td>No log</td>\n",
              "      <td>No log</td>\n",
              "      <td>0.750000</td>\n",
              "      <td>0.937500</td>\n",
              "      <td>0.975000</td>\n",
              "      <td>0.987500</td>\n",
              "      <td>0.750000</td>\n",
              "      <td>0.312500</td>\n",
              "      <td>0.195000</td>\n",
              "      <td>0.098750</td>\n",
              "      <td>0.750000</td>\n",
              "      <td>0.937500</td>\n",
              "      <td>0.975000</td>\n",
              "      <td>0.987500</td>\n",
              "      <td>0.882070</td>\n",
              "      <td>0.846577</td>\n",
              "      <td>0.847359</td>\n",
              "    </tr>\n",
              "    <tr>\n",
              "      <td>400</td>\n",
              "      <td>No log</td>\n",
              "      <td>No log</td>\n",
              "      <td>0.750000</td>\n",
              "      <td>0.937500</td>\n",
              "      <td>0.975000</td>\n",
              "      <td>0.987500</td>\n",
              "      <td>0.750000</td>\n",
              "      <td>0.312500</td>\n",
              "      <td>0.195000</td>\n",
              "      <td>0.098750</td>\n",
              "      <td>0.750000</td>\n",
              "      <td>0.937500</td>\n",
              "      <td>0.975000</td>\n",
              "      <td>0.987500</td>\n",
              "      <td>0.882070</td>\n",
              "      <td>0.846577</td>\n",
              "      <td>0.847272</td>\n",
              "    </tr>\n",
              "    <tr>\n",
              "      <td>410</td>\n",
              "      <td>No log</td>\n",
              "      <td>No log</td>\n",
              "      <td>0.750000</td>\n",
              "      <td>0.937500</td>\n",
              "      <td>0.975000</td>\n",
              "      <td>0.987500</td>\n",
              "      <td>0.750000</td>\n",
              "      <td>0.312500</td>\n",
              "      <td>0.195000</td>\n",
              "      <td>0.098750</td>\n",
              "      <td>0.750000</td>\n",
              "      <td>0.937500</td>\n",
              "      <td>0.975000</td>\n",
              "      <td>0.987500</td>\n",
              "      <td>0.882070</td>\n",
              "      <td>0.846577</td>\n",
              "      <td>0.847272</td>\n",
              "    </tr>\n",
              "  </tbody>\n",
              "</table><p>"
            ],
            "text/plain": [
              "<IPython.core.display.HTML object>"
            ]
          },
          "metadata": {},
          "output_type": "display_data"
        }
      ],
      "source": [
        "warmup_steps = int(len(loader) * EPOCHS * 0.1)\n",
        "\n",
        "model.fit(\n",
        "    train_objectives=[(loader, train_loss)],\n",
        "    epochs=EPOCHS,\n",
        "    warmup_steps=warmup_steps,\n",
        "    output_path='finetuned_arctic_genesis',\n",
        "    show_progress_bar=True,\n",
        "    evaluator=evaluator,\n",
        "    evaluation_steps=50\n",
        ")"
      ]
    },
    {
      "cell_type": "code",
      "execution_count": 75,
      "metadata": {},
      "outputs": [
        {
          "data": {
            "application/vnd.jupyter.widget-view+json": {
              "model_id": "b2ea687d754f49aa9f825bb6f3543431",
              "version_major": 2,
              "version_minor": 0
            },
            "text/plain": [
              "VBox(children=(HTML(value='<center> <img\\nsrc=https://huggingface.co/front/assets/huggingface_logo-noborder.sv…"
            ]
          },
          "metadata": {},
          "output_type": "display_data"
        }
      ],
      "source": [
        "from huggingface_hub import notebook_login\n",
        "\n",
        "notebook_login()"
      ]
    },
    {
      "cell_type": "code",
      "execution_count": 76,
      "metadata": {},
      "outputs": [],
      "source": [
        "hf_username = \"kcheng0816\""
      ]
    },
    {
      "cell_type": "code",
      "execution_count": 77,
      "metadata": {},
      "outputs": [
        {
          "data": {
            "application/vnd.jupyter.widget-view+json": {
              "model_id": "88500c157a074dd78ecb81bb117843d4",
              "version_major": 2,
              "version_minor": 0
            },
            "text/plain": [
              "model.safetensors:   0%|          | 0.00/1.34G [00:00<?, ?B/s]"
            ]
          },
          "metadata": {},
          "output_type": "display_data"
        },
        {
          "data": {
            "text/plain": [
              "'https://huggingface.co/kcheng0816/finetuned_arctic_genesis/commit/9c58b5284347306cc14cacf4036ece0db3502af1'"
            ]
          },
          "execution_count": 77,
          "metadata": {},
          "output_type": "execute_result"
        }
      ],
      "source": [
        "model.push_to_hub(f\"{hf_username}/finetuned_arctic_genesis\")"
      ]
    },
    {
      "cell_type": "code",
      "execution_count": 78,
      "metadata": {},
      "outputs": [],
      "source": [
        "import pandas as pd\n",
        "\n",
        "from langchain_community.vectorstores import FAISS\n",
        "from langchain_openai.embeddings import OpenAIEmbeddings\n",
        "from langchain_core.documents import Document"
      ]
    },
    {
      "cell_type": "code",
      "execution_count": 79,
      "metadata": {},
      "outputs": [
        {
          "name": "stderr",
          "output_type": "stream",
          "text": [
            "libmagic is unavailable but assists in filetype detection. Please consider installing libmagic for better results.\n"
          ]
        }
      ],
      "source": [
        "path = \"data/\"\n",
        "loader = DirectoryLoader(path, glob=\"*.html\")\n",
        "docs = loader.load()"
      ]
    },
    {
      "cell_type": "code",
      "execution_count": 80,
      "metadata": {},
      "outputs": [
        {
          "data": {
            "text/plain": [
              "307"
            ]
          },
          "execution_count": 80,
          "metadata": {},
          "output_type": "execute_result"
        }
      ],
      "source": [
        "from langchain.text_splitter import RecursiveCharacterTextSplitter\n",
        "\n",
        "text_splitter = RecursiveCharacterTextSplitter(\n",
        "    chunk_size = 750,\n",
        "    chunk_overlap = 100\n",
        ")\n",
        "\n",
        "split_documents = text_splitter.split_documents(docs)\n",
        "len(split_documents)"
      ]
    },
    {
      "cell_type": "code",
      "execution_count": 81,
      "metadata": {},
      "outputs": [
        {
          "data": {
            "application/vnd.jupyter.widget-view+json": {
              "model_id": "7831f68736b64757bf8d0ad56c6b4871",
              "version_major": 2,
              "version_minor": 0
            },
            "text/plain": [
              "README.md:   0%|          | 0.00/32.1k [00:00<?, ?B/s]"
            ]
          },
          "metadata": {},
          "output_type": "display_data"
        },
        {
          "data": {
            "application/vnd.jupyter.widget-view+json": {
              "model_id": "28f3169483af4c1989e77a6c2b7df66b",
              "version_major": 2,
              "version_minor": 0
            },
            "text/plain": [
              "model.safetensors:   0%|          | 0.00/1.34G [00:00<?, ?B/s]"
            ]
          },
          "metadata": {},
          "output_type": "display_data"
        },
        {
          "name": "stderr",
          "output_type": "stream",
          "text": [
            "Some weights of BertModel were not initialized from the model checkpoint at kcheng0816/finetuned_arctic_genesis and are newly initialized: ['pooler.dense.bias', 'pooler.dense.weight']\n",
            "You should probably TRAIN this model on a down-stream task to be able to use it for predictions and inference.\n"
          ]
        }
      ],
      "source": [
        "from langchain_huggingface import HuggingFaceEmbeddings\n",
        "\n",
        "huggingface_embeddings = HuggingFaceEmbeddings(model_name=\"kcheng0816/finetuned_arctic_genesis\")"
      ]
    },
    {
      "cell_type": "code",
      "execution_count": 82,
      "metadata": {},
      "outputs": [],
      "source": [
        "from langchain_qdrant import QdrantVectorStore\n",
        "from qdrant_client import QdrantClient\n",
        "from qdrant_client.http.models import Distance, VectorParams\n",
        "\n",
        "client = QdrantClient(\":memory:\")\n",
        "\n",
        "client.create_collection(\n",
        "    collection_name=\"genesis_bible\",\n",
        "    vectors_config=VectorParams(size=1024, distance=Distance.COSINE),\n",
        ")\n",
        "\n",
        "vector_store = QdrantVectorStore(\n",
        "    client=client,\n",
        "    collection_name=\"genesis_bible\",\n",
        "    embedding=huggingface_embeddings,\n",
        ")"
      ]
    },
    {
      "cell_type": "code",
      "execution_count": 83,
      "metadata": {},
      "outputs": [],
      "source": [
        "_ = vector_store.add_documents(documents=split_documents)"
      ]
    },
    {
      "cell_type": "code",
      "execution_count": 84,
      "metadata": {},
      "outputs": [],
      "source": [
        "retriever = vector_store.as_retriever(search_kwargs={\"k\": 5})"
      ]
    },
    {
      "cell_type": "code",
      "execution_count": 85,
      "metadata": {},
      "outputs": [],
      "source": [
        "from langchain.retrievers.contextual_compression import ContextualCompressionRetriever\n",
        "from langchain_cohere import CohereRerank\n",
        "\n",
        "def retrieve_adjusted(state):\n",
        "  compressor = CohereRerank(model=\"rerank-v3.5\")\n",
        "  compression_retriever = ContextualCompressionRetriever(\n",
        "    base_compressor=compressor, base_retriever=retriever, search_kwargs={\"k\": 5}\n",
        "  )\n",
        "  retrieved_docs = compression_retriever.invoke(state[\"question\"])\n",
        "  return {\"context\" : retrieved_docs}"
      ]
    },
    {
      "cell_type": "code",
      "execution_count": 86,
      "metadata": {},
      "outputs": [],
      "source": [
        "from langchain.prompts import ChatPromptTemplate\n",
        "\n",
        "RAG_PROMPT = \"\"\"\\\n",
        "You are a helpful assistant who answers questions based on provided context. You must only use the provided context, and cannot use your own knowledge.\n",
        "\n",
        "### Question\n",
        "{question}\n",
        "\n",
        "### Context\n",
        "{context}\n",
        "\"\"\"\n",
        "\n",
        "rag_prompt = ChatPromptTemplate.from_template(RAG_PROMPT)"
      ]
    },
    {
      "cell_type": "code",
      "execution_count": 87,
      "metadata": {},
      "outputs": [],
      "source": [
        "from langchain_openai import ChatOpenAI\n",
        "from langchain.chat_models import init_chat_model\n",
        "from langchain_core.rate_limiters import InMemoryRateLimiter\n",
        "\n",
        "rate_limiter = InMemoryRateLimiter(\n",
        "    requests_per_second=1,  # <-- make a request once every 1 seconds!!\n",
        "    check_every_n_seconds=0.1,  # Wake up every 100 ms to check whether allowed to make a request,\n",
        "    max_bucket_size=10,  # Controls the maximum burst size.\n",
        ")\n",
        "\n",
        "llm = init_chat_model(\"gpt-4o-mini\", rate_limiter=rate_limiter)\n"
      ]
    },
    {
      "cell_type": "code",
      "execution_count": 88,
      "metadata": {},
      "outputs": [],
      "source": [
        "def generate(state):\n",
        "  docs_content = \"\\n\\n\".join(doc.page_content for doc in state[\"context\"])\n",
        "  messages = rag_prompt.format_messages(question=state[\"question\"], context=docs_content)\n",
        "  response = llm.invoke(messages)\n",
        "  return {\"response\" : response.content}"
      ]
    },
    {
      "cell_type": "code",
      "execution_count": 89,
      "metadata": {},
      "outputs": [],
      "source": [
        "from langgraph.graph import START, StateGraph\n",
        "from typing_extensions import List, TypedDict\n",
        "from langchain_core.documents import Document\n",
        "\n",
        "class State(TypedDict):\n",
        "  question: str\n",
        "  context: List[Document]\n",
        "  response: str"
      ]
    },
    {
      "cell_type": "code",
      "execution_count": 90,
      "metadata": {},
      "outputs": [],
      "source": [
        "graph_builder = StateGraph(State).add_sequence([retrieve_adjusted, generate])\n",
        "graph_builder.add_edge(START, \"retrieve_adjusted\")\n",
        "graph = graph_builder.compile()"
      ]
    },
    {
      "cell_type": "code",
      "execution_count": 91,
      "metadata": {},
      "outputs": [
        {
          "data": {
            "text/plain": [
              "'The universe was created by God, who began the process by creating the heavens and the earth from a formless void. Initially, darkness covered the deep waters, and a wind from God swept over them. Then, God commanded, \"Let there be light,\" and light came into existence. God saw that the light was good and separated it from the darkness, designating the light as Day and the darkness as Night. This marked the first day of creation.\\n\\nSubsequently, God continued the creation process over six days, creating the sky, land, plants, celestial bodies (the sun, moon, and stars), and living creatures in the waters and skies. On the seventh day, God rested from all His work, having completed the creation.'"
            ]
          },
          "execution_count": 91,
          "metadata": {},
          "output_type": "execute_result"
        }
      ],
      "source": [
        "response = graph.invoke({\"question\" : \"How the universe was created?\"})\n",
        "response[\"response\"]"
      ]
    },
    {
      "cell_type": "code",
      "execution_count": 92,
      "metadata": {},
      "outputs": [],
      "source": [
        "from langchain_core.messages import HumanMessage\n",
        "from langchain_core.tools import tool\n",
        "\n",
        "@tool\n",
        "def ai_rag_tool(question: str) -> str:\n",
        "    \"\"\"Useful for when you need to answer questions about Bible \"\"\"\n",
        "    response = graph.invoke({\"question\": question})\n",
        "    return {\n",
        "        \"message\": [HumanMessage(content=response[\"response\"])],\n",
        "        \"context\": response[\"context\"]\n",
        "    }"
      ]
    },
    {
      "cell_type": "code",
      "execution_count": 93,
      "metadata": {},
      "outputs": [],
      "source": [
        "tool_belt = [\n",
        "    ai_rag_tool\n",
        "]"
      ]
    },
    {
      "cell_type": "code",
      "execution_count": 94,
      "metadata": {},
      "outputs": [],
      "source": [
        "llm = init_chat_model(\"gpt-4o\", temperature=0, rate_limiter=rate_limiter)\n",
        "llm_with_tools = llm.bind_tools(tool_belt)"
      ]
    },
    {
      "cell_type": "code",
      "execution_count": 95,
      "metadata": {},
      "outputs": [],
      "source": [
        "from langgraph.graph import END\n",
        "from langchain_core.messages import AnyMessage\n",
        "from langgraph.graph.message import add_messages\n",
        "from typing import TypedDict, Annotated\n",
        "from langchain_core.documents import Document\n",
        "\n",
        "\n",
        "class AgentState(TypedDict):\n",
        "    messages: Annotated[list[AnyMessage], add_messages]\n",
        "    context:List[Document]"
      ]
    },
    {
      "cell_type": "code",
      "execution_count": 96,
      "metadata": {},
      "outputs": [],
      "source": [
        "from langgraph.prebuilt import ToolNode\n",
        "\n",
        "def call_mode(state):\n",
        "    messages = state[\"messages\"]\n",
        "    response = llm_with_tools.invoke(messages)\n",
        "    return {\n",
        "        \"messages\": [response],\n",
        "        \"context\": state.get(\"context\",[])\n",
        "    }"
      ]
    },
    {
      "cell_type": "code",
      "execution_count": 97,
      "metadata": {},
      "outputs": [],
      "source": [
        "tool_node = ToolNode(tool_belt)"
      ]
    },
    {
      "cell_type": "code",
      "execution_count": 98,
      "metadata": {},
      "outputs": [],
      "source": [
        "def should_continue(state):\n",
        "    last_message = state[\"messages\"][-1]\n",
        "\n",
        "    if last_message.tool_calls:\n",
        "        return \"action\"\n",
        "    \n",
        "    return END"
      ]
    },
    {
      "cell_type": "code",
      "execution_count": 99,
      "metadata": {},
      "outputs": [
        {
          "data": {
            "image/png": "[encoded data removed]",
            "text/plain": [
              "<IPython.core.display.Image object>"
            ]
          },
          "metadata": {},
          "output_type": "display_data"
        }
      ],
      "source": [
        "from langgraph.graph import StateGraph, END\n",
        "from IPython.display import Image, display\n",
        "\n",
        "uncompiled_graph = StateGraph(AgentState)\n",
        "\n",
        "uncompiled_graph.add_node(\"agent\", call_mode)\n",
        "uncompiled_graph.add_node(\"action\", tool_node)\n",
        "\n",
        "uncompiled_graph.set_entry_point(\"agent\")\n",
        "\n",
        "uncompiled_graph.add_conditional_edges(\n",
        "    \"agent\",\n",
        "    should_continue\n",
        ")\n",
        "\n",
        "uncompiled_graph.add_edge(\"action\", \"agent\")\n",
        "\n",
        "# Compile and display the graph for a visual overview\n",
        "compiled_graph = uncompiled_graph.compile()\n",
        "display(Image(compiled_graph.get_graph(xray=True).draw_mermaid_png()))    "
      ]
    },
    {
      "cell_type": "code",
      "execution_count": 100,
      "metadata": {},
      "outputs": [],
      "source": [
        "import time\n",
        "\n",
        "for test_row in dataset:\n",
        "    inputs = {\"messages\": [HumanMessage(content=test_row.eval_sample.user_input)]}\n",
        "    response = compiled_graph.invoke(inputs)\n",
        "    test_row.eval_sample.response = response[\"messages\"][-1].content\n",
        "    test_row.eval_sample.retrieved_contexts = extract_page_content(response[\"messages\"][-2].content)\n",
        "    time.sleep(60)\n"
      ]
    },
    {
      "cell_type": "code",
      "execution_count": 101,
      "metadata": {},
      "outputs": [
        {
          "data": {
            "text/html": [
              "<div>\n",
              "<style scoped>\n",
              "    .dataframe tbody tr th:only-of-type {\n",
              "        vertical-align: middle;\n",
              "    }\n",
              "\n",
              "    .dataframe tbody tr th {\n",
              "        vertical-align: top;\n",
              "    }\n",
              "\n",
              "    .dataframe thead th {\n",
              "        text-align: right;\n",
              "    }\n",
              "</style>\n",
              "<table border=\"1\" class=\"dataframe\">\n",
              "  <thead>\n",
              "    <tr style=\"text-align: right;\">\n",
              "      <th></th>\n",
              "      <th>user_input</th>\n",
              "      <th>retrieved_contexts</th>\n",
              "      <th>reference_contexts</th>\n",
              "      <th>response</th>\n",
              "      <th>reference</th>\n",
              "      <th>synthesizer_name</th>\n",
              "    </tr>\n",
              "  </thead>\n",
              "  <tbody>\n",
              "    <tr>\n",
              "      <th>0</th>\n",
              "      <td>What role does the dome play in the creation n...</td>\n",
              "      <td>[together he called Seas. And God saw that it ...</td>\n",
              "      <td>[Chapter 1 [1:1] In the beginning when God cre...</td>\n",
              "      <td>In the creation narrative, the dome plays a si...</td>\n",
              "      <td>In the creation narrative, the dome is created...</td>\n",
              "      <td>single_hop_specifc_query_synthesizer</td>\n",
              "    </tr>\n",
              "    <tr>\n",
              "      <th>1</th>\n",
              "      <td>In the context of the creation narrative found...</td>\n",
              "      <td>[is Pishon; it is the one that flows around th...</td>\n",
              "      <td>[Chapter 2 [2:1] Thus the heavens and the eart...</td>\n",
              "      <td>In the creation narrative found in Genesis, th...</td>\n",
              "      <td>In the creation narrative of Genesis, the Euph...</td>\n",
              "      <td>single_hop_specifc_query_synthesizer</td>\n",
              "    </tr>\n",
              "    <tr>\n",
              "      <th>2</th>\n",
              "      <td>Why LORD God make man leave garden?</td>\n",
              "      <td>[for out of it you were taken; you are dust, a...</td>\n",
              "      <td>[Chapter 3 [3:1] Now the serpent was more craf...</td>\n",
              "      <td>The LORD God made man leave the Garden of Eden...</td>\n",
              "      <td>The LORD God sent the man forth from the garde...</td>\n",
              "      <td>single_hop_specifc_query_synthesizer</td>\n",
              "    </tr>\n",
              "    <tr>\n",
              "      <th>3</th>\n",
              "      <td>Who was Eve in the context of Genesis Chapter 4?</td>\n",
              "      <td>[and a sword flaming and turning to guard the ...</td>\n",
              "      <td>[Chapter 4 [4:1] Now the man knew his wife Eve...</td>\n",
              "      <td>In the context of Genesis Chapter 4, Eve is th...</td>\n",
              "      <td>Eve was the wife of Adam and the mother of Cai...</td>\n",
              "      <td>single_hop_specifc_query_synthesizer</td>\n",
              "    </tr>\n",
              "    <tr>\n",
              "      <th>4</th>\n",
              "      <td>What is the significance of Jared in the genea...</td>\n",
              "      <td>[Thus all the days of Kenan were nine hundred ...</td>\n",
              "      <td>[Chapter 5 [5:1] This is the list of the desce...</td>\n",
              "      <td>In the genealogy of Adam, Jared is significant...</td>\n",
              "      <td>Jared is significant in the genealogy of Adam ...</td>\n",
              "      <td>single_hop_specifc_query_synthesizer</td>\n",
              "    </tr>\n",
              "    <tr>\n",
              "      <th>5</th>\n",
              "      <td>Why Jacob go to Bethel and what happen with hi...</td>\n",
              "      <td>[Perizzites; my numbers are few, and if they g...</td>\n",
              "      <td>[&lt;1-hop&gt;\\n\\nChapter 35 [35:1] God said to Jaco...</td>\n",
              "      <td>Jacob went to Bethel because God instructed hi...</td>\n",
              "      <td>Jacob went to Bethel because God told him to a...</td>\n",
              "      <td>multi_hop_specific_query_synthesizer</td>\n",
              "    </tr>\n",
              "    <tr>\n",
              "      <th>6</th>\n",
              "      <td>How did Sarai's journey with Abram from Ur of ...</td>\n",
              "      <td>[Sarai, Abram\\, from the river of Egypt to the...</td>\n",
              "      <td>[&lt;1-hop&gt;\\n\\nher mother said, \"Let the girl rem...</td>\n",
              "      <td>Sarai's journey with Abram from Ur of the Chal...</td>\n",
              "      <td>Sarai, Abram's wife, initially journeyed with ...</td>\n",
              "      <td>multi_hop_specific_query_synthesizer</td>\n",
              "    </tr>\n",
              "    <tr>\n",
              "      <th>7</th>\n",
              "      <td>How did the Israelites, led by Jacob, end up i...</td>\n",
              "      <td>[Then he said, \"I am God, the God of your fath...</td>\n",
              "      <td>[&lt;1-hop&gt;\\n\\nChapter 37 [37:1] Jacob settled in...</td>\n",
              "      <td>The Israelites, led by Jacob, ended up in Egyp...</td>\n",
              "      <td>The Israelites, led by Jacob, ended up in Egyp...</td>\n",
              "      <td>multi_hop_specific_query_synthesizer</td>\n",
              "    </tr>\n",
              "    <tr>\n",
              "      <th>8</th>\n",
              "      <td>How does the significance of Shechem in Abram'...</td>\n",
              "      <td>[and killed all the males. [34:26] They killed...</td>\n",
              "      <td>[&lt;1-hop&gt;\\n\\nand his daughter-in-law Sarai, his...</td>\n",
              "      <td>The significance of Shechem in Abram's journey...</td>\n",
              "      <td>In Abram's journey, Shechem is significant as ...</td>\n",
              "      <td>multi_hop_specific_query_synthesizer</td>\n",
              "    </tr>\n",
              "    <tr>\n",
              "      <th>9</th>\n",
              "      <td>What is the significance of Zebulun's settleme...</td>\n",
              "      <td>[]</td>\n",
              "      <td>[&lt;1-hop&gt;\\n\\nfather laid his right hand on the ...</td>\n",
              "      <td>Zebulun's settlement by the sea, as mentioned ...</td>\n",
              "      <td>In Jacob's blessings to his sons, Zebulun is p...</td>\n",
              "      <td>multi_hop_specific_query_synthesizer</td>\n",
              "    </tr>\n",
              "  </tbody>\n",
              "</table>\n",
              "</div>"
            ],
            "text/plain": [
              "                                          user_input  \\\n",
              "0  What role does the dome play in the creation n...   \n",
              "1  In the context of the creation narrative found...   \n",
              "2                Why LORD God make man leave garden?   \n",
              "3   Who was Eve in the context of Genesis Chapter 4?   \n",
              "4  What is the significance of Jared in the genea...   \n",
              "5  Why Jacob go to Bethel and what happen with hi...   \n",
              "6  How did Sarai's journey with Abram from Ur of ...   \n",
              "7  How did the Israelites, led by Jacob, end up i...   \n",
              "8  How does the significance of Shechem in Abram'...   \n",
              "9  What is the significance of Zebulun's settleme...   \n",
              "\n",
              "                                  retrieved_contexts  \\\n",
              "0  [together he called Seas. And God saw that it ...   \n",
              "1  [is Pishon; it is the one that flows around th...   \n",
              "2  [for out of it you were taken; you are dust, a...   \n",
              "3  [and a sword flaming and turning to guard the ...   \n",
              "4  [Thus all the days of Kenan were nine hundred ...   \n",
              "5  [Perizzites; my numbers are few, and if they g...   \n",
              "6  [Sarai, Abram\\, from the river of Egypt to the...   \n",
              "7  [Then he said, \"I am God, the God of your fath...   \n",
              "8  [and killed all the males. [34:26] They killed...   \n",
              "9                                                 []   \n",
              "\n",
              "                                  reference_contexts  \\\n",
              "0  [Chapter 1 [1:1] In the beginning when God cre...   \n",
              "1  [Chapter 2 [2:1] Thus the heavens and the eart...   \n",
              "2  [Chapter 3 [3:1] Now the serpent was more craf...   \n",
              "3  [Chapter 4 [4:1] Now the man knew his wife Eve...   \n",
              "4  [Chapter 5 [5:1] This is the list of the desce...   \n",
              "5  [<1-hop>\\n\\nChapter 35 [35:1] God said to Jaco...   \n",
              "6  [<1-hop>\\n\\nher mother said, \"Let the girl rem...   \n",
              "7  [<1-hop>\\n\\nChapter 37 [37:1] Jacob settled in...   \n",
              "8  [<1-hop>\\n\\nand his daughter-in-law Sarai, his...   \n",
              "9  [<1-hop>\\n\\nfather laid his right hand on the ...   \n",
              "\n",
              "                                            response  \\\n",
              "0  In the creation narrative, the dome plays a si...   \n",
              "1  In the creation narrative found in Genesis, th...   \n",
              "2  The LORD God made man leave the Garden of Eden...   \n",
              "3  In the context of Genesis Chapter 4, Eve is th...   \n",
              "4  In the genealogy of Adam, Jared is significant...   \n",
              "5  Jacob went to Bethel because God instructed hi...   \n",
              "6  Sarai's journey with Abram from Ur of the Chal...   \n",
              "7  The Israelites, led by Jacob, ended up in Egyp...   \n",
              "8  The significance of Shechem in Abram's journey...   \n",
              "9  Zebulun's settlement by the sea, as mentioned ...   \n",
              "\n",
              "                                           reference  \\\n",
              "0  In the creation narrative, the dome is created...   \n",
              "1  In the creation narrative of Genesis, the Euph...   \n",
              "2  The LORD God sent the man forth from the garde...   \n",
              "3  Eve was the wife of Adam and the mother of Cai...   \n",
              "4  Jared is significant in the genealogy of Adam ...   \n",
              "5  Jacob went to Bethel because God told him to a...   \n",
              "6  Sarai, Abram's wife, initially journeyed with ...   \n",
              "7  The Israelites, led by Jacob, ended up in Egyp...   \n",
              "8  In Abram's journey, Shechem is significant as ...   \n",
              "9  In Jacob's blessings to his sons, Zebulun is p...   \n",
              "\n",
              "                       synthesizer_name  \n",
              "0  single_hop_specifc_query_synthesizer  \n",
              "1  single_hop_specifc_query_synthesizer  \n",
              "2  single_hop_specifc_query_synthesizer  \n",
              "3  single_hop_specifc_query_synthesizer  \n",
              "4  single_hop_specifc_query_synthesizer  \n",
              "5  multi_hop_specific_query_synthesizer  \n",
              "6  multi_hop_specific_query_synthesizer  \n",
              "7  multi_hop_specific_query_synthesizer  \n",
              "8  multi_hop_specific_query_synthesizer  \n",
              "9  multi_hop_specific_query_synthesizer  "
            ]
          },
          "execution_count": 101,
          "metadata": {},
          "output_type": "execute_result"
        }
      ],
      "source": [
        "dataset.to_pandas()"
      ]
    },
    {
      "cell_type": "code",
      "execution_count": 102,
      "metadata": {},
      "outputs": [],
      "source": [
        "from ragas import EvaluationDataset\n",
        "\n",
        "evaluation_dataset = EvaluationDataset.from_pandas(dataset.to_pandas())"
      ]
    },
    {
      "cell_type": "code",
      "execution_count": 103,
      "metadata": {},
      "outputs": [],
      "source": [
        "from ragas import evaluate\n",
        "from ragas.llms import LangchainLLMWrapper\n",
        "\n",
        "evaluator_llm = LangchainLLMWrapper(init_chat_model(\"gpt-4o\", temperature=0, rate_limiter=rate_limiter))"
      ]
    },
    {
      "cell_type": "code",
      "execution_count": 104,
      "metadata": {},
      "outputs": [
        {
          "data": {
            "application/vnd.jupyter.widget-view+json": {
              "model_id": "69017cd7ed914be78483ac68ed6fa50c",
              "version_major": 2,
              "version_minor": 0
            },
            "text/plain": [
              "Evaluating:   0%|          | 0/60 [00:00<?, ?it/s]"
            ]
          },
          "metadata": {},
          "output_type": "display_data"
        },
        {
          "name": "stderr",
          "output_type": "stream",
          "text": [
            "Exception raised in Job[59]: ValueError(zero-size array to reduction operation maximum which has no identity)\n"
          ]
        },
        {
          "data": {
            "text/plain": [
              "{'context_recall': 0.6167, 'faithfulness': 0.5558, 'factual_correctness': 0.6120, 'answer_relevancy': 0.9705, 'context_entity_recall': 0.5371, 'noise_sensitivity_relevant': 0.1488}"
            ]
          },
          "execution_count": 104,
          "metadata": {},
          "output_type": "execute_result"
        }
      ],
      "source": [
        "from ragas.metrics import LLMContextRecall, Faithfulness, FactualCorrectness, ResponseRelevancy, ContextEntityRecall, NoiseSensitivity\n",
        "from ragas import evaluate, RunConfig\n",
        "\n",
        "custom_run_config = RunConfig(timeout=1440)\n",
        "\n",
        "result = evaluate(\n",
        "    dataset=evaluation_dataset,\n",
        "    metrics=[LLMContextRecall(), Faithfulness(), FactualCorrectness(), ResponseRelevancy(), ContextEntityRecall(), NoiseSensitivity()],\n",
        "    llm=evaluator_llm,\n",
        "    run_config=custom_run_config\n",
        ")\n",
        "result"
      ]
    },
    {
      "cell_type": "markdown",
      "metadata": {},
      "source": [
        "## Task 7: Assessing Performance\n"
      ]
    },
    {
      "cell_type": "code",
      "execution_count": 36,
      "metadata": {},
      "outputs": [],
      "source": [
        "def calculate_metric_delta(run1:dict, run2:dict) -> dict:\n",
        "    \"\"\"\n",
        "    calculate the delta between two metric runs.\n",
        "    A positive delta means run2 is higher than run1.\n",
        "\n",
        "    Args:\n",
        "        run1(dict): First run metrics\n",
        "        run2(dict): Second run metrics\n",
        "\n",
        "    Returns:\n",
        "        dict: Delta values for each metric\n",
        "    \"\"\"\n",
        "    if not run1.keys() == run2.keys():\n",
        "        raise ValueError(\"Both runs must contain the same metrics\")\n",
        "\n",
        "    delta = {}\n",
        "    for metric in run1:\n",
        "        delta[metric] = round((run2[metric] - run1[metric])/run1[metric], 4)\n",
        "        print(f\"{metric:<30} {run1[metric]:{10}.4f} {run2[metric]:{15}.4f} {delta[metric]:{10}.2%}\")\n",
        "        \n"
      ]
    },
    {
      "cell_type": "code",
      "execution_count": 38,
      "metadata": {},
      "outputs": [
        {
          "name": "stdout",
          "output_type": "stream",
          "text": [
            "Comparing the evaluation results\n",
            "                                 base-run      finetune-run   improved\n",
            "context_recall                     0.5500          0.6167     12.13%\n",
            "faithfulness                       0.5588          0.5558     -0.54%\n",
            "factual_correctness                0.6360          0.6120     -3.77%\n",
            "answer_relevancy                   0.8632          0.9705     12.43%\n",
            "context_entity_recall              0.5267          0.5371      1.97%\n",
            "noise_sensitivity_relevant         0.1293          0.1488     15.08%\n"
          ]
        }
      ],
      "source": [
        "print(\"Comparing the evaluation results\")\n",
        "print(\"                                 base-run      finetune-run   improved\")\n",
        "first_run = {'context_recall': 0.5500, 'faithfulness': 0.5588, 'factual_correctness': 0.6360, 'answer_relevancy': 0.8632, 'context_entity_recall': 0.5267, 'noise_sensitivity_relevant': 0.1293}\n",
        "second_run = {'context_recall': 0.6167, 'faithfulness': 0.5558, 'factual_correctness': 0.6120, 'answer_relevancy': 0.9705, 'context_entity_recall': 0.5371, 'noise_sensitivity_relevant': 0.1488}\n",
        "\n",
        "calculate_metric_delta(first_run, second_run)"
      ]
    },
    {
      "cell_type": "markdown",
      "metadata": {},
      "source": [
        "✅ Deliverables\n",
        "1. By evaluating my agent graph with the base open source embedding model and the same agent graph with the fine tuned embedding model, the above 6 metrics show the performance of the fine tuned one is improved a lot especially on context recall, answer relevancy and noise sensitivity relevancy.\n",
        "2. In the second half of the course, I plan to add more tools and resources in the agent graph. So it may be used by different groups of people in age, language, etc. "
      ]
    }
  ],
  "metadata": {
    "colab": {
      "provenance": []
    },
    "kernelspec": {
      "display_name": "Python 3",
      "language": "python",
      "name": "python3"
    },
    "language_info": {
      "codemirror_mode": {
        "name": "ipython",
        "version": 3
      },
      "file_extension": ".py",
      "mimetype": "text/x-python",
      "name": "python",
      "nbconvert_exporter": "python",
      "pygments_lexer": "ipython3",
      "version": "3.11.11"
    },
    "widgets": {
      "application/vnd.jupyter.widget-state+json": {
        "041e22a9b5514e36bd4d1dac01d5d398": {
          "model_module": "@jupyter-widgets/base",
          "model_module_version": "1.2.0",
          "model_name": "LayoutModel",
          "state": {
            "_model_module": "@jupyter-widgets/base",
            "_model_module_version": "1.2.0",
            "_model_name": "LayoutModel",
            "_view_count": null,
            "_view_module": "@jupyter-widgets/base",
            "_view_module_version": "1.2.0",
            "_view_name": "LayoutView",
            "align_content": null,
            "align_items": null,
            "align_self": null,
            "border": null,
            "bottom": null,
            "display": null,
            "flex": null,
            "flex_flow": null,
            "grid_area": null,
            "grid_auto_columns": null,
            "grid_auto_flow": null,
            "grid_auto_rows": null,
            "grid_column": null,
            "grid_gap": null,
            "grid_row": null,
            "grid_template_areas": null,
            "grid_template_columns": null,
            "grid_template_rows": null,
            "height": null,
            "justify_content": null,
            "justify_items": null,
            "left": null,
            "margin": null,
            "max_height": null,
            "max_width": null,
            "min_height": null,
            "min_width": null,
            "object_fit": null,
            "object_position": null,
            "order": null,
            "overflow": null,
            "overflow_x": null,
            "overflow_y": null,
            "padding": null,
            "right": null,
            "top": null,
            "visibility": null,
            "width": null
          }
        },
        "0d622ccc56264fac8fd7508dbdbe6e29": {
          "model_module": "@jupyter-widgets/controls",
          "model_module_version": "1.5.0",
          "model_name": "DescriptionStyleModel",
          "state": {
            "_model_module": "@jupyter-widgets/controls",
            "_model_module_version": "1.5.0",
            "_model_name": "DescriptionStyleModel",
            "_view_count": null,
            "_view_module": "@jupyter-widgets/base",
            "_view_module_version": "1.2.0",
            "_view_name": "StyleView",
            "description_width": ""
          }
        },
        "53e33aae3b97490c82aec7bbb0d6ebba": {
          "model_module": "@jupyter-widgets/controls",
          "model_module_version": "1.5.0",
          "model_name": "HTMLModel",
          "state": {
            "_dom_classes": [],
            "_model_module": "@jupyter-widgets/controls",
            "_model_module_version": "1.5.0",
            "_model_name": "HTMLModel",
            "_view_count": null,
            "_view_module": "@jupyter-widgets/controls",
            "_view_module_version": "1.5.0",
            "_view_name": "HTMLView",
            "description": "",
            "description_tooltip": null,
            "layout": "IPY_MODEL_041e22a9b5514e36bd4d1dac01d5d398",
            "placeholder": "​",
            "style": "IPY_MODEL_886d762f2a7c421382efb5502c6d42a1",
            "value": ""
          }
        },
        "716557ad09874dcb989d75f7c74424cd": {
          "model_module": "@jupyter-widgets/controls",
          "model_module_version": "1.5.0",
          "model_name": "ProgressStyleModel",
          "state": {
            "_model_module": "@jupyter-widgets/controls",
            "_model_module_version": "1.5.0",
            "_model_name": "ProgressStyleModel",
            "_view_count": null,
            "_view_module": "@jupyter-widgets/base",
            "_view_module_version": "1.2.0",
            "_view_name": "StyleView",
            "bar_color": null,
            "description_width": ""
          }
        },
        "72adef9b70dd48198b7322b6c5b113cf": {
          "model_module": "@jupyter-widgets/controls",
          "model_module_version": "1.5.0",
          "model_name": "HTMLModel",
          "state": {
            "_dom_classes": [],
            "_model_module": "@jupyter-widgets/controls",
            "_model_module_version": "1.5.0",
            "_model_name": "HTMLModel",
            "_view_count": null,
            "_view_module": "@jupyter-widgets/controls",
            "_view_module_version": "1.5.0",
            "_view_name": "HTMLView",
            "description": "",
            "description_tooltip": null,
            "layout": "IPY_MODEL_77d4c0ebaae045b58efc4f789c9a2360",
            "placeholder": "​",
            "style": "IPY_MODEL_0d622ccc56264fac8fd7508dbdbe6e29",
            "value": " 6/? [00:36&lt;00:00,  5.78s/it]"
          }
        },
        "77d4c0ebaae045b58efc4f789c9a2360": {
          "model_module": "@jupyter-widgets/base",
          "model_module_version": "1.2.0",
          "model_name": "LayoutModel",
          "state": {
            "_model_module": "@jupyter-widgets/base",
            "_model_module_version": "1.2.0",
            "_model_name": "LayoutModel",
            "_view_count": null,
            "_view_module": "@jupyter-widgets/base",
            "_view_module_version": "1.2.0",
            "_view_name": "LayoutView",
            "align_content": null,
            "align_items": null,
            "align_self": null,
            "border": null,
            "bottom": null,
            "display": null,
            "flex": null,
            "flex_flow": null,
            "grid_area": null,
            "grid_auto_columns": null,
            "grid_auto_flow": null,
            "grid_auto_rows": null,
            "grid_column": null,
            "grid_gap": null,
            "grid_row": null,
            "grid_template_areas": null,
            "grid_template_columns": null,
            "grid_template_rows": null,
            "height": null,
            "justify_content": null,
            "justify_items": null,
            "left": null,
            "margin": null,
            "max_height": null,
            "max_width": null,
            "min_height": null,
            "min_width": null,
            "object_fit": null,
            "object_position": null,
            "order": null,
            "overflow": null,
            "overflow_x": null,
            "overflow_y": null,
            "padding": null,
            "right": null,
            "top": null,
            "visibility": null,
            "width": null
          }
        },
        "886d762f2a7c421382efb5502c6d42a1": {
          "model_module": "@jupyter-widgets/controls",
          "model_module_version": "1.5.0",
          "model_name": "DescriptionStyleModel",
          "state": {
            "_model_module": "@jupyter-widgets/controls",
            "_model_module_version": "1.5.0",
            "_model_name": "DescriptionStyleModel",
            "_view_count": null,
            "_view_module": "@jupyter-widgets/base",
            "_view_module_version": "1.2.0",
            "_view_name": "StyleView",
            "description_width": ""
          }
        },
        "8a61d045ffd44ac58f3f13eb10044836": {
          "model_module": "@jupyter-widgets/base",
          "model_module_version": "1.2.0",
          "model_name": "LayoutModel",
          "state": {
            "_model_module": "@jupyter-widgets/base",
            "_model_module_version": "1.2.0",
            "_model_name": "LayoutModel",
            "_view_count": null,
            "_view_module": "@jupyter-widgets/base",
            "_view_module_version": "1.2.0",
            "_view_name": "LayoutView",
            "align_content": null,
            "align_items": null,
            "align_self": null,
            "border": null,
            "bottom": null,
            "display": null,
            "flex": null,
            "flex_flow": null,
            "grid_area": null,
            "grid_auto_columns": null,
            "grid_auto_flow": null,
            "grid_auto_rows": null,
            "grid_column": null,
            "grid_gap": null,
            "grid_row": null,
            "grid_template_areas": null,
            "grid_template_columns": null,
            "grid_template_rows": null,
            "height": null,
            "justify_content": null,
            "justify_items": null,
            "left": null,
            "margin": null,
            "max_height": null,
            "max_width": null,
            "min_height": null,
            "min_width": null,
            "object_fit": null,
            "object_position": null,
            "order": null,
            "overflow": null,
            "overflow_x": null,
            "overflow_y": null,
            "padding": null,
            "right": null,
            "top": null,
            "visibility": null,
            "width": null
          }
        },
        "ab91fd625bbd43afbf8c6398193a88d0": {
          "model_module": "@jupyter-widgets/base",
          "model_module_version": "1.2.0",
          "model_name": "LayoutModel",
          "state": {
            "_model_module": "@jupyter-widgets/base",
            "_model_module_version": "1.2.0",
            "_model_name": "LayoutModel",
            "_view_count": null,
            "_view_module": "@jupyter-widgets/base",
            "_view_module_version": "1.2.0",
            "_view_name": "LayoutView",
            "align_content": null,
            "align_items": null,
            "align_self": null,
            "border": null,
            "bottom": null,
            "display": null,
            "flex": null,
            "flex_flow": null,
            "grid_area": null,
            "grid_auto_columns": null,
            "grid_auto_flow": null,
            "grid_auto_rows": null,
            "grid_column": null,
            "grid_gap": null,
            "grid_row": null,
            "grid_template_areas": null,
            "grid_template_columns": null,
            "grid_template_rows": null,
            "height": null,
            "justify_content": null,
            "justify_items": null,
            "left": null,
            "margin": null,
            "max_height": null,
            "max_width": null,
            "min_height": null,
            "min_width": null,
            "object_fit": null,
            "object_position": null,
            "order": null,
            "overflow": null,
            "overflow_x": null,
            "overflow_y": null,
            "padding": null,
            "right": null,
            "top": null,
            "visibility": null,
            "width": "20px"
          }
        },
        "ad84e0e971d3455db2efe7dd0d1f803e": {
          "model_module": "@jupyter-widgets/controls",
          "model_module_version": "1.5.0",
          "model_name": "FloatProgressModel",
          "state": {
            "_dom_classes": [],
            "_model_module": "@jupyter-widgets/controls",
            "_model_module_version": "1.5.0",
            "_model_name": "FloatProgressModel",
            "_view_count": null,
            "_view_module": "@jupyter-widgets/controls",
            "_view_module_version": "1.5.0",
            "_view_name": "ProgressView",
            "bar_style": "success",
            "description": "",
            "description_tooltip": null,
            "layout": "IPY_MODEL_ab91fd625bbd43afbf8c6398193a88d0",
            "max": 1,
            "min": 0,
            "orientation": "horizontal",
            "style": "IPY_MODEL_716557ad09874dcb989d75f7c74424cd",
            "value": 1
          }
        },
        "efcf57067cf743d8b4ce059a61cbe02e": {
          "model_module": "@jupyter-widgets/controls",
          "model_module_version": "1.5.0",
          "model_name": "HBoxModel",
          "state": {
            "_dom_classes": [],
            "_model_module": "@jupyter-widgets/controls",
            "_model_module_version": "1.5.0",
            "_model_name": "HBoxModel",
            "_view_count": null,
            "_view_module": "@jupyter-widgets/controls",
            "_view_module_version": "1.5.0",
            "_view_name": "HBoxView",
            "box_style": "",
            "children": [
              "IPY_MODEL_53e33aae3b97490c82aec7bbb0d6ebba",
              "IPY_MODEL_ad84e0e971d3455db2efe7dd0d1f803e",
              "IPY_MODEL_72adef9b70dd48198b7322b6c5b113cf"
            ],
            "layout": "IPY_MODEL_8a61d045ffd44ac58f3f13eb10044836"
          }
        }
      }
    }
  },
  "nbformat": 4,
  "nbformat_minor": 0
}
