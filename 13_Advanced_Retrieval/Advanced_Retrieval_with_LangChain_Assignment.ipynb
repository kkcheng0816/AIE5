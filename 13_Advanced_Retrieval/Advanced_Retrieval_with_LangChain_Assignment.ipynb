{
  "cells": [
    {
      "cell_type": "markdown",
      "metadata": {
        "id": "e-IqJAMkwnCF"
      },
      "source": [
        "# Advanced Retrieval with LangChain\n",
        "\n",
        "In the following notebook, we'll explore various methods of advanced retrieval using LangChain!\n",
        "\n",
        "We'll touch on:\n",
        "\n",
        "- Naive Retrieval\n",
        "- Best-Matching 25 (BM25)\n",
        "- Multi-Query Retrieval\n",
        "- Parent-Document Retrieval\n",
        "- Contextual Compression (a.k.a. Rerank)\n",
        "- Ensemble Retrieval\n",
        "- Semantic chunking\n",
        "\n",
        "We'll also discuss how these methods impact performance on our set of documents with a simple RAG chain.\n",
        "\n",
        "There will be two breakout rooms:\n",
        "\n",
        "- 🤝 Breakout Room Part #1\n",
        "  - Task 1: Getting Dependencies!\n",
        "  - Task 2: Data Collection and Preparation\n",
        "  - Task 3: Setting Up QDrant!\n",
        "  - Task 4-10: Retrieval Strategies\n",
        "- 🤝 Breakout Room Part #2\n",
        "  - Activity: Evaluate with Ragas"
      ]
    },
    {
      "cell_type": "markdown",
      "metadata": {
        "id": "4rKP3hgHivpe"
      },
      "source": [
        "# 🤝 Breakout Room Part #1"
      ]
    },
    {
      "cell_type": "markdown",
      "metadata": {
        "id": "3xes8oT-xHN7"
      },
      "source": [
        "## Task 1: Getting Dependencies!\n",
        "\n",
        "We're going to need a few specific LangChain community packages, like OpenAI (for our [LLM](https://platform.openai.com/docs/models) and [Embedding Model](https://platform.openai.com/docs/guides/embeddings)) and Cohere (for our [Reranker](https://cohere.com/rerank)).\n",
        "\n",
        "> You do not need to run the following cells if you are running this notebook locally. "
      ]
    },
    {
      "cell_type": "code",
      "execution_count": null,
      "metadata": {
        "colab": {
          "base_uri": "https://localhost:8080/"
        },
        "id": "MkgFAXWVW3wm",
        "outputId": "636db35c-f05a-4038-ec7a-02360bef2dae"
      },
      "outputs": [],
      "source": [
        "#!pip install -qU langchain langchain-openai langchain-cohere rank_bm25"
      ]
    },
    {
      "cell_type": "markdown",
      "metadata": {
        "id": "dKqYM4Eoxcov"
      },
      "source": [
        "We're also going to be leveraging [Qdrant's](https://qdrant.tech/documentation/frameworks/langchain/) (pronounced \"Quadrant\") VectorDB in \"memory\" mode (so we can leverage it locally in our colab environment)."
      ]
    },
    {
      "cell_type": "code",
      "execution_count": null,
      "metadata": {
        "id": "s6xav5CxYnML"
      },
      "outputs": [],
      "source": [
        "#!pip install -qU qdrant-client"
      ]
    },
    {
      "cell_type": "markdown",
      "metadata": {
        "id": "Z7OHJXzfyJyA"
      },
      "source": [
        "We'll also provide our OpenAI key, as well as our Cohere API key."
      ]
    },
    {
      "cell_type": "code",
      "execution_count": 1,
      "metadata": {
        "colab": {
          "base_uri": "https://localhost:8080/"
        },
        "id": "7LttlDQUYgSI",
        "outputId": "9dca95ab-4d02-4adf-ec3f-cb831326dc54"
      },
      "outputs": [
        {
          "data": {
            "text/plain": [
              "True"
            ]
          },
          "execution_count": 1,
          "metadata": {},
          "output_type": "execute_result"
        }
      ],
      "source": [
        "import os\n",
        "from dotenv import load_dotenv\n",
        "\n",
        "load_dotenv()"
      ]
    },
    {
      "cell_type": "markdown",
      "metadata": {
        "id": "B0pDRFEWSXvh"
      },
      "source": []
    },
    {
      "cell_type": "markdown",
      "metadata": {
        "id": "mw304iAFyRtl"
      },
      "source": [
        "## Task 2: Data Collection and Preparation\n",
        "\n",
        "We'll be using some reviews from the 4 movies in the John Wick franchise today to explore the different retrieval strategies.\n",
        "\n",
        "These were obtained from IMDB, and are available in the [AIM Data Repository](https://github.com/AI-Maker-Space/DataRepository)."
      ]
    },
    {
      "cell_type": "markdown",
      "metadata": {
        "id": "xXKHcZmKzDwT"
      },
      "source": [
        "### Data Collection\n",
        "\n",
        "We can simply `wget` these from GitHub.\n",
        "\n",
        "You could use any review data you wanted in this step - just be careful to make sure your metadata is aligned with your choice."
      ]
    },
    {
      "cell_type": "code",
      "execution_count": null,
      "metadata": {
        "colab": {
          "base_uri": "https://localhost:8080/"
        },
        "id": "vbbSIGtzX3dS",
        "outputId": "0ce6514e-2479-4001-af24-824f987ce599"
      },
      "outputs": [],
      "source": [
        "!wget https://raw.githubusercontent.com/AI-Maker-Space/DataRepository/main/jw1.csv -O john_wick_1.csv\n",
        "!wget https://raw.githubusercontent.com/AI-Maker-Space/DataRepository/main/jw2.csv -O john_wick_2.csv\n",
        "!wget https://raw.githubusercontent.com/AI-Maker-Space/DataRepository/main/jw3.csv -O john_wick_3.csv\n",
        "!wget https://raw.githubusercontent.com/AI-Maker-Space/DataRepository/main/jw4.csv -O john_wick_4.csv"
      ]
    },
    {
      "cell_type": "markdown",
      "metadata": {
        "id": "A92NC2QZzCsi"
      },
      "source": [
        "### Data Preparation\n",
        "\n",
        "We want to make sure all our documents have the relevant metadata for the various retrieval strategies we're going to be applying today.\n",
        "\n",
        "- Self-Query: Wants as much metadata as we can provide\n",
        "- Time-weighted: Wants temporal data\n",
        "\n",
        "> NOTE: While we're creating a temporal relationship based on when these movies came out for illustrative purposes, it needs to be clear that the \"time-weighting\" in the Time-weighted Retriever is based on when the document was *accessed* last - not when it was created."
      ]
    },
    {
      "cell_type": "code",
      "execution_count": 2,
      "metadata": {
        "id": "GshBjVRJZ6p8"
      },
      "outputs": [],
      "source": [
        "from langchain_community.document_loaders.csv_loader import CSVLoader\n",
        "from datetime import datetime, timedelta\n",
        "\n",
        "documents = []\n",
        "\n",
        "for i in range(1, 5):\n",
        "  loader = CSVLoader(\n",
        "      file_path=f\"john_wick_{i}.csv\",\n",
        "      metadata_columns=[\"Review_Date\", \"Review_Title\", \"Review_Url\", \"Author\", \"Rating\"]\n",
        "  )\n",
        "\n",
        "  movie_docs = loader.load()\n",
        "  for doc in movie_docs:\n",
        "\n",
        "    # Add the \"Movie Title\" (John Wick 1, 2, ...)\n",
        "    doc.metadata[\"Movie_Title\"] = f\"John Wick {i}\"\n",
        "\n",
        "    # convert \"Rating\" to an `int`, if no rating is provided - assume 0 rating\n",
        "    doc.metadata[\"Rating\"] = int(doc.metadata[\"Rating\"]) if doc.metadata[\"Rating\"] else 0\n",
        "\n",
        "    # newer movies have a more recent \"last_accessed_at\"\n",
        "    doc.metadata[\"last_accessed_at\"] = datetime.now() - timedelta(days=4-i)\n",
        "\n",
        "  documents.extend(movie_docs)"
      ]
    },
    {
      "cell_type": "markdown",
      "metadata": {
        "id": "9gQphb6y0C0S"
      },
      "source": [
        "Let's look at an example document to see if everything worked as expected!"
      ]
    },
    {
      "cell_type": "code",
      "execution_count": 3,
      "metadata": {
        "colab": {
          "base_uri": "https://localhost:8080/"
        },
        "id": "PkUkCf7DaMiq",
        "outputId": "e90bd5da-1d87-423b-838a-cb6efc16b199"
      },
      "outputs": [
        {
          "data": {
            "text/plain": [
              "Document(metadata={'source': 'john_wick_1.csv', 'row': 0, 'Review_Date': '6 May 2015', 'Review_Title': ' Kinetic, concise, and stylish; John Wick kicks ass.\\n', 'Review_Url': '/review/rw3233896/?ref_=tt_urv', 'Author': 'lnvicta', 'Rating': 8, 'Movie_Title': 'John Wick 1', 'last_accessed_at': datetime.datetime(2025, 2, 26, 14, 42, 9, 823159)}, page_content=\": 0\\nReview: The best way I can describe John Wick is to picture Taken but instead of Liam Neeson it's Keanu Reeves and instead of his daughter it's his dog. That's essentially the plot of the movie. John Wick (Reeves) is out to seek revenge on the people who took something he loved from him. It's a beautifully simple premise for an action movie - when action movies get convoluted, they get bad i.e. A Good Day to Die Hard. John Wick gives the viewers what they want: Awesome action, stylish stunts, kinetic chaos, and a relatable hero to tie it all together. John Wick succeeds in its simplicity.\")"
            ]
          },
          "execution_count": 3,
          "metadata": {},
          "output_type": "execute_result"
        }
      ],
      "source": [
        "documents[0]"
      ]
    },
    {
      "cell_type": "markdown",
      "metadata": {
        "id": "lWaQpdHl0Gzc"
      },
      "source": [
        "## Task 3: Setting up QDrant!\n",
        "\n",
        "Now that we have our documents, let's create a QDrant VectorStore with the collection name \"JohnWick\".\n",
        "\n",
        "We'll leverage OpenAI's [`text-embedding-3-small`](https://openai.com/blog/new-embedding-models-and-api-updates) because it's a very powerful (and low-cost) embedding model.\n",
        "\n",
        "> NOTE: We'll be creating additional vectorstores where necessary, but this pattern is still extremely useful."
      ]
    },
    {
      "cell_type": "code",
      "execution_count": 4,
      "metadata": {
        "id": "NT8ihRJbYmMT"
      },
      "outputs": [],
      "source": [
        "from langchain_community.vectorstores import Qdrant\n",
        "from langchain_openai import OpenAIEmbeddings\n",
        "\n",
        "embeddings = OpenAIEmbeddings(model=\"text-embedding-3-small\")\n",
        "\n",
        "vectorstore = Qdrant.from_documents(\n",
        "    documents,\n",
        "    embeddings,\n",
        "    location=\":memory:\",\n",
        "    collection_name=\"JohnWick\"\n",
        ")"
      ]
    },
    {
      "cell_type": "markdown",
      "metadata": {
        "id": "-x2SS4Rh0hiN"
      },
      "source": [
        "## Task 4: Naive RAG Chain\n",
        "\n",
        "Since we're focusing on the \"R\" in RAG today - we'll create our Retriever first."
      ]
    },
    {
      "cell_type": "markdown",
      "metadata": {
        "id": "NEH7X5Ai08FH"
      },
      "source": [
        "### R - Retrieval\n",
        "\n",
        "This naive retriever will simply look at each review as a document, and use cosine-similarity to fetch the 10 most relevant documents.\n",
        "\n",
        "> NOTE: We're choosing `10` as our `k` here to provide enough documents for our reranking process later"
      ]
    },
    {
      "cell_type": "code",
      "execution_count": 5,
      "metadata": {
        "id": "GFDPrNBtb72o"
      },
      "outputs": [],
      "source": [
        "naive_retriever = vectorstore.as_retriever(search_kwargs={\"k\" : 10})"
      ]
    },
    {
      "cell_type": "markdown",
      "metadata": {
        "id": "MbBhyQjz06dx"
      },
      "source": [
        "### A - Augmented\n",
        "\n",
        "We're going to go with a standard prompt for our simple RAG chain today! Nothing fancy here, we want this to mostly be about the Retrieval process."
      ]
    },
    {
      "cell_type": "code",
      "execution_count": 6,
      "metadata": {
        "id": "7uSz-Dbqcoki"
      },
      "outputs": [],
      "source": [
        "from langchain_core.prompts import ChatPromptTemplate\n",
        "\n",
        "RAG_TEMPLATE = \"\"\"\\\n",
        "You are a helpful and kind assistant. Use the context provided below to answer the question.\n",
        "\n",
        "If you do not know the answer, or are unsure, say you don't know.\n",
        "\n",
        "Query:\n",
        "{question}\n",
        "\n",
        "Context:\n",
        "{context}\n",
        "\"\"\"\n",
        "\n",
        "rag_prompt = ChatPromptTemplate.from_template(RAG_TEMPLATE)"
      ]
    },
    {
      "cell_type": "markdown",
      "metadata": {
        "id": "BlRzpb231GGJ"
      },
      "source": [
        "### G - Generation\n",
        "\n",
        "We're going to leverage `gpt-3.5-turbo` as our LLM today, as - again - we want this to largely be about the Retrieval process."
      ]
    },
    {
      "cell_type": "code",
      "execution_count": 7,
      "metadata": {
        "id": "c-1t9H60dJLg"
      },
      "outputs": [],
      "source": [
        "from langchain_openai import ChatOpenAI\n",
        "\n",
        "chat_model = ChatOpenAI()"
      ]
    },
    {
      "cell_type": "markdown",
      "metadata": {
        "id": "mg3QRGzA1M2x"
      },
      "source": [
        "### LCEL RAG Chain\n",
        "\n",
        "We're going to use LCEL to construct our chain.\n",
        "\n",
        "> NOTE: This chain will be exactly the same across the various examples with the exception of our Retriever!"
      ]
    },
    {
      "cell_type": "code",
      "execution_count": 8,
      "metadata": {
        "id": "0bvstS7mdOW3"
      },
      "outputs": [],
      "source": [
        "from langchain_core.runnables import RunnablePassthrough\n",
        "from operator import itemgetter\n",
        "from langchain_core.output_parsers import StrOutputParser\n",
        "\n",
        "naive_retrieval_chain = (\n",
        "    # INVOKE CHAIN WITH: {\"question\" : \"<<SOME USER QUESTION>>\"}\n",
        "    # \"question\" : populated by getting the value of the \"question\" key\n",
        "    # \"context\"  : populated by getting the value of the \"question\" key and chaining it into the base_retriever\n",
        "    {\"context\": itemgetter(\"question\") | naive_retriever, \"question\": itemgetter(\"question\")}\n",
        "    # \"context\"  : is assigned to a RunnablePassthrough object (will not be called or considered in the next step)\n",
        "    #              by getting the value of the \"context\" key from the previous step\n",
        "    | RunnablePassthrough.assign(context=itemgetter(\"context\"))\n",
        "    # \"response\" : the \"context\" and \"question\" values are used to format our prompt object and then piped\n",
        "    #              into the LLM and stored in a key called \"response\"\n",
        "    # \"context\"  : populated by getting the value of the \"context\" key from the previous step\n",
        "    | {\"response\": rag_prompt | chat_model, \"context\": itemgetter(\"context\")}\n",
        ")"
      ]
    },
    {
      "cell_type": "markdown",
      "metadata": {
        "id": "izKujhNb1ZG8"
      },
      "source": [
        "Let's see how this simple chain does on a few different prompts.\n",
        "\n",
        "> NOTE: You might think that we've cherry picked prompts that showcase the individual skill of each of the retrieval strategies - you'd be correct!"
      ]
    },
    {
      "cell_type": "code",
      "execution_count": 9,
      "metadata": {
        "colab": {
          "base_uri": "https://localhost:8080/",
          "height": 36
        },
        "id": "LI-5ueEddku9",
        "outputId": "7f3cec18-5f4e-41bb-cf71-51ba0be5388e"
      },
      "outputs": [
        {
          "data": {
            "text/plain": [
              "\"From the reviews provided, it seems that the majority of people really liked John Wick. The film was praised for its action sequences, Keanu Reeves' performance, and the overall entertainment value it provided. Therefore, it can be concluded that people generally liked John Wick.\""
            ]
          },
          "execution_count": 9,
          "metadata": {},
          "output_type": "execute_result"
        }
      ],
      "source": [
        "naive_retrieval_chain.invoke({\"question\" : \"Did people generally like John Wick?\"})[\"response\"].content"
      ]
    },
    {
      "cell_type": "code",
      "execution_count": 10,
      "metadata": {
        "colab": {
          "base_uri": "https://localhost:8080/",
          "height": 36
        },
        "id": "43zdcdUydtXh",
        "outputId": "db874e67-f568-4ed1-b863-b7c17b387052"
      },
      "outputs": [
        {
          "data": {
            "text/plain": [
              "'Yes, there is a review with a rating of 10 for \"John Wick 3\". Here is the URL to that review: \\'/review/rw4854296/?ref_=tt_urv\\'.'"
            ]
          },
          "execution_count": 10,
          "metadata": {},
          "output_type": "execute_result"
        }
      ],
      "source": [
        "naive_retrieval_chain.invoke({\"question\" : \"Do any reviews have a rating of 10? If so - can I have the URLs to those reviews?\"})[\"response\"].content"
      ]
    },
    {
      "cell_type": "code",
      "execution_count": 11,
      "metadata": {
        "colab": {
          "base_uri": "https://localhost:8080/",
          "height": 70
        },
        "id": "lpG6rlvvvKFq",
        "outputId": "a1b330b0-628e-41be-d829-9c1d55e781f5"
      },
      "outputs": [
        {
          "data": {
            "text/plain": [
              "'In John Wick, an ex-hitman seeks vengeance after gangsters kill his dog and steal his car, leading to a series of violent and action-packed events that unfold in the movie.'"
            ]
          },
          "execution_count": 11,
          "metadata": {},
          "output_type": "execute_result"
        }
      ],
      "source": [
        "naive_retrieval_chain.invoke({\"question\" : \"What happened in John Wick?\"})[\"response\"].content"
      ]
    },
    {
      "cell_type": "markdown",
      "metadata": {
        "id": "jsbfQmbr1leg"
      },
      "source": [
        "Overall, this is not bad! Let's see if we can make it better!"
      ]
    },
    {
      "cell_type": "markdown",
      "metadata": {
        "id": "Ft1vt8HPR16w"
      },
      "source": [
        "## Task 5: Best-Matching 25 (BM25) Retriever\n",
        "\n",
        "Taking a step back in time - [BM25](https://www.nowpublishers.com/article/Details/INR-019) is based on [Bag-Of-Words](https://en.wikipedia.org/wiki/Bag-of-words_model) which is a sparse representation of text.\n",
        "\n",
        "In essence, it's a way to compare how similar two pieces of text are based on the words they both contain.\n",
        "\n",
        "This retriever is very straightforward to set-up! Let's see it happen down below!\n"
      ]
    },
    {
      "cell_type": "code",
      "execution_count": 12,
      "metadata": {
        "id": "qdF4wuj5R-cG"
      },
      "outputs": [],
      "source": [
        "from langchain_community.retrievers import BM25Retriever\n",
        "\n",
        "bm25_retriever = BM25Retriever.from_documents(documents)"
      ]
    },
    {
      "cell_type": "markdown",
      "metadata": {
        "id": "KIjJlBQ8drKH"
      },
      "source": [
        "We'll construct the same chain - only changing the retriever."
      ]
    },
    {
      "cell_type": "code",
      "execution_count": 13,
      "metadata": {
        "id": "WR15EQG7SLuw"
      },
      "outputs": [],
      "source": [
        "bm25_retrieval_chain = (\n",
        "    {\"context\": itemgetter(\"question\") | bm25_retriever, \"question\": itemgetter(\"question\")}\n",
        "    | RunnablePassthrough.assign(context=itemgetter(\"context\"))\n",
        "    | {\"response\": rag_prompt | chat_model, \"context\": itemgetter(\"context\")}\n",
        ")"
      ]
    },
    {
      "cell_type": "markdown",
      "metadata": {
        "id": "0Gi-yXCDdvJk"
      },
      "source": [
        "Let's look at the responses!"
      ]
    },
    {
      "cell_type": "code",
      "execution_count": 14,
      "metadata": {
        "colab": {
          "base_uri": "https://localhost:8080/",
          "height": 53
        },
        "id": "oY9qzmm3SOrF",
        "outputId": "4d4f450f-5978-460f-f242-b32407868353"
      },
      "outputs": [
        {
          "data": {
            "text/plain": [
              "\"People's opinions on John Wick seem divided based on the reviews provided. Some reviewers loved the action and style of the movie, while others found it lacking in plot and substance. It ultimately depends on personal preference.\""
            ]
          },
          "execution_count": 14,
          "metadata": {},
          "output_type": "execute_result"
        }
      ],
      "source": [
        "bm25_retrieval_chain.invoke({\"question\" : \"Did people generally like John Wick?\"})[\"response\"].content"
      ]
    },
    {
      "cell_type": "code",
      "execution_count": 15,
      "metadata": {
        "colab": {
          "base_uri": "https://localhost:8080/",
          "height": 36
        },
        "id": "igfinyneSQkh",
        "outputId": "9752d4a9-dd16-45b1-f63f-a76e93a05eb3"
      },
      "outputs": [
        {
          "data": {
            "text/plain": [
              "\"I'm sorry, there are no reviews with a rating of 10 in the provided context.\""
            ]
          },
          "execution_count": 15,
          "metadata": {},
          "output_type": "execute_result"
        }
      ],
      "source": [
        "bm25_retrieval_chain.invoke({\"question\" : \"Do any reviews have a rating of 10? If so - can I have the URLs to those reviews?\"})[\"response\"].content"
      ]
    },
    {
      "cell_type": "code",
      "execution_count": 16,
      "metadata": {
        "colab": {
          "base_uri": "https://localhost:8080/",
          "height": 53
        },
        "id": "w0H7pV_USSMQ",
        "outputId": "bdead654-3109-4143-9a30-e1d6ca8dc534"
      },
      "outputs": [
        {
          "data": {
            "text/plain": [
              "\"In John Wick, the main character John Wick is a retired hitman seeking vengeance for the death of his dog, which was a final gift from his deceased wife. This sets off a chain of events where Wick goes on a violent rampage against those responsible for the dog's death. The movie is known for its intense action sequences and stylish choreography.\""
            ]
          },
          "execution_count": 16,
          "metadata": {},
          "output_type": "execute_result"
        }
      ],
      "source": [
        "bm25_retrieval_chain.invoke({\"question\" : \"What happened in John Wick?\"})[\"response\"].content"
      ]
    },
    {
      "cell_type": "markdown",
      "metadata": {
        "id": "zvg5xHaUdxCl"
      },
      "source": [
        "It's not clear that this is better or worse - but the `I don't know` isn't great!"
      ]
    },
    {
      "cell_type": "markdown",
      "metadata": {
        "id": "Q-dcbFn2vpZF"
      },
      "source": [
        "## Task 6: Contextual Compression (Using Reranking)\n",
        "\n",
        "Contextual Compression is a fairly straightforward idea: We want to \"compress\" our retrieved context into just the most useful bits.\n",
        "\n",
        "There are a few ways we can achieve this - but we're going to look at a specific example called reranking.\n",
        "\n",
        "The basic idea here is this:\n",
        "\n",
        "- We retrieve lots of documents that are very likely related to our query vector\n",
        "- We \"compress\" those documents into a smaller set of *more* related documents using a reranking algorithm.\n",
        "\n",
        "We'll be leveraging Cohere's Rerank model for our reranker today!\n",
        "\n",
        "All we need to do is the following:\n",
        "\n",
        "- Create a basic retriever\n",
        "- Create a compressor (reranker, in this case)\n",
        "\n",
        "That's it!\n",
        "\n",
        "Let's see it in the code below!"
      ]
    },
    {
      "cell_type": "code",
      "execution_count": 17,
      "metadata": {
        "id": "psHvO2K1v_ZQ"
      },
      "outputs": [],
      "source": [
        "from langchain.retrievers.contextual_compression import ContextualCompressionRetriever\n",
        "from langchain_cohere import CohereRerank\n",
        "\n",
        "compressor = CohereRerank(model=\"rerank-english-v3.0\")\n",
        "compression_retriever = ContextualCompressionRetriever(\n",
        "    base_compressor=compressor, base_retriever=naive_retriever\n",
        ")"
      ]
    },
    {
      "cell_type": "markdown",
      "metadata": {
        "id": "_TA9RB2x-j7P"
      },
      "source": [
        "Let's create our chain again, and see how this does!"
      ]
    },
    {
      "cell_type": "code",
      "execution_count": 18,
      "metadata": {
        "id": "1BXqmxvHwX6T"
      },
      "outputs": [],
      "source": [
        "contextual_compression_retrieval_chain = (\n",
        "    {\"context\": itemgetter(\"question\") | compression_retriever, \"question\": itemgetter(\"question\")}\n",
        "    | RunnablePassthrough.assign(context=itemgetter(\"context\"))\n",
        "    | {\"response\": rag_prompt | chat_model, \"context\": itemgetter(\"context\")}\n",
        ")"
      ]
    },
    {
      "cell_type": "code",
      "execution_count": 19,
      "metadata": {
        "colab": {
          "base_uri": "https://localhost:8080/",
          "height": 36
        },
        "id": "V3iGpokswcBb",
        "outputId": "f15d2aa1-5e8b-417d-f623-eb835d072e59"
      },
      "outputs": [
        {
          "data": {
            "text/plain": [
              "'Yes, people generally liked John Wick based on the positive reviews provided in the context.'"
            ]
          },
          "execution_count": 19,
          "metadata": {},
          "output_type": "execute_result"
        }
      ],
      "source": [
        "contextual_compression_retrieval_chain.invoke({\"question\" : \"Did people generally like John Wick?\"})[\"response\"].content"
      ]
    },
    {
      "cell_type": "code",
      "execution_count": 20,
      "metadata": {
        "colab": {
          "base_uri": "https://localhost:8080/",
          "height": 53
        },
        "id": "7u_k0i4OweUd",
        "outputId": "be5fccc8-2352-4189-c524-bbeaa28cf799"
      },
      "outputs": [
        {
          "data": {
            "text/plain": [
              "\"Yes, there is a review with a rating of 10. Here is the URL to that review: '/review/rw4854296/?ref_=tt_urv'\""
            ]
          },
          "execution_count": 20,
          "metadata": {},
          "output_type": "execute_result"
        }
      ],
      "source": [
        "contextual_compression_retrieval_chain.invoke({\"question\" : \"Do any reviews have a rating of 10? If so - can I have the URLs to those reviews?\"})[\"response\"].content"
      ]
    },
    {
      "cell_type": "code",
      "execution_count": 21,
      "metadata": {
        "colab": {
          "base_uri": "https://localhost:8080/",
          "height": 70
        },
        "id": "zn1EqaGqweXN",
        "outputId": "42bc5972-4164-46eb-f49d-4272f39bb89b"
      },
      "outputs": [
        {
          "data": {
            "text/plain": [
              "\"In John Wick, after resolving his issues with the Russian mafia, John Wick returns home. However, the mobster Santino D'Antonio visits him and asks for his help, but Wick refuses. As a result, Santino blows up his house. Wick is then asked to kill Santino's sister in Rome, which he does. This leads to a contract being put on John Wick, attracting professional killers from everywhere. Wick promises to kill Santino, who is no longer protected by his marker.\""
            ]
          },
          "execution_count": 21,
          "metadata": {},
          "output_type": "execute_result"
        }
      ],
      "source": [
        "contextual_compression_retrieval_chain.invoke({\"question\" : \"What happened in John Wick?\"})[\"response\"].content"
      ]
    },
    {
      "cell_type": "markdown",
      "metadata": {
        "id": "OEbT0g2S-mZ4"
      },
      "source": [
        "We'll need to rely on something like Ragas to help us get a better sense of how this is performing overall - but it \"feels\" better!"
      ]
    },
    {
      "cell_type": "markdown",
      "metadata": {
        "id": "qqbghrBEQNn5"
      },
      "source": [
        "## Task 7: Multi-Query Retriever\n",
        "\n",
        "Typically in RAG we have a single query - the one provided by the user.\n",
        "\n",
        "What if we had....more than one query!\n",
        "\n",
        "In essence, a Multi-Query Retriever works by:\n",
        "\n",
        "1. Taking the original user query and creating `n` number of new user queries using an LLM.\n",
        "2. Retrieving documents for each query.\n",
        "3. Using all unique retrieved documents as context\n",
        "\n",
        "So, how is it to set-up? Not bad! Let's see it down below!\n",
        "\n"
      ]
    },
    {
      "cell_type": "code",
      "execution_count": 22,
      "metadata": {
        "id": "pfM26ReXQjzU"
      },
      "outputs": [],
      "source": [
        "from langchain.retrievers.multi_query import MultiQueryRetriever\n",
        "\n",
        "multi_query_retriever = MultiQueryRetriever.from_llm(\n",
        "    retriever=naive_retriever, llm=chat_model\n",
        ")"
      ]
    },
    {
      "cell_type": "code",
      "execution_count": 23,
      "metadata": {
        "id": "1vRc129jQ5WW"
      },
      "outputs": [],
      "source": [
        "multi_query_retrieval_chain = (\n",
        "    {\"context\": itemgetter(\"question\") | multi_query_retriever, \"question\": itemgetter(\"question\")}\n",
        "    | RunnablePassthrough.assign(context=itemgetter(\"context\"))\n",
        "    | {\"response\": rag_prompt | chat_model, \"context\": itemgetter(\"context\")}\n",
        ")"
      ]
    },
    {
      "cell_type": "code",
      "execution_count": 24,
      "metadata": {
        "colab": {
          "base_uri": "https://localhost:8080/",
          "height": 53
        },
        "id": "CGgNuOb3Q3M9",
        "outputId": "c5273ecf-da35-40b8-fbdb-0f8beab425f7"
      },
      "outputs": [
        {
          "data": {
            "text/plain": [
              "'Yes, people generally liked John Wick. The reviews mention how it was a cool, stylish, and fun action film that was highly recommended, with some even calling it the best action film of the year.'"
            ]
          },
          "execution_count": 24,
          "metadata": {},
          "output_type": "execute_result"
        }
      ],
      "source": [
        "multi_query_retrieval_chain.invoke({\"question\" : \"Did people generally like John Wick?\"})[\"response\"].content"
      ]
    },
    {
      "cell_type": "code",
      "execution_count": 25,
      "metadata": {
        "colab": {
          "base_uri": "https://localhost:8080/",
          "height": 36
        },
        "id": "aAlSthxrRDBC",
        "outputId": "230ff807-23ae-4d25-8d11-cfdbed0b77cb"
      },
      "outputs": [
        {
          "data": {
            "text/plain": [
              "\"Yes, there is a review with a rating of 10. Here is the URL to that review: '/review/rw4854296/?ref_=tt_urv'\""
            ]
          },
          "execution_count": 25,
          "metadata": {},
          "output_type": "execute_result"
        }
      ],
      "source": [
        "multi_query_retrieval_chain.invoke({\"question\" : \"Do any reviews have a rating of 10? If so - can I have the URLs to those reviews?\"})[\"response\"].content"
      ]
    },
    {
      "cell_type": "code",
      "execution_count": 26,
      "metadata": {
        "colab": {
          "base_uri": "https://localhost:8080/",
          "height": 88
        },
        "id": "Uv1mpCK8REs4",
        "outputId": "00fbc22a-ed9b-4613-9695-0b179e3f8369"
      },
      "outputs": [
        {
          "data": {
            "text/plain": [
              "\"In John Wick, the main character, played by Keanu Reeves, is a retired assassin who is forced back into action after someone kills his dog and steals his car. He goes on a mission to pay off an old debt by helping take over the Assassin's Guild in various locations, resulting in a lot of carnage and action-packed sequences.\""
            ]
          },
          "execution_count": 26,
          "metadata": {},
          "output_type": "execute_result"
        }
      ],
      "source": [
        "multi_query_retrieval_chain.invoke({\"question\" : \"What happened in John Wick?\"})[\"response\"].content"
      ]
    },
    {
      "cell_type": "markdown",
      "metadata": {
        "id": "EDEawBf_d_3G"
      },
      "source": [
        "## Task 8: Parent Document Retriever\n",
        "\n",
        "A \"small-to-big\" strategy - the Parent Document Retriever works based on a simple strategy:\n",
        "\n",
        "1. Each un-split \"document\" will be designated as a \"parent document\" (You could use larger chunks of document as well, but our data format allows us to consider the overall document as the parent chunk)\n",
        "2. Store those \"parent documents\" in a memory store (not a VectorStore)\n",
        "3. We will chunk each of those documents into smaller documents, and associate them with their respective parents, and store those in a VectorStore. We'll call those \"child chunks\".\n",
        "4. When we query our Retriever, we will do a similarity search comparing our query vector to the \"child chunks\".\n",
        "5. Instead of returning the \"child chunks\", we'll return their associated \"parent chunks\".\n",
        "\n",
        "Okay, maybe that was a few steps - but the basic idea is this:\n",
        "\n",
        "- Search for small documents\n",
        "- Return big documents\n",
        "\n",
        "The intuition is that we're likely to find the most relevant information by limiting the amount of semantic information that is encoded in each embedding vector - but we're likely to miss relevant surrounding context if we only use that information.\n",
        "\n",
        "Let's start by creating our \"parent documents\" and defining a `RecursiveCharacterTextSplitter`."
      ]
    },
    {
      "cell_type": "code",
      "execution_count": 27,
      "metadata": {
        "id": "qJ53JJuMd_ZH"
      },
      "outputs": [],
      "source": [
        "from langchain.retrievers import ParentDocumentRetriever\n",
        "from langchain.storage import InMemoryStore\n",
        "from langchain_text_splitters import RecursiveCharacterTextSplitter\n",
        "from qdrant_client import QdrantClient, models\n",
        "\n",
        "parent_docs = documents\n",
        "child_splitter = RecursiveCharacterTextSplitter(chunk_size=200)"
      ]
    },
    {
      "cell_type": "markdown",
      "metadata": {
        "id": "oOpXfVUH3gL3"
      },
      "source": [
        "We'll need to set up a new QDrant vectorstore - and we'll use another useful pattern to do so!\n",
        "\n",
        "> NOTE: We are manually defining our embedding dimension, you'll need to change this if you're using a different embedding model."
      ]
    },
    {
      "cell_type": "code",
      "execution_count": 28,
      "metadata": {
        "colab": {
          "base_uri": "https://localhost:8080/"
        },
        "id": "rzFc-_9HlGQ-",
        "outputId": "223662dd-c36f-42f7-d1b0-b086e571484e"
      },
      "outputs": [
        {
          "name": "stderr",
          "output_type": "stream",
          "text": [
            "/var/folders/py/59pg88q51m1cct02tzrgjbyw0000gn/T/ipykernel_23248/3574430551.py:8: LangChainDeprecationWarning: The class `Qdrant` was deprecated in LangChain 0.0.37 and will be removed in 1.0. An updated version of the class exists in the :class:`~langchain-qdrant package and should be used instead. To use it run `pip install -U :class:`~langchain-qdrant` and import as `from :class:`~langchain_qdrant import Qdrant``.\n",
            "  parent_document_vectorstore = Qdrant(\n"
          ]
        }
      ],
      "source": [
        "client = QdrantClient(location=\":memory:\")\n",
        "\n",
        "client.create_collection(\n",
        "    collection_name=\"full_documents\",\n",
        "    vectors_config=models.VectorParams(size=1536, distance=models.Distance.COSINE)\n",
        ")\n",
        "\n",
        "parent_document_vectorstore = Qdrant(\n",
        "    collection_name=\"full_documents\", embeddings=OpenAIEmbeddings(model=\"text-embedding-3-small\"), client=client\n",
        ")"
      ]
    },
    {
      "cell_type": "markdown",
      "metadata": {
        "id": "sf_g95FA3s6w"
      },
      "source": [
        "Now we can create our `InMemoryStore` that will hold our \"parent documents\" - and build our retriever!"
      ]
    },
    {
      "cell_type": "code",
      "execution_count": 29,
      "metadata": {
        "id": "BpWVjPf4fLUp"
      },
      "outputs": [],
      "source": [
        "store = InMemoryStore()\n",
        "\n",
        "parent_document_retriever = ParentDocumentRetriever(\n",
        "    vectorstore = parent_document_vectorstore,\n",
        "    docstore=store,\n",
        "    child_splitter=child_splitter,\n",
        ")"
      ]
    },
    {
      "cell_type": "markdown",
      "metadata": {
        "id": "KoYmSWfE32Zo"
      },
      "source": [
        "By default, this is empty as we haven't added any documents - let's add some now!"
      ]
    },
    {
      "cell_type": "code",
      "execution_count": 30,
      "metadata": {
        "id": "iQ2ZzfKigMZc"
      },
      "outputs": [],
      "source": [
        "parent_document_retriever.add_documents(parent_docs, ids=None)"
      ]
    },
    {
      "cell_type": "markdown",
      "metadata": {
        "id": "bI7Tip1335rE"
      },
      "source": [
        "We'll create the same chain we did before - but substitute our new `parent_document_retriever`."
      ]
    },
    {
      "cell_type": "code",
      "execution_count": 31,
      "metadata": {
        "id": "Qq_adt2KlSqp"
      },
      "outputs": [],
      "source": [
        "parent_document_retrieval_chain = (\n",
        "    {\"context\": itemgetter(\"question\") | parent_document_retriever, \"question\": itemgetter(\"question\")}\n",
        "    | RunnablePassthrough.assign(context=itemgetter(\"context\"))\n",
        "    | {\"response\": rag_prompt | chat_model, \"context\": itemgetter(\"context\")}\n",
        ")"
      ]
    },
    {
      "cell_type": "markdown",
      "metadata": {
        "id": "jNolUVQb4Apt"
      },
      "source": [
        "Let's give it a whirl!"
      ]
    },
    {
      "cell_type": "code",
      "execution_count": 32,
      "metadata": {
        "colab": {
          "base_uri": "https://localhost:8080/",
          "height": 70
        },
        "id": "TXB5i89Zly5W",
        "outputId": "94c240be-7c5b-4c58-9eee-56d93285a054"
      },
      "outputs": [
        {
          "data": {
            "text/plain": [
              "\"People's opinions on John Wick seem to vary. Some really enjoy the series and find it consistent and well-received, while others find it to be horrible and nonsensical.\""
            ]
          },
          "execution_count": 32,
          "metadata": {},
          "output_type": "execute_result"
        }
      ],
      "source": [
        "parent_document_retrieval_chain.invoke({\"question\" : \"Did people generally like John Wick?\"})[\"response\"].content"
      ]
    },
    {
      "cell_type": "code",
      "execution_count": 33,
      "metadata": {
        "colab": {
          "base_uri": "https://localhost:8080/",
          "height": 36
        },
        "id": "V5F1T-wNl3cg",
        "outputId": "9b81e72e-5db7-4b8a-b25b-400ea0df5335"
      },
      "outputs": [
        {
          "data": {
            "text/plain": [
              "'Yes, there is a review with a rating of 10. The review for \"John Wick 3\" by user \\'ymyuseda\\' has a rating of 10. The URL to that review is: \\'/review/rw4854296/?ref_=tt_urv\\''"
            ]
          },
          "execution_count": 33,
          "metadata": {},
          "output_type": "execute_result"
        }
      ],
      "source": [
        "parent_document_retrieval_chain.invoke({\"question\" : \"Do any reviews have a rating of 10? If so - can I have the URLs to those reviews?\"})[\"response\"].content"
      ]
    },
    {
      "cell_type": "code",
      "execution_count": 34,
      "metadata": {
        "colab": {
          "base_uri": "https://localhost:8080/",
          "height": 70
        },
        "id": "ZqARszGzvGcG",
        "outputId": "8867f83c-db13-4db4-d57f-9bd51d32cd8a"
      },
      "outputs": [
        {
          "data": {
            "text/plain": [
              "\"In John Wick, Keanu Reeves plays John Wick, a retired assassin who comes out of retirement to seek vengeance after his dog is killed and his car is stolen. He is forced back into the world of assassins to pay off an old debt and help take over the Assassin's Guild. John travels to Italy, Canada, and Manhattan, killing many assassins along the way.\""
            ]
          },
          "execution_count": 34,
          "metadata": {},
          "output_type": "execute_result"
        }
      ],
      "source": [
        "parent_document_retrieval_chain.invoke({\"question\" : \"What happened in John Wick?\"})[\"response\"].content"
      ]
    },
    {
      "cell_type": "markdown",
      "metadata": {
        "id": "B41cj42s4DPM"
      },
      "source": [
        "Overall, the performance *seems* largely the same. We can leverage a tool like [Ragas]() to more effectively answer the question about the performance."
      ]
    },
    {
      "cell_type": "markdown",
      "metadata": {
        "id": "VUrIBKl_TwS9"
      },
      "source": [
        "## Task 9: Ensemble Retriever\n",
        "\n",
        "In brief, an Ensemble Retriever simply takes 2, or more, retrievers and combines their retrieved documents based on a rank-fusion algorithm.\n",
        "\n",
        "In this case - we're using the [Reciprocal Rank Fusion](https://plg.uwaterloo.ca/~gvcormac/cormacksigir09-rrf.pdf) algorithm.\n",
        "\n",
        "Setting it up is as easy as providing a list of our desired retrievers - and the weights for each retriever."
      ]
    },
    {
      "cell_type": "code",
      "execution_count": 35,
      "metadata": {
        "id": "8j7jpZsKTxic"
      },
      "outputs": [],
      "source": [
        "from langchain.retrievers import EnsembleRetriever\n",
        "\n",
        "retriever_list = [bm25_retriever, naive_retriever, parent_document_retriever, compression_retriever, multi_query_retriever]\n",
        "equal_weighting = [1/len(retriever_list)] * len(retriever_list)\n",
        "\n",
        "ensemble_retriever = EnsembleRetriever(\n",
        "    retrievers=retriever_list, weights=equal_weighting\n",
        ")"
      ]
    },
    {
      "cell_type": "markdown",
      "metadata": {
        "id": "kpo9Psl5hhJ-"
      },
      "source": [
        "We'll pack *all* of these retrievers together in an ensemble."
      ]
    },
    {
      "cell_type": "code",
      "execution_count": 36,
      "metadata": {
        "id": "KZ__EZwpUKkd"
      },
      "outputs": [],
      "source": [
        "ensemble_retrieval_chain = (\n",
        "    {\"context\": itemgetter(\"question\") | ensemble_retriever, \"question\": itemgetter(\"question\")}\n",
        "    | RunnablePassthrough.assign(context=itemgetter(\"context\"))\n",
        "    | {\"response\": rag_prompt | chat_model, \"context\": itemgetter(\"context\")}\n",
        ")"
      ]
    },
    {
      "cell_type": "markdown",
      "metadata": {
        "id": "SSsvHpRMj24L"
      },
      "source": [
        "Let's look at our results!"
      ]
    },
    {
      "cell_type": "code",
      "execution_count": 37,
      "metadata": {
        "colab": {
          "base_uri": "https://localhost:8080/",
          "height": 70
        },
        "id": "0lMvqL88UQI-",
        "outputId": "d86dd5f7-0a13-4836-c0ce-cc4c431fd889"
      },
      "outputs": [
        {
          "data": {
            "text/plain": [
              "'Based on the reviews provided, it seems that people generally liked John Wick. The positive feedback from reviewers indicates that the movie was well-received by many.'"
            ]
          },
          "execution_count": 37,
          "metadata": {},
          "output_type": "execute_result"
        }
      ],
      "source": [
        "ensemble_retrieval_chain.invoke({\"question\" : \"Did people generally like John Wick?\"})[\"response\"].content"
      ]
    },
    {
      "cell_type": "code",
      "execution_count": 38,
      "metadata": {
        "colab": {
          "base_uri": "https://localhost:8080/",
          "height": 53
        },
        "id": "MNFWLYECURI1",
        "outputId": "b17973b5-66a9-4481-97d5-880b5754b5c5"
      },
      "outputs": [
        {
          "data": {
            "text/plain": [
              "'Yes, there is a review with a rating of 10 for the movie \"John Wick 3\". Here is the URL to that review: \\'/review/rw4854296/?ref_=tt_urv\\'.'"
            ]
          },
          "execution_count": 38,
          "metadata": {},
          "output_type": "execute_result"
        }
      ],
      "source": [
        "ensemble_retrieval_chain.invoke({\"question\" : \"Do any reviews have a rating of 10? If so - can I have the URLs to those reviews?\"})[\"response\"].content"
      ]
    },
    {
      "cell_type": "code",
      "execution_count": 39,
      "metadata": {
        "colab": {
          "base_uri": "https://localhost:8080/",
          "height": 88
        },
        "id": "A7qbHfWgUR4c",
        "outputId": "f7373144-59ef-4fc7-b75d-ca00e7df881e"
      },
      "outputs": [
        {
          "data": {
            "text/plain": [
              "'In John Wick, an ex-hitman comes out of retirement to seek vengeance against the gangsters who killed his dog and took everything from him. This leads to intense action, shootouts, and thrilling fights as he faces off against various adversaries in a quest for retribution.'"
            ]
          },
          "execution_count": 39,
          "metadata": {},
          "output_type": "execute_result"
        }
      ],
      "source": [
        "ensemble_retrieval_chain.invoke({\"question\" : \"What happened in John Wick?\"})[\"response\"].content"
      ]
    },
    {
      "cell_type": "markdown",
      "metadata": {
        "id": "MopbkNJAXVaN"
      },
      "source": [
        "## Task 10: Semantic Chunking\n",
        "\n",
        "While this is not a retrieval method - it *is* an effective way of increasing retrieval performance on corpora that have clean semantic breaks in them.\n",
        "\n",
        "Essentially, Semantic Chunking is implemented by:\n",
        "\n",
        "1. Embedding all sentences in the corpus.\n",
        "2. Combining or splitting sequences of sentences based on their semantic similarity based on a number of [possible thresholding methods](https://python.langchain.com/docs/how_to/semantic-chunker/):\n",
        "  - `percentile`\n",
        "  - `standard_deviation`\n",
        "  - `interquartile`\n",
        "  - `gradient`\n",
        "3. Each sequence of related sentences is kept as a document!\n",
        "\n",
        "Let's see how to implement this!\n",
        "\n",
        "> NOTE: You do not need to run this cell if you're running this locally"
      ]
    },
    {
      "cell_type": "markdown",
      "metadata": {
        "id": "U9ciZbFEldv_"
      },
      "source": [
        "We'll use the `percentile` thresholding method for this example which will:\n",
        "\n",
        "Calculate all distances between sentences, and then break apart sequences of setences that exceed a given percentile among all distances."
      ]
    },
    {
      "cell_type": "code",
      "execution_count": 40,
      "metadata": {
        "id": "66EIEWiEYl5y"
      },
      "outputs": [],
      "source": [
        "from langchain_experimental.text_splitter import SemanticChunker\n",
        "\n",
        "semantic_chunker = SemanticChunker(\n",
        "    embeddings,\n",
        "    breakpoint_threshold_type=\"percentile\"\n",
        ")"
      ]
    },
    {
      "cell_type": "markdown",
      "metadata": {
        "id": "YqoKmz12mhRW"
      },
      "source": [
        "Now we can split our documents."
      ]
    },
    {
      "cell_type": "code",
      "execution_count": 41,
      "metadata": {
        "id": "ROcV7o68ZIq7"
      },
      "outputs": [],
      "source": [
        "semantic_documents = semantic_chunker.split_documents(documents)"
      ]
    },
    {
      "cell_type": "markdown",
      "metadata": {
        "id": "L8-LNC-Xmjex"
      },
      "source": [
        "Let's create a new vector store."
      ]
    },
    {
      "cell_type": "code",
      "execution_count": 42,
      "metadata": {
        "id": "h3sl9QjyZhIe"
      },
      "outputs": [],
      "source": [
        "semantic_vectorstore = Qdrant.from_documents(\n",
        "    semantic_documents,\n",
        "    embeddings,\n",
        "    location=\":memory:\",\n",
        "    collection_name=\"JohnWickSemantic\"\n",
        ")"
      ]
    },
    {
      "cell_type": "markdown",
      "metadata": {
        "id": "Eh_r_-LHmmKn"
      },
      "source": [
        "We'll use naive retrieval for this example."
      ]
    },
    {
      "cell_type": "code",
      "execution_count": 43,
      "metadata": {
        "id": "odVyDUHwZftc"
      },
      "outputs": [],
      "source": [
        "semantic_retriever = semantic_vectorstore.as_retriever(search_kwargs={\"k\" : 10})"
      ]
    },
    {
      "cell_type": "markdown",
      "metadata": {
        "id": "Mkeiv_ojmp6G"
      },
      "source": [
        "Finally we can create our classic chain!"
      ]
    },
    {
      "cell_type": "code",
      "execution_count": 44,
      "metadata": {
        "id": "xWE_0J0mZveG"
      },
      "outputs": [],
      "source": [
        "semantic_retrieval_chain = (\n",
        "    {\"context\": itemgetter(\"question\") | semantic_retriever, \"question\": itemgetter(\"question\")}\n",
        "    | RunnablePassthrough.assign(context=itemgetter(\"context\"))\n",
        "    | {\"response\": rag_prompt | chat_model, \"context\": itemgetter(\"context\")}\n",
        ")"
      ]
    },
    {
      "cell_type": "markdown",
      "metadata": {
        "id": "R5pfjLQ3ms9_"
      },
      "source": [
        "And view the results!"
      ]
    },
    {
      "cell_type": "code",
      "execution_count": 45,
      "metadata": {
        "colab": {
          "base_uri": "https://localhost:8080/",
          "height": 70
        },
        "id": "0lN2j-e4Z0SD",
        "outputId": "ef483e21-7200-4dfc-b8bf-aed4f23587b2"
      },
      "outputs": [
        {
          "data": {
            "text/plain": [
              "'Based on the reviews provided, it seems that people generally liked John Wick.'"
            ]
          },
          "execution_count": 45,
          "metadata": {},
          "output_type": "execute_result"
        }
      ],
      "source": [
        "semantic_retrieval_chain.invoke({\"question\" : \"Did people generally like John Wick?\"})[\"response\"].content"
      ]
    },
    {
      "cell_type": "code",
      "execution_count": 46,
      "metadata": {
        "colab": {
          "base_uri": "https://localhost:8080/",
          "height": 53
        },
        "id": "xdqfBH1SZ3f9",
        "outputId": "ed62b2d1-7586-46cc-aaf4-c54192a56155"
      },
      "outputs": [
        {
          "data": {
            "text/plain": [
              "'Yes, there is a review with a rating of 10 for the movie \"John Wick 3.\" Here is the URL to that review: \\'/review/rw4854296/?ref_=tt_urv\\'.'"
            ]
          },
          "execution_count": 46,
          "metadata": {},
          "output_type": "execute_result"
        }
      ],
      "source": [
        "semantic_retrieval_chain.invoke({\"question\" : \"Do any reviews have a rating of 10? If so - can I have the URLs to those reviews?\"})[\"response\"].content"
      ]
    },
    {
      "cell_type": "code",
      "execution_count": 47,
      "metadata": {
        "colab": {
          "base_uri": "https://localhost:8080/",
          "height": 70
        },
        "id": "rAcAObZnZ4o6",
        "outputId": "3f1cade3-41e4-4e42-ef71-048dd18e5e3a"
      },
      "outputs": [
        {
          "data": {
            "text/plain": [
              "'In \"John Wick,\" the main character seeks revenge on the people who took something he loved from him. Specifically, his dog is killed, which sets off a chain of events leading to intense action scenes and a quest for vengeance.'"
            ]
          },
          "execution_count": 47,
          "metadata": {},
          "output_type": "execute_result"
        }
      ],
      "source": [
        "semantic_retrieval_chain.invoke({\"question\" : \"What happened in John Wick?\"})[\"response\"].content"
      ]
    },
    {
      "cell_type": "markdown",
      "metadata": {
        "id": "xk2n3-pnVWDJ"
      },
      "source": [
        "# 🤝 Breakout Room Part #2"
      ]
    },
    {
      "cell_type": "markdown",
      "metadata": {
        "id": "2SkJLYwMVZkj"
      },
      "source": [
        "#### 🏗️ Activity #1\n",
        "\n",
        "Your task is to evaluate the various Retriever methods against eachother.\n",
        "\n",
        "You are expected to:\n",
        "\n",
        "1. Create a \"golden dataset\"\n",
        " - Use Synthetic Data Generation (powered by Ragas, or otherwise) to create this dataset\n",
        "2. Evaluate each retriever with *retriever specific* Ragas metrics\n",
        " - Semantic Chunking is not considered a retriever method and will not be required for marks, but you may find it useful to do a \"semantic chunking on\" vs. \"semantic chunking off\" comparision between them\n",
        "3. Compile these in a list and write a small paragraph about which is best for this particular data and why.\n",
        "\n",
        "Your analysis should factor in:\n",
        "  - Cost\n",
        "  - Latency\n",
        "  - Performance\n",
        "\n",
        "> NOTE: This is **NOT** required to be completed in class. Please spend time in your breakout rooms creating a plan before moving on to writing code."
      ]
    },
    {
      "cell_type": "markdown",
      "metadata": {
        "id": "TWAr16a5XMub"
      },
      "source": [
        "##### HINTS:\n",
        "\n",
        "- LangSmith provides detailed information about latency and cost."
      ]
    },
    {
      "cell_type": "markdown",
      "metadata": {},
      "source": [
        "### Create a Golden Test Dataset"
      ]
    },
    {
      "cell_type": "code",
      "execution_count": 48,
      "metadata": {
        "id": "tgDICngKXLGK"
      },
      "outputs": [],
      "source": [
        "### YOUR CODE HERE\n",
        "from ragas.llms import LangchainLLMWrapper\n",
        "from ragas.embeddings import LangchainEmbeddingsWrapper\n",
        "from langchain_openai import ChatOpenAI\n",
        "from langchain_openai import OpenAIEmbeddings\n",
        "\n",
        "generator_llm = LangchainLLMWrapper(ChatOpenAI(model=\"gpt-4o\"))\n",
        "generator_embeddings = LangchainEmbeddingsWrapper(OpenAIEmbeddings())"
      ]
    },
    {
      "cell_type": "code",
      "execution_count": 49,
      "metadata": {},
      "outputs": [
        {
          "data": {
            "application/vnd.jupyter.widget-view+json": {
              "model_id": "5525a4af1de24c28944384f0c5b7247e",
              "version_major": 2,
              "version_minor": 0
            },
            "text/plain": [
              "Applying SummaryExtractor:   0%|          | 0/44 [00:00<?, ?it/s]"
            ]
          },
          "metadata": {},
          "output_type": "display_data"
        },
        {
          "data": {
            "application/vnd.jupyter.widget-view+json": {
              "model_id": "520d51e0685e4bcea3ccc468d7cb381b",
              "version_major": 2,
              "version_minor": 0
            },
            "text/plain": [
              "Applying CustomNodeFilter:   0%|          | 0/100 [00:00<?, ?it/s]"
            ]
          },
          "metadata": {},
          "output_type": "display_data"
        },
        {
          "name": "stderr",
          "output_type": "stream",
          "text": [
            "Node 08af88b6-2491-41bf-a962-5921e33a66b4 does not have a summary. Skipping filtering.\n",
            "Node 363d04ec-a722-491c-978f-fc4a76bf2e01 does not have a summary. Skipping filtering.\n",
            "Node aa709b82-e61e-4377-a4b0-fe9effb4576f does not have a summary. Skipping filtering.\n",
            "Node b5e591ba-4c2a-4dbf-8f0e-ebddcb0bf8e3 does not have a summary. Skipping filtering.\n",
            "Node dfb4b243-afba-4833-9182-ef95a7348712 does not have a summary. Skipping filtering.\n",
            "Node aaa38131-217f-4826-9c13-dc29e5b155ea does not have a summary. Skipping filtering.\n",
            "Node cd501dc9-a32b-4182-8195-14689e076a4a does not have a summary. Skipping filtering.\n",
            "Node a1f14fa0-9641-4dcc-8dc8-d6bc30d52002 does not have a summary. Skipping filtering.\n",
            "Node 11756c76-1e1a-4f15-9e91-cf8decb6711a does not have a summary. Skipping filtering.\n",
            "Node e5743135-6946-499f-bb8c-b9c7035319aa does not have a summary. Skipping filtering.\n",
            "Node 1985469e-aefa-4dc7-9490-f1a2d24ed653 does not have a summary. Skipping filtering.\n",
            "Node 7fd8f7e3-a44f-4d4c-8090-178e56c9d916 does not have a summary. Skipping filtering.\n",
            "Node 97d6ad1b-31e7-4fbd-889c-ff68e00eeac3 does not have a summary. Skipping filtering.\n",
            "Node 8db1b73d-8da1-498a-9480-a2415c2b265c does not have a summary. Skipping filtering.\n",
            "Node 2eea3c46-5aef-4caa-8e6d-ab633936c2c0 does not have a summary. Skipping filtering.\n",
            "Node 5ad7c0d7-9c29-476e-aaec-cc6a79173d13 does not have a summary. Skipping filtering.\n",
            "Node ab720358-ce50-4f24-916c-cbdfce6eba3f does not have a summary. Skipping filtering.\n",
            "Node 67eeab60-7aad-4ecf-aa14-259e1392b3e7 does not have a summary. Skipping filtering.\n",
            "Node 516b32be-9572-4c66-8bb9-339693bc05a4 does not have a summary. Skipping filtering.\n",
            "Node 6e608b01-0a69-4e47-b876-d2c6dcfc7791 does not have a summary. Skipping filtering.\n",
            "Node 68309c4d-2aac-4c8c-8a8d-7fb0d9d58b61 does not have a summary. Skipping filtering.\n",
            "Node fb312923-4a67-42fe-bed5-8daedba0c8d3 does not have a summary. Skipping filtering.\n",
            "Node 62cabe74-5df5-4f87-a1ca-2c03131cff87 does not have a summary. Skipping filtering.\n",
            "Node ba837fa1-c1a2-40ae-a51f-c7f76a893913 does not have a summary. Skipping filtering.\n",
            "Node 4c1634e4-8458-4006-a6f9-0e462ec639d5 does not have a summary. Skipping filtering.\n",
            "Node 04df54e7-6660-4eca-b29c-b9806d4b94e3 does not have a summary. Skipping filtering.\n",
            "Node 5946648a-ec44-4c28-b724-bbee73eb2c34 does not have a summary. Skipping filtering.\n",
            "Node aee0989e-9a78-4adb-a8fb-1589b973e7a0 does not have a summary. Skipping filtering.\n",
            "Node 2d08a0d5-ab59-4efc-b88a-3df1e5739be5 does not have a summary. Skipping filtering.\n",
            "Node 20f0dc15-6029-4b47-bb9e-b1dc7705012f does not have a summary. Skipping filtering.\n",
            "Node 0686d814-990e-4d02-b2bf-4ee0e542cd26 does not have a summary. Skipping filtering.\n",
            "Node 25e884c0-67a2-4484-ae8f-47f6e7621a7e does not have a summary. Skipping filtering.\n",
            "Node af827be0-1043-4b78-b413-27806d2ad7b8 does not have a summary. Skipping filtering.\n",
            "Node 8b9b1dd9-3cb5-475f-ab6d-38cb341d986b does not have a summary. Skipping filtering.\n",
            "Node 992a870c-f07b-48da-b6c1-01e000147c07 does not have a summary. Skipping filtering.\n",
            "Node ffd89dba-16b0-4a8b-84d8-50d70a8fed7e does not have a summary. Skipping filtering.\n",
            "Node 4f77cbec-1843-4375-bc6b-c13f393422cd does not have a summary. Skipping filtering.\n",
            "Node 01445ed7-ce22-4e86-9745-0540561a6b15 does not have a summary. Skipping filtering.\n",
            "Node d6f44a92-db21-4468-8ee1-5b2242895489 does not have a summary. Skipping filtering.\n",
            "Node df07b771-3bce-4270-b5ac-2e7fd03f7e5f does not have a summary. Skipping filtering.\n",
            "Node a36f7647-ab41-481c-a74b-92e1e0247d9d does not have a summary. Skipping filtering.\n",
            "Node 621f7124-5d9b-4ef6-b6fa-2a663fa2229d does not have a summary. Skipping filtering.\n",
            "Node b977d0ee-c149-4628-bba5-0052e8ec66ed does not have a summary. Skipping filtering.\n",
            "Node 62d4d60b-1b71-4538-be98-2d854887bece does not have a summary. Skipping filtering.\n",
            "Node 33992136-9021-4334-ba5e-5aaceb8de804 does not have a summary. Skipping filtering.\n",
            "Node 7b4c4e32-40b7-49e8-a864-bda8ed3ced61 does not have a summary. Skipping filtering.\n",
            "Node f7a5e5f6-6997-461a-93d7-e222162a7995 does not have a summary. Skipping filtering.\n",
            "Node d05cc8fb-cb35-40f3-b4d0-b07129c13b62 does not have a summary. Skipping filtering.\n",
            "Node 27315df8-fb0f-42a9-a8d5-5e18042a8ed6 does not have a summary. Skipping filtering.\n",
            "Node a9ffd2fa-3ba4-4e88-b771-46df51b37085 does not have a summary. Skipping filtering.\n",
            "Node 23e11e47-1bc5-415f-b03d-82be0e63004d does not have a summary. Skipping filtering.\n",
            "Node 3d9656f4-fb3d-4585-8430-91b1c5fdd213 does not have a summary. Skipping filtering.\n",
            "Node 82afc564-0edc-421a-8130-fb9a80b53aa2 does not have a summary. Skipping filtering.\n",
            "Node 27eff174-b8b2-4352-a801-01604296cc73 does not have a summary. Skipping filtering.\n",
            "Node 89ce7862-b29c-4c75-8683-a9c77d9ee2e8 does not have a summary. Skipping filtering.\n",
            "Node de2b6b19-738f-4f20-8507-6c0e928b7b01 does not have a summary. Skipping filtering.\n"
          ]
        },
        {
          "data": {
            "application/vnd.jupyter.widget-view+json": {
              "model_id": "843affc4cd664efc871d651b4152a89a",
              "version_major": 2,
              "version_minor": 0
            },
            "text/plain": [
              "Applying [EmbeddingExtractor, ThemesExtractor, NERExtractor]:   0%|          | 0/244 [00:00<?, ?it/s]"
            ]
          },
          "metadata": {},
          "output_type": "display_data"
        },
        {
          "data": {
            "application/vnd.jupyter.widget-view+json": {
              "model_id": "1eec2ae98b334298b13d759d6ee5e29a",
              "version_major": 2,
              "version_minor": 0
            },
            "text/plain": [
              "Applying OverlapScoreBuilder:   0%|          | 0/1 [00:00<?, ?it/s]"
            ]
          },
          "metadata": {},
          "output_type": "display_data"
        },
        {
          "data": {
            "application/vnd.jupyter.widget-view+json": {
              "model_id": "8a5f60ca442040b58c7f56d437c93c21",
              "version_major": 2,
              "version_minor": 0
            },
            "text/plain": [
              "Generating personas:   0%|          | 0/3 [00:00<?, ?it/s]"
            ]
          },
          "metadata": {},
          "output_type": "display_data"
        },
        {
          "data": {
            "application/vnd.jupyter.widget-view+json": {
              "model_id": "cfa019706cbd404b95874d512d2d04ad",
              "version_major": 2,
              "version_minor": 0
            },
            "text/plain": [
              "Generating Scenarios:   0%|          | 0/2 [00:00<?, ?it/s]"
            ]
          },
          "metadata": {},
          "output_type": "display_data"
        },
        {
          "data": {
            "application/vnd.jupyter.widget-view+json": {
              "model_id": "a431b370e34a45e593972cdada4b2a8c",
              "version_major": 2,
              "version_minor": 0
            },
            "text/plain": [
              "Generating Samples:   0%|          | 0/10 [00:00<?, ?it/s]"
            ]
          },
          "metadata": {},
          "output_type": "display_data"
        }
      ],
      "source": [
        "from ragas.testset import TestsetGenerator\n",
        "\n",
        "generator = TestsetGenerator(llm=generator_llm, embedding_model=generator_embeddings)\n",
        "golden_dataset = generator.generate_with_langchain_docs(documents, testset_size=10)"
      ]
    },
    {
      "cell_type": "code",
      "execution_count": 54,
      "metadata": {},
      "outputs": [
        {
          "data": {
            "text/html": [
              "<div>\n",
              "<style scoped>\n",
              "    .dataframe tbody tr th:only-of-type {\n",
              "        vertical-align: middle;\n",
              "    }\n",
              "\n",
              "    .dataframe tbody tr th {\n",
              "        vertical-align: top;\n",
              "    }\n",
              "\n",
              "    .dataframe thead th {\n",
              "        text-align: right;\n",
              "    }\n",
              "</style>\n",
              "<table border=\"1\" class=\"dataframe\">\n",
              "  <thead>\n",
              "    <tr style=\"text-align: right;\">\n",
              "      <th></th>\n",
              "      <th>user_input</th>\n",
              "      <th>reference_contexts</th>\n",
              "      <th>reference</th>\n",
              "      <th>synthesizer_name</th>\n",
              "    </tr>\n",
              "  </thead>\n",
              "  <tbody>\n",
              "    <tr>\n",
              "      <th>0</th>\n",
              "      <td>How does the film 'A Good Day to Die Hard' com...</td>\n",
              "      <td>[: 0\\nReview: The best way I can describe John...</td>\n",
              "      <td>'A Good Day to Die Hard' is mentioned as an ex...</td>\n",
              "      <td>single_hop_specifc_query_synthesizer</td>\n",
              "    </tr>\n",
              "    <tr>\n",
              "      <th>1</th>\n",
              "      <td>What is the general reception of the John Wick...</td>\n",
              "      <td>[: 2\\nReview: With the fourth installment scor...</td>\n",
              "      <td>The John Wick film series is apparently loved ...</td>\n",
              "      <td>single_hop_specifc_query_synthesizer</td>\n",
              "    </tr>\n",
              "    <tr>\n",
              "      <th>2</th>\n",
              "      <td>Who Chad Stahelski and what he do in John Wick?</td>\n",
              "      <td>[: 3\\nReview: John wick has a very simple reve...</td>\n",
              "      <td>Chad Stahelski is the director of John Wick, a...</td>\n",
              "      <td>single_hop_specifc_query_synthesizer</td>\n",
              "    </tr>\n",
              "    <tr>\n",
              "      <th>3</th>\n",
              "      <td>What John Wick movie about, and how it do with...</td>\n",
              "      <td>[: 4\\nReview: Though he no longer has a taste ...</td>\n",
              "      <td>The John Wick movie is about a retired assassi...</td>\n",
              "      <td>single_hop_specifc_query_synthesizer</td>\n",
              "    </tr>\n",
              "    <tr>\n",
              "      <th>4</th>\n",
              "      <td>What is the plot of the first John Wick movie?</td>\n",
              "      <td>[: 5\\nReview: Ultra-violent first entry with l...</td>\n",
              "      <td>In the original John Wick (2014), an ex-hit-ma...</td>\n",
              "      <td>single_hop_specifc_query_synthesizer</td>\n",
              "    </tr>\n",
              "    <tr>\n",
              "      <th>5</th>\n",
              "      <td>What are the criticisms of John Wick Chapter 2...</td>\n",
              "      <td>[&lt;1-hop&gt;\\n\\n: 23\\nReview: I love me a bit of t...</td>\n",
              "      <td>Critics of John Wick Chapter 2 have pointed ou...</td>\n",
              "      <td>multi_hop_specific_query_synthesizer</td>\n",
              "    </tr>\n",
              "    <tr>\n",
              "      <th>6</th>\n",
              "      <td>Why John Wick 2 not surprise like first movie ...</td>\n",
              "      <td>[&lt;1-hop&gt;\\n\\n: 10\\nReview: The first John Wick ...</td>\n",
              "      <td>John Wick 2 doesn't have the ability to surpri...</td>\n",
              "      <td>multi_hop_specific_query_synthesizer</td>\n",
              "    </tr>\n",
              "    <tr>\n",
              "      <th>7</th>\n",
              "      <td>How does the action and narrative development ...</td>\n",
              "      <td>[&lt;1-hop&gt;\\n\\n: 10\\nReview: The first John Wick ...</td>\n",
              "      <td>John Wick 2, while unable to surprise audience...</td>\n",
              "      <td>multi_hop_specific_query_synthesizer</td>\n",
              "    </tr>\n",
              "    <tr>\n",
              "      <th>8</th>\n",
              "      <td>In what ways does 'John Wick: Chapter 4' build...</td>\n",
              "      <td>[&lt;1-hop&gt;\\n\\n: 8\\nReview: About 6 months ago I ...</td>\n",
              "      <td>'John Wick: Chapter 4' builds upon the stylist...</td>\n",
              "      <td>multi_hop_specific_query_synthesizer</td>\n",
              "    </tr>\n",
              "    <tr>\n",
              "      <th>9</th>\n",
              "      <td>How does 'John Wick: Chapter 3 - Parabellum' b...</td>\n",
              "      <td>[&lt;1-hop&gt;\\n\\n: 8\\nReview: About 6 months ago I ...</td>\n",
              "      <td>'John Wick: Chapter 3 - Parabellum' is praised...</td>\n",
              "      <td>multi_hop_specific_query_synthesizer</td>\n",
              "    </tr>\n",
              "  </tbody>\n",
              "</table>\n",
              "</div>"
            ],
            "text/plain": [
              "                                          user_input  \\\n",
              "0  How does the film 'A Good Day to Die Hard' com...   \n",
              "1  What is the general reception of the John Wick...   \n",
              "2    Who Chad Stahelski and what he do in John Wick?   \n",
              "3  What John Wick movie about, and how it do with...   \n",
              "4     What is the plot of the first John Wick movie?   \n",
              "5  What are the criticisms of John Wick Chapter 2...   \n",
              "6  Why John Wick 2 not surprise like first movie ...   \n",
              "7  How does the action and narrative development ...   \n",
              "8  In what ways does 'John Wick: Chapter 4' build...   \n",
              "9  How does 'John Wick: Chapter 3 - Parabellum' b...   \n",
              "\n",
              "                                  reference_contexts  \\\n",
              "0  [: 0\\nReview: The best way I can describe John...   \n",
              "1  [: 2\\nReview: With the fourth installment scor...   \n",
              "2  [: 3\\nReview: John wick has a very simple reve...   \n",
              "3  [: 4\\nReview: Though he no longer has a taste ...   \n",
              "4  [: 5\\nReview: Ultra-violent first entry with l...   \n",
              "5  [<1-hop>\\n\\n: 23\\nReview: I love me a bit of t...   \n",
              "6  [<1-hop>\\n\\n: 10\\nReview: The first John Wick ...   \n",
              "7  [<1-hop>\\n\\n: 10\\nReview: The first John Wick ...   \n",
              "8  [<1-hop>\\n\\n: 8\\nReview: About 6 months ago I ...   \n",
              "9  [<1-hop>\\n\\n: 8\\nReview: About 6 months ago I ...   \n",
              "\n",
              "                                           reference  \\\n",
              "0  'A Good Day to Die Hard' is mentioned as an ex...   \n",
              "1  The John Wick film series is apparently loved ...   \n",
              "2  Chad Stahelski is the director of John Wick, a...   \n",
              "3  The John Wick movie is about a retired assassi...   \n",
              "4  In the original John Wick (2014), an ex-hit-ma...   \n",
              "5  Critics of John Wick Chapter 2 have pointed ou...   \n",
              "6  John Wick 2 doesn't have the ability to surpri...   \n",
              "7  John Wick 2, while unable to surprise audience...   \n",
              "8  'John Wick: Chapter 4' builds upon the stylist...   \n",
              "9  'John Wick: Chapter 3 - Parabellum' is praised...   \n",
              "\n",
              "                       synthesizer_name  \n",
              "0  single_hop_specifc_query_synthesizer  \n",
              "1  single_hop_specifc_query_synthesizer  \n",
              "2  single_hop_specifc_query_synthesizer  \n",
              "3  single_hop_specifc_query_synthesizer  \n",
              "4  single_hop_specifc_query_synthesizer  \n",
              "5  multi_hop_specific_query_synthesizer  \n",
              "6  multi_hop_specific_query_synthesizer  \n",
              "7  multi_hop_specific_query_synthesizer  \n",
              "8  multi_hop_specific_query_synthesizer  \n",
              "9  multi_hop_specific_query_synthesizer  "
            ]
          },
          "execution_count": 54,
          "metadata": {},
          "output_type": "execute_result"
        }
      ],
      "source": [
        "golden_dataset.to_pandas()"
      ]
    },
    {
      "cell_type": "code",
      "execution_count": 50,
      "metadata": {},
      "outputs": [],
      "source": [
        "\n",
        "from uuid import uuid4\n",
        "\n",
        "os.environ[\"LANGCHAIN_TRACING_V2\"] = \"true\"\n",
        "os.environ[\"LANGCHAIN_PROJECT\"] = f\"AIE5 - Retrieval_Chain_Evaluation - {uuid4().hex[0:8]}\""
      ]
    },
    {
      "cell_type": "code",
      "execution_count": 51,
      "metadata": {},
      "outputs": [],
      "source": [
        "from langsmith import Client\n",
        "\n",
        "client = Client()\n",
        "\n",
        "dataset_name = f\"Retrievals_Eval_Dataset - {uuid4().hex[0:8]}\"\n",
        "\n",
        "langsmith_dataset = client.create_dataset(\n",
        "    dataset_name=dataset_name,\n",
        "    description=\"Questions about John Wick movies for evaluating multipler retrievals.\"\n",
        ")\n",
        "     "
      ]
    },
    {
      "cell_type": "code",
      "execution_count": 52,
      "metadata": {},
      "outputs": [
        {
          "name": "stdout",
          "output_type": "stream",
          "text": [
            "How does the film 'A Good Day to Die Hard' compare to 'John Wick' in terms of plot complexity and effectiveness as an action movie?\n",
            "'A Good Day to Die Hard' is mentioned as an example of an action movie that becomes bad when it gets convoluted, in contrast to 'John Wick,' which succeeds due to its beautifully simple premise. 'John Wick' is praised for delivering awesome action, stylish stunts, kinetic chaos, and a relatable hero, all tied together by its simplicity.\n",
            "What is the general reception of the John Wick film series?\n",
            "The John Wick film series is apparently loved by everyone else in the world, with the fourth installment scoring immensely at the cinemas.\n",
            "Who Chad Stahelski and what he do in John Wick?\n",
            "Chad Stahelski is the director of John Wick, and as a stunt specialist, he showcases his expertise through the film's virtuoso action sequences and well-made choreographies.\n",
            "What John Wick movie about, and how it do with story and action?\n",
            "The John Wick movie is about a retired assassin, known as the 'Boogeyman,' who has suffered a personal tragedy. After he and his dog fall victim to a group of Russian mobsters, he seeks vengeance. The film starts slow and ambiguous but becomes action-packed with stylized, visceral action scenes and an impressive arsenal of weaponry. However, it lacks a strong story and the over-the-top bloodletting and mayhem become redundant. Keanu Reeves delivers his lines with sardonic wit and fits well in the role.\n",
            "What is the plot of the first John Wick movie?\n",
            "In the original John Wick (2014), an ex-hit-man comes out of retirement to track down the gangsters that killed his dog and took everything from him. With the untimely death of his beloved wife still bitter in his mouth, he seeks vengeance. When an arrogant Russian mob prince and hoodlums steal his car and kill his dog, they are fully aware of his lethal capacity. The Bogeyman will find himself dragged into an impossible task as every killer in the business dreams of cornering the legendary Wick, who now has an enormous price on his head. Blind with revenge, John unleashes a carefully orchestrated maelstrom of destruction against those who attempt to chase him, with a price tag on his head, as he is the target of hit men: an army of bounty-hunting killers on his trail and a murderer woman everywhere. The legendary hitman is forced to unearth his meticulously concealed identity and carry out a relentless vendetta. Now, only blood can quench the boogeyman's thirst for retribution.\n",
            "What are the criticisms of John Wick Chapter 2 in terms of action and plot development?\n",
            "Critics of John Wick Chapter 2 have pointed out that while the film is relentlessly violent, with Keanu Reeves' character dispatching foes with headshots, it fails to bring anything new to the action genre. The director, Chad Stahelski, is noted for not introducing new elements to the action sequences. Additionally, unlike the first film, which was surprising and convincing in its own fantasy logic, John Wick 2 lacks the element of surprise and does not have the same impact, which works against it.\n",
            "Why John Wick 2 not surprise like first movie and how John Wick Chapter 2 still fun and good with action and set design?\n",
            "John Wick 2 doesn't have the ability to surprise like the first movie because the original film was unexpected in its cartoonish yet brutal action and convincing fantasy world. However, John Wick Chapter 2 remains fun and engaging due to its over-the-top action, impressive set design, and camera work, making it a high bar for escapist entertainment.\n",
            "How does the action and narrative development in John Wick 2 compare to the expectations set by John Wick 3, considering the franchise's evolution and the challenges faced by the latest installment?\n",
            "John Wick 2, while unable to surprise audiences as the first film did, continued to deliver on the franchise's signature brutal and cartoonish action within its unique fantasy world. However, it faced challenges in maintaining the element of surprise. In contrast, the anticipation for the latest installment, following John Wick 3's release in 2019, was met with skepticism due to its delayed release until March 2023. Despite high expectations from the franchise's reputation, the latest film was perceived as a disappointment, indicating challenges in narrative development and meeting audience expectations.\n",
            "In what ways does 'John Wick: Chapter 4' build upon the stylistic and action elements established in 'John Wick: Chapter 3 - Parabellum', and how does it contribute to the franchise's development and Keanu Reeves' status as a martial arts action star?\n",
            "'John Wick: Chapter 4' builds upon the stylistic and action elements established in 'John Wick: Chapter 3 - Parabellum' by continuing the tradition of starting the action from the very beginning of the film and maintaining it until the end. This installment not only maintains the high level of action and style seen in Chapter 3, which was praised for its insane style and visually stunning sequences, such as Keanu Reeves on horseback shooting at motorcyclists, but also improves upon it. 'John Wick: Chapter 4' solidifies Keanu Reeves' status as the greatest martial arts action star of all time, or at the very least, as part of the greatest martial arts action pairing with Director Chad Stahelski in modern times. This progression contributes significantly to the franchise's development by enhancing its reputation for high-quality action and further establishing its lead actor's iconic status in the genre.\n",
            "How does 'John Wick: Chapter 3 - Parabellum' balance its visual style with its storytelling, and what are the criticisms regarding its originality?\n",
            "'John Wick: Chapter 3 - Parabellum' is praised for its insane visual style, with scenes such as Keanu Reeves on horseback shooting at motorcyclists being highlighted as some of the best looking action sequences. However, the film is criticized for its lack of originality in storytelling, as it is described as feeling like a boring video game with a repetitive plot focused on John Wick running and killing assassins for a bounty on his head. While the initial action sequences are considered original, the film is ultimately seen as tiresome and repetitive.\n"
          ]
        }
      ],
      "source": [
        "for data_row in golden_dataset.to_pandas().iterrows():\n",
        "  print(data_row[1][\"user_input\"])\n",
        "  print(data_row[1][\"reference\"])\n",
        "  client.create_example(\n",
        "      inputs={\n",
        "          \"question\": data_row[1][\"user_input\"]\n",
        "      },\n",
        "      outputs={\n",
        "          \"answer\": data_row[1][\"reference\"]\n",
        "      },\n",
        "      metadata={\n",
        "          \"context\": data_row[1][\"reference_contexts\"]\n",
        "      },\n",
        "      dataset_id=langsmith_dataset.id\n",
        "  )\n"
      ]
    },
    {
      "cell_type": "markdown",
      "metadata": {},
      "source": [
        "### LangSmith Evaluation Set-up"
      ]
    },
    {
      "cell_type": "code",
      "execution_count": 53,
      "metadata": {},
      "outputs": [],
      "source": [
        "eval_llm = ChatOpenAI(model=\"gpt-4o\")"
      ]
    },
    {
      "cell_type": "code",
      "execution_count": 55,
      "metadata": {},
      "outputs": [],
      "source": [
        "from langsmith.evaluation import LangChainStringEvaluator, evaluate\n",
        "\n",
        "# Define prepare_data to skip null outputs\n",
        "def prepare_data(run, example):\n",
        "    if run.outputs is None or not run.outputs:  # Check if outputs is None or empty\n",
        "        print(f\"Skipping run {run.id} due to null or empty output\")\n",
        "        return None  # This skips the evaluation for this run\n",
        "    prediction = run.outputs[\"response\"].content\n",
        "    if isinstance(prediction, list):  # Handle list outputs (e.g., documents)\n",
        "        prediction = \" \".join(doc.page_content if hasattr(doc, \"page_content\") else str(doc) for doc in prediction)\n",
        "    return {\n",
        "        \"prediction\": prediction,\n",
        "        \"reference\": example.outputs[\"answer\"],\n",
        "        \"input\": example.inputs[\"question\"],\n",
        "    }\n",
        "\n",
        "def prepare_data_with_context(run, example):\n",
        "    if run.outputs is None or not run.outputs:\n",
        "        print(f\"Skipping run {run.id} due to null or empty output\")\n",
        "        return None\n",
        "    prediction = run.outputs[\"response\"].content\n",
        "    context = example.metadata[\"context\"] \n",
        "    if isinstance(context, list):\n",
        "        context = \" \".join(doc.page_content if hasattr(doc, \"page_content\") else str(doc) for doc in context)\n",
        "    elif not context and \"context\" in example.metadata:\n",
        "        context = example.metadata[\"context\"]  # Fallback to metadata if available\n",
        "    return {\n",
        "        \"prediction\": prediction,\n",
        "        \"reference\": example.outputs[\"answer\"],\n",
        "        \"input\": example.inputs[\"question\"],\n",
        "        \"context\": context,  # Add context for precision/recall\n",
        "    }\n",
        "\n",
        "qa_evaluator = LangChainStringEvaluator(\"qa\", config={\"llm\" : eval_llm})\n",
        "\n",
        "answer_relevancy_evaluator = LangChainStringEvaluator(\n",
        "    \"labeled_score_string\",\n",
        "    config={\n",
        "        \"criteria\": {\n",
        "            \"relevancy\": \"How relevant is this prediction to the question on a scale of 1-10? Focus on whether the answer addresses the query, ignoring factual accuracy.\"\n",
        "        },\n",
        "        \"normalize_by\": 10,\n",
        "    },\n",
        "    prepare_data=prepare_data  # Reuses existing prepare_data\n",
        ")\n",
        "\n",
        "context_precision_evaluator = LangChainStringEvaluator(\n",
        "    \"labeled_score_string\",\n",
        "    config={\n",
        "        \"criteria\": {\n",
        "            \"precision\": \"How much of the provided context is relevant to the question and answer on a scale of 1-10? Penalize irrelevant or extraneous information.\"\n",
        "        },\n",
        "        \"normalize_by\": 10,\n",
        "    },\n",
        "    prepare_data=prepare_data_with_context\n",
        ")\n",
        "\n",
        "context_recall_evaluator = LangChainStringEvaluator(\n",
        "    \"labeled_score_string\",\n",
        "    config={\n",
        "        \"criteria\": {\n",
        "            \"recall\": \"How much of the necessary context to answer the question correctly is present in the provided context on a scale of 1-10? Penalize missing relevant information.\"\n",
        "        },\n",
        "        \"normalize_by\": 10,\n",
        "    },\n",
        "    prepare_data=prepare_data_with_context  # Reuses context-enabled prepare_data\n",
        ")\n",
        "\n",
        "faithfulness_evaluator = LangChainStringEvaluator(\n",
        "    \"labeled_score_string\",\n",
        "    config={\n",
        "        \"criteria\": {\n",
        "            \"faithfulness\": \"How faithful is the prediction to the provided context on a scale of 1-10? Penalize answers that introduce information not supported by the context.\"\n",
        "        },\n",
        "        \"normalize_by\": 10,\n",
        "    },\n",
        "    prepare_data=prepare_data_with_context\n",
        ")\n"
      ]
    },
    {
      "cell_type": "markdown",
      "metadata": {},
      "source": [
        "### Evaluate Naive Retrieval by using LangSmith Customized Evaluators"
      ]
    },
    {
      "cell_type": "code",
      "execution_count": 56,
      "metadata": {},
      "outputs": [
        {
          "name": "stdout",
          "output_type": "stream",
          "text": [
            "View the evaluation results for experiment: 'best-month-50' at:\n",
            "https://smith.langchain.com/o/48c839b0-a50d-4327-8b62-d77e548f014c/datasets/299968e3-f9b8-43be-bdfb-858258f2f342/compare?selectedSessions=0bb063b0-a321-4573-bfba-b48d4f55a4d3\n",
            "\n",
            "\n"
          ]
        },
        {
          "data": {
            "application/vnd.jupyter.widget-view+json": {
              "model_id": "f3ec74029e7747a79b672eff6466d0a3",
              "version_major": 2,
              "version_minor": 0
            },
            "text/plain": [
              "0it [00:00, ?it/s]"
            ]
          },
          "metadata": {},
          "output_type": "display_data"
        },
        {
          "data": {
            "text/html": [
              "<div>\n",
              "<style scoped>\n",
              "    .dataframe tbody tr th:only-of-type {\n",
              "        vertical-align: middle;\n",
              "    }\n",
              "\n",
              "    .dataframe tbody tr th {\n",
              "        vertical-align: top;\n",
              "    }\n",
              "\n",
              "    .dataframe thead th {\n",
              "        text-align: right;\n",
              "    }\n",
              "</style>\n",
              "<table border=\"1\" class=\"dataframe\">\n",
              "  <thead>\n",
              "    <tr style=\"text-align: right;\">\n",
              "      <th></th>\n",
              "      <th>inputs.question</th>\n",
              "      <th>outputs.response</th>\n",
              "      <th>outputs.context</th>\n",
              "      <th>error</th>\n",
              "      <th>reference.answer</th>\n",
              "      <th>feedback.score_string:relevancy</th>\n",
              "      <th>feedback.score_string:precision</th>\n",
              "      <th>feedback.score_string:recall</th>\n",
              "      <th>feedback.score_string:faithfulness</th>\n",
              "      <th>execution_time</th>\n",
              "      <th>example_id</th>\n",
              "      <th>id</th>\n",
              "    </tr>\n",
              "  </thead>\n",
              "  <tbody>\n",
              "    <tr>\n",
              "      <th>0</th>\n",
              "      <td>How does 'John Wick: Chapter 3 - Parabellum' b...</td>\n",
              "      <td>content=\"I don't know the specific details of ...</td>\n",
              "      <td>[page_content=': 0\\nReview: It is 5 years sinc...</td>\n",
              "      <td>None</td>\n",
              "      <td>'John Wick: Chapter 3 - Parabellum' is praised...</td>\n",
              "      <td>0.6</td>\n",
              "      <td>0.6</td>\n",
              "      <td>0.3</td>\n",
              "      <td>0.6</td>\n",
              "      <td>1.625579</td>\n",
              "      <td>83b8e7d6-0fc5-492c-abb7-b3df6676c720</td>\n",
              "      <td>579da5a4-ecc0-4c6f-a999-62fc9314df8c</td>\n",
              "    </tr>\n",
              "    <tr>\n",
              "      <th>1</th>\n",
              "      <td>In what ways does 'John Wick: Chapter 4' build...</td>\n",
              "      <td>content=\"In 'John Wick: Chapter 4', the film b...</td>\n",
              "      <td>[page_content=': 19\\nReview: John Wick: Chapte...</td>\n",
              "      <td>None</td>\n",
              "      <td>'John Wick: Chapter 4' builds upon the stylist...</td>\n",
              "      <td>1.0</td>\n",
              "      <td>1.0</td>\n",
              "      <td>0.9</td>\n",
              "      <td>1.0</td>\n",
              "      <td>2.047453</td>\n",
              "      <td>c428323a-3182-4c8b-84d1-0a507b5fa2f9</td>\n",
              "      <td>6c9d05b9-86d9-4d1c-9e82-89d34d6421b4</td>\n",
              "    </tr>\n",
              "    <tr>\n",
              "      <th>2</th>\n",
              "      <td>How does the action and narrative development ...</td>\n",
              "      <td>content=\"I don't know.\" additional_kwargs={'re...</td>\n",
              "      <td>[page_content=': 0\\nReview: It is 5 years sinc...</td>\n",
              "      <td>None</td>\n",
              "      <td>John Wick 2, while unable to surprise audience...</td>\n",
              "      <td>0.1</td>\n",
              "      <td>0.1</td>\n",
              "      <td>0.1</td>\n",
              "      <td>0.1</td>\n",
              "      <td>0.814736</td>\n",
              "      <td>e4b4fb23-5414-4932-85f9-84d76c34b4db</td>\n",
              "      <td>2c8ff229-4640-4dfa-9159-dd5d9d06e2b3</td>\n",
              "    </tr>\n",
              "    <tr>\n",
              "      <th>3</th>\n",
              "      <td>Why John Wick 2 not surprise like first movie ...</td>\n",
              "      <td>content='The first John Wick movie was surpris...</td>\n",
              "      <td>[page_content=': 9\\nReview: \"John Wick: Chapte...</td>\n",
              "      <td>None</td>\n",
              "      <td>John Wick 2 doesn't have the ability to surpri...</td>\n",
              "      <td>1.0</td>\n",
              "      <td>0.9</td>\n",
              "      <td>0.8</td>\n",
              "      <td>0.9</td>\n",
              "      <td>1.635964</td>\n",
              "      <td>2141564b-a959-461b-85ae-7492503d76ef</td>\n",
              "      <td>e3b4757c-7fd5-4f88-9338-1b1f5322fd22</td>\n",
              "    </tr>\n",
              "    <tr>\n",
              "      <th>4</th>\n",
              "      <td>What are the criticisms of John Wick Chapter 2...</td>\n",
              "      <td>content='Some criticisms of John Wick Chapter ...</td>\n",
              "      <td>[page_content=': 23\\nReview: I love me a bit o...</td>\n",
              "      <td>None</td>\n",
              "      <td>Critics of John Wick Chapter 2 have pointed ou...</td>\n",
              "      <td>0.9</td>\n",
              "      <td>0.7</td>\n",
              "      <td>0.7</td>\n",
              "      <td>0.6</td>\n",
              "      <td>2.103687</td>\n",
              "      <td>6b9598f4-ceff-4b09-939a-f493186d516c</td>\n",
              "      <td>79f37925-3b94-4592-b16e-3883bce35b76</td>\n",
              "    </tr>\n",
              "    <tr>\n",
              "      <th>5</th>\n",
              "      <td>What is the plot of the first John Wick movie?</td>\n",
              "      <td>content='The plot of the first John Wick movie...</td>\n",
              "      <td>[page_content=': 5\\nReview: Ultra-violent firs...</td>\n",
              "      <td>None</td>\n",
              "      <td>In the original John Wick (2014), an ex-hit-ma...</td>\n",
              "      <td>0.8</td>\n",
              "      <td>0.8</td>\n",
              "      <td>0.7</td>\n",
              "      <td>0.7</td>\n",
              "      <td>1.063877</td>\n",
              "      <td>0ef03896-2e2b-4410-b353-a802616458c3</td>\n",
              "      <td>756c16cf-5c91-4170-a189-7179e1d49b36</td>\n",
              "    </tr>\n",
              "    <tr>\n",
              "      <th>6</th>\n",
              "      <td>What John Wick movie about, and how it do with...</td>\n",
              "      <td>content='John Wick is about a former hitman se...</td>\n",
              "      <td>[page_content=': 0\\nReview: The best way I can...</td>\n",
              "      <td>None</td>\n",
              "      <td>The John Wick movie is about a retired assassi...</td>\n",
              "      <td>0.9</td>\n",
              "      <td>0.8</td>\n",
              "      <td>0.7</td>\n",
              "      <td>0.8</td>\n",
              "      <td>1.838484</td>\n",
              "      <td>d563f5e1-7c57-4b4b-bf18-ab352b7a0320</td>\n",
              "      <td>27d7c896-125d-412b-888b-18518f0ce176</td>\n",
              "    </tr>\n",
              "    <tr>\n",
              "      <th>7</th>\n",
              "      <td>Who Chad Stahelski and what he do in John Wick?</td>\n",
              "      <td>content='Chad Stahelski is a stunt specialist ...</td>\n",
              "      <td>[page_content=': 3\\nReview: John wick has a ve...</td>\n",
              "      <td>None</td>\n",
              "      <td>Chad Stahelski is the director of John Wick, a...</td>\n",
              "      <td>1.0</td>\n",
              "      <td>1.0</td>\n",
              "      <td>1.0</td>\n",
              "      <td>1.0</td>\n",
              "      <td>1.047780</td>\n",
              "      <td>8c924974-dbad-4ded-9c20-9012056429ef</td>\n",
              "      <td>278f2da5-ba42-4711-99d9-3066f163e884</td>\n",
              "    </tr>\n",
              "    <tr>\n",
              "      <th>8</th>\n",
              "      <td>What is the general reception of the John Wick...</td>\n",
              "      <td>content=\"The John Wick film series has been ge...</td>\n",
              "      <td>[page_content=': 9\\nReview: At first glance, J...</td>\n",
              "      <td>None</td>\n",
              "      <td>The John Wick film series is apparently loved ...</td>\n",
              "      <td>1.0</td>\n",
              "      <td>1.0</td>\n",
              "      <td>0.8</td>\n",
              "      <td>1.0</td>\n",
              "      <td>0.989175</td>\n",
              "      <td>8112ac9f-1486-4382-aa39-6b59adebede8</td>\n",
              "      <td>6f5ed88f-5cad-47db-a213-7d93903a36d1</td>\n",
              "    </tr>\n",
              "    <tr>\n",
              "      <th>9</th>\n",
              "      <td>How does the film 'A Good Day to Die Hard' com...</td>\n",
              "      <td>content='Based on the context provided, \"John ...</td>\n",
              "      <td>[page_content=': 0\\nReview: The best way I can...</td>\n",
              "      <td>None</td>\n",
              "      <td>'A Good Day to Die Hard' is mentioned as an ex...</td>\n",
              "      <td>1.0</td>\n",
              "      <td>1.0</td>\n",
              "      <td>1.0</td>\n",
              "      <td>1.0</td>\n",
              "      <td>2.040199</td>\n",
              "      <td>3c2e3603-7399-4bc3-9741-2140da5af483</td>\n",
              "      <td>db180ea5-6d58-4517-9cdb-43cbdb818cb0</td>\n",
              "    </tr>\n",
              "  </tbody>\n",
              "</table>\n",
              "</div>"
            ],
            "text/plain": [
              "<ExperimentResults best-month-50>"
            ]
          },
          "execution_count": 56,
          "metadata": {},
          "output_type": "execute_result"
        }
      ],
      "source": [
        "evaluate(\n",
        "    naive_retrieval_chain.invoke,\n",
        "    data=dataset_name,\n",
        "    evaluators=[\n",
        "        answer_relevancy_evaluator,\n",
        "        context_precision_evaluator,\n",
        "        context_recall_evaluator ,\n",
        "        faithfulness_evaluator,\n",
        "        context_recall_evaluator\n",
        "    ],\n",
        "    metadata={\"retriever\": \"naive_retriever\"},\n",
        ")"
      ]
    },
    {
      "cell_type": "markdown",
      "metadata": {},
      "source": [
        "### Evaulate Best-Matching 25 Retrieval by using LangSmith Customized Evaluators"
      ]
    },
    {
      "cell_type": "code",
      "execution_count": 57,
      "metadata": {},
      "outputs": [
        {
          "name": "stdout",
          "output_type": "stream",
          "text": [
            "View the evaluation results for experiment: 'abandoned-print-25' at:\n",
            "https://smith.langchain.com/o/48c839b0-a50d-4327-8b62-d77e548f014c/datasets/299968e3-f9b8-43be-bdfb-858258f2f342/compare?selectedSessions=e0ce42c1-515e-4fa1-bc7c-d9e4ec5faebf\n",
            "\n",
            "\n"
          ]
        },
        {
          "data": {
            "application/vnd.jupyter.widget-view+json": {
              "model_id": "d1e3b57ea2f941aba991bd5d7132bd34",
              "version_major": 2,
              "version_minor": 0
            },
            "text/plain": [
              "0it [00:00, ?it/s]"
            ]
          },
          "metadata": {},
          "output_type": "display_data"
        },
        {
          "data": {
            "text/html": [
              "<div>\n",
              "<style scoped>\n",
              "    .dataframe tbody tr th:only-of-type {\n",
              "        vertical-align: middle;\n",
              "    }\n",
              "\n",
              "    .dataframe tbody tr th {\n",
              "        vertical-align: top;\n",
              "    }\n",
              "\n",
              "    .dataframe thead th {\n",
              "        text-align: right;\n",
              "    }\n",
              "</style>\n",
              "<table border=\"1\" class=\"dataframe\">\n",
              "  <thead>\n",
              "    <tr style=\"text-align: right;\">\n",
              "      <th></th>\n",
              "      <th>inputs.question</th>\n",
              "      <th>outputs.response</th>\n",
              "      <th>outputs.context</th>\n",
              "      <th>error</th>\n",
              "      <th>reference.answer</th>\n",
              "      <th>feedback.score_string:relevancy</th>\n",
              "      <th>feedback.score_string:precision</th>\n",
              "      <th>feedback.score_string:recall</th>\n",
              "      <th>feedback.score_string:faithfulness</th>\n",
              "      <th>execution_time</th>\n",
              "      <th>example_id</th>\n",
              "      <th>id</th>\n",
              "    </tr>\n",
              "  </thead>\n",
              "  <tbody>\n",
              "    <tr>\n",
              "      <th>0</th>\n",
              "      <td>How does 'John Wick: Chapter 3 - Parabellum' b...</td>\n",
              "      <td>content=\"I'm sorry, I don't have the specific ...</td>\n",
              "      <td>[page_content=': 8\\nReview: About 6 months ago...</td>\n",
              "      <td>None</td>\n",
              "      <td>'John Wick: Chapter 3 - Parabellum' is praised...</td>\n",
              "      <td>0.1</td>\n",
              "      <td>0.1</td>\n",
              "      <td>0.1</td>\n",
              "      <td>0.1</td>\n",
              "      <td>0.676443</td>\n",
              "      <td>83b8e7d6-0fc5-492c-abb7-b3df6676c720</td>\n",
              "      <td>634b9add-8c05-4132-8ad5-5fde011b0330</td>\n",
              "    </tr>\n",
              "    <tr>\n",
              "      <th>1</th>\n",
              "      <td>In what ways does 'John Wick: Chapter 4' build...</td>\n",
              "      <td>content=\"In 'John Wick: Chapter 4', the action...</td>\n",
              "      <td>[page_content=': 19\\nReview: John Wick: Chapte...</td>\n",
              "      <td>None</td>\n",
              "      <td>'John Wick: Chapter 4' builds upon the stylist...</td>\n",
              "      <td>1.0</td>\n",
              "      <td>1.0</td>\n",
              "      <td>0.7</td>\n",
              "      <td>0.8</td>\n",
              "      <td>1.231243</td>\n",
              "      <td>c428323a-3182-4c8b-84d1-0a507b5fa2f9</td>\n",
              "      <td>3389bba6-d288-43cc-8242-dbf7473b13e9</td>\n",
              "    </tr>\n",
              "    <tr>\n",
              "      <th>2</th>\n",
              "      <td>How does the action and narrative development ...</td>\n",
              "      <td>content=\"I don't know the specific details of ...</td>\n",
              "      <td>[page_content=': 18\\nReview: Ever since the or...</td>\n",
              "      <td>None</td>\n",
              "      <td>John Wick 2, while unable to surprise audience...</td>\n",
              "      <td>0.2</td>\n",
              "      <td>0.2</td>\n",
              "      <td>0.2</td>\n",
              "      <td>0.1</td>\n",
              "      <td>1.239985</td>\n",
              "      <td>e4b4fb23-5414-4932-85f9-84d76c34b4db</td>\n",
              "      <td>bc59299f-78fc-4cbd-b309-0dcdd3cc0e4e</td>\n",
              "    </tr>\n",
              "    <tr>\n",
              "      <th>3</th>\n",
              "      <td>Why John Wick 2 not surprise like first movie ...</td>\n",
              "      <td>content=\"John Wick: Chapter 2 may not surprise...</td>\n",
              "      <td>[page_content=': 16\\nReview: John Wick Chapter...</td>\n",
              "      <td>None</td>\n",
              "      <td>John Wick 2 doesn't have the ability to surpri...</td>\n",
              "      <td>0.9</td>\n",
              "      <td>1.0</td>\n",
              "      <td>0.7</td>\n",
              "      <td>0.8</td>\n",
              "      <td>0.869902</td>\n",
              "      <td>2141564b-a959-461b-85ae-7492503d76ef</td>\n",
              "      <td>e876a4e7-2c7b-4079-acef-b74c45a0ba71</td>\n",
              "    </tr>\n",
              "    <tr>\n",
              "      <th>4</th>\n",
              "      <td>What are the criticisms of John Wick Chapter 2...</td>\n",
              "      <td>content='The criticisms of John Wick Chapter 2...</td>\n",
              "      <td>[page_content=': 23\\nReview: I love me a bit o...</td>\n",
              "      <td>None</td>\n",
              "      <td>Critics of John Wick Chapter 2 have pointed ou...</td>\n",
              "      <td>0.8</td>\n",
              "      <td>0.7</td>\n",
              "      <td>0.8</td>\n",
              "      <td>0.8</td>\n",
              "      <td>0.676614</td>\n",
              "      <td>6b9598f4-ceff-4b09-939a-f493186d516c</td>\n",
              "      <td>55e525db-824a-412a-ba23-0444f36ba430</td>\n",
              "    </tr>\n",
              "    <tr>\n",
              "      <th>5</th>\n",
              "      <td>What is the plot of the first John Wick movie?</td>\n",
              "      <td>content=\"I'm sorry, I don't know the plot of t...</td>\n",
              "      <td>[page_content=': 5\\nReview: What is all the ra...</td>\n",
              "      <td>None</td>\n",
              "      <td>In the original John Wick (2014), an ex-hit-ma...</td>\n",
              "      <td>0.1</td>\n",
              "      <td>0.1</td>\n",
              "      <td>0.1</td>\n",
              "      <td>0.1</td>\n",
              "      <td>0.593030</td>\n",
              "      <td>0ef03896-2e2b-4410-b353-a802616458c3</td>\n",
              "      <td>03cbe976-d8ab-4f45-873c-9a6c5b8009a6</td>\n",
              "    </tr>\n",
              "    <tr>\n",
              "      <th>6</th>\n",
              "      <td>What John Wick movie about, and how it do with...</td>\n",
              "      <td>content=\"The John Wick movies are about a form...</td>\n",
              "      <td>[page_content=': 22\\nReview: Lets contemplate ...</td>\n",
              "      <td>None</td>\n",
              "      <td>The John Wick movie is about a retired assassi...</td>\n",
              "      <td>0.8</td>\n",
              "      <td>0.7</td>\n",
              "      <td>0.7</td>\n",
              "      <td>0.7</td>\n",
              "      <td>0.856432</td>\n",
              "      <td>d563f5e1-7c57-4b4b-bf18-ab352b7a0320</td>\n",
              "      <td>ed3d1d72-cf72-4e2c-88c5-61c307d44d7c</td>\n",
              "    </tr>\n",
              "    <tr>\n",
              "      <th>7</th>\n",
              "      <td>Who Chad Stahelski and what he do in John Wick?</td>\n",
              "      <td>content='Chad Stahelski is a stuntman turned w...</td>\n",
              "      <td>[page_content=': 11\\nReview: Who needs a 2hr a...</td>\n",
              "      <td>None</td>\n",
              "      <td>Chad Stahelski is the director of John Wick, a...</td>\n",
              "      <td>0.7</td>\n",
              "      <td>0.7</td>\n",
              "      <td>0.6</td>\n",
              "      <td>0.7</td>\n",
              "      <td>0.580968</td>\n",
              "      <td>8c924974-dbad-4ded-9c20-9012056429ef</td>\n",
              "      <td>8eb5fc54-11cb-4972-95ea-c71cbd924f57</td>\n",
              "    </tr>\n",
              "    <tr>\n",
              "      <th>8</th>\n",
              "      <td>What is the general reception of the John Wick...</td>\n",
              "      <td>content=\"The general reception of the John Wic...</td>\n",
              "      <td>[page_content=': 8\\nReview: It's hard to find ...</td>\n",
              "      <td>None</td>\n",
              "      <td>The John Wick film series is apparently loved ...</td>\n",
              "      <td>1.0</td>\n",
              "      <td>1.0</td>\n",
              "      <td>0.8</td>\n",
              "      <td>0.9</td>\n",
              "      <td>0.953862</td>\n",
              "      <td>8112ac9f-1486-4382-aa39-6b59adebede8</td>\n",
              "      <td>64339165-c353-4371-8837-8d6a4ac15282</td>\n",
              "    </tr>\n",
              "    <tr>\n",
              "      <th>9</th>\n",
              "      <td>How does the film 'A Good Day to Die Hard' com...</td>\n",
              "      <td>content='In terms of plot complexity and effec...</td>\n",
              "      <td>[page_content=': 0\\nReview: The best way I can...</td>\n",
              "      <td>None</td>\n",
              "      <td>'A Good Day to Die Hard' is mentioned as an ex...</td>\n",
              "      <td>1.0</td>\n",
              "      <td>1.0</td>\n",
              "      <td>0.9</td>\n",
              "      <td>1.0</td>\n",
              "      <td>1.197196</td>\n",
              "      <td>3c2e3603-7399-4bc3-9741-2140da5af483</td>\n",
              "      <td>b7162bff-faaf-4489-a7b7-5746d8858bd3</td>\n",
              "    </tr>\n",
              "  </tbody>\n",
              "</table>\n",
              "</div>"
            ],
            "text/plain": [
              "<ExperimentResults abandoned-print-25>"
            ]
          },
          "execution_count": 57,
          "metadata": {},
          "output_type": "execute_result"
        }
      ],
      "source": [
        "evaluate(\n",
        "    bm25_retrieval_chain.invoke,\n",
        "    data=dataset_name,\n",
        "    evaluators=[\n",
        "        answer_relevancy_evaluator,\n",
        "        context_precision_evaluator,\n",
        "        context_recall_evaluator ,\n",
        "        faithfulness_evaluator,\n",
        "        context_recall_evaluator\n",
        "    ],\n",
        "    metadata={\"retriever\": \"bm25_retriever\"},\n",
        ")"
      ]
    },
    {
      "cell_type": "markdown",
      "metadata": {},
      "source": [
        "### Evaluate Contextual Compression Retrieval By Using LangSmith Customized Evaluators"
      ]
    },
    {
      "cell_type": "code",
      "execution_count": 58,
      "metadata": {},
      "outputs": [
        {
          "name": "stdout",
          "output_type": "stream",
          "text": [
            "View the evaluation results for experiment: 'reflecting-tub-67' at:\n",
            "https://smith.langchain.com/o/48c839b0-a50d-4327-8b62-d77e548f014c/datasets/299968e3-f9b8-43be-bdfb-858258f2f342/compare?selectedSessions=1a1cff93-f370-414e-9544-34178e5f544d\n",
            "\n",
            "\n"
          ]
        },
        {
          "data": {
            "application/vnd.jupyter.widget-view+json": {
              "model_id": "7308e984ffb042c785e17e775a84421e",
              "version_major": 2,
              "version_minor": 0
            },
            "text/plain": [
              "0it [00:00, ?it/s]"
            ]
          },
          "metadata": {},
          "output_type": "display_data"
        },
        {
          "data": {
            "text/html": [
              "<div>\n",
              "<style scoped>\n",
              "    .dataframe tbody tr th:only-of-type {\n",
              "        vertical-align: middle;\n",
              "    }\n",
              "\n",
              "    .dataframe tbody tr th {\n",
              "        vertical-align: top;\n",
              "    }\n",
              "\n",
              "    .dataframe thead th {\n",
              "        text-align: right;\n",
              "    }\n",
              "</style>\n",
              "<table border=\"1\" class=\"dataframe\">\n",
              "  <thead>\n",
              "    <tr style=\"text-align: right;\">\n",
              "      <th></th>\n",
              "      <th>inputs.question</th>\n",
              "      <th>outputs.response</th>\n",
              "      <th>outputs.context</th>\n",
              "      <th>error</th>\n",
              "      <th>reference.answer</th>\n",
              "      <th>feedback.score_string:relevancy</th>\n",
              "      <th>feedback.score_string:precision</th>\n",
              "      <th>feedback.score_string:recall</th>\n",
              "      <th>feedback.score_string:faithfulness</th>\n",
              "      <th>execution_time</th>\n",
              "      <th>example_id</th>\n",
              "      <th>id</th>\n",
              "    </tr>\n",
              "  </thead>\n",
              "  <tbody>\n",
              "    <tr>\n",
              "      <th>0</th>\n",
              "      <td>How does 'John Wick: Chapter 3 - Parabellum' b...</td>\n",
              "      <td>content=\"I'm sorry, I don't have the specific ...</td>\n",
              "      <td>[page_content=': 11\\nReview: The overrated \"Jo...</td>\n",
              "      <td>None</td>\n",
              "      <td>'John Wick: Chapter 3 - Parabellum' is praised...</td>\n",
              "      <td>0.1</td>\n",
              "      <td>0.1</td>\n",
              "      <td>0.1</td>\n",
              "      <td>0.1</td>\n",
              "      <td>2.281386</td>\n",
              "      <td>83b8e7d6-0fc5-492c-abb7-b3df6676c720</td>\n",
              "      <td>39d92dc3-c822-4825-8b34-e001f353fcea</td>\n",
              "    </tr>\n",
              "    <tr>\n",
              "      <th>1</th>\n",
              "      <td>In what ways does 'John Wick: Chapter 4' build...</td>\n",
              "      <td>content=\"Based on the provided reviews, 'John ...</td>\n",
              "      <td>[page_content=': 19\\nReview: John Wick: Chapte...</td>\n",
              "      <td>None</td>\n",
              "      <td>'John Wick: Chapter 4' builds upon the stylist...</td>\n",
              "      <td>1.0</td>\n",
              "      <td>1.0</td>\n",
              "      <td>1.0</td>\n",
              "      <td>1.0</td>\n",
              "      <td>2.227369</td>\n",
              "      <td>c428323a-3182-4c8b-84d1-0a507b5fa2f9</td>\n",
              "      <td>06c96382-783c-4031-9abf-7f6bf86745f6</td>\n",
              "    </tr>\n",
              "    <tr>\n",
              "      <th>2</th>\n",
              "      <td>How does the action and narrative development ...</td>\n",
              "      <td>content=\"I'm sorry, I don't have the specific ...</td>\n",
              "      <td>[page_content=': 8\\nReview: In this 2nd instal...</td>\n",
              "      <td>None</td>\n",
              "      <td>John Wick 2, while unable to surprise audience...</td>\n",
              "      <td>0.1</td>\n",
              "      <td>0.1</td>\n",
              "      <td>0.1</td>\n",
              "      <td>0.1</td>\n",
              "      <td>1.367513</td>\n",
              "      <td>e4b4fb23-5414-4932-85f9-84d76c34b4db</td>\n",
              "      <td>eaef27a5-805f-4b36-9ad0-a7ca9cfd5ee9</td>\n",
              "    </tr>\n",
              "    <tr>\n",
              "      <th>3</th>\n",
              "      <td>Why John Wick 2 not surprise like first movie ...</td>\n",
              "      <td>content='John Wick 2 may not have surprised li...</td>\n",
              "      <td>[page_content=': 16\\nReview: John Wick Chapter...</td>\n",
              "      <td>None</td>\n",
              "      <td>John Wick 2 doesn't have the ability to surpri...</td>\n",
              "      <td>1.0</td>\n",
              "      <td>1.0</td>\n",
              "      <td>1.0</td>\n",
              "      <td>1.0</td>\n",
              "      <td>1.442475</td>\n",
              "      <td>2141564b-a959-461b-85ae-7492503d76ef</td>\n",
              "      <td>14417a9b-e7c9-410c-a9af-13972bcb28d7</td>\n",
              "    </tr>\n",
              "    <tr>\n",
              "      <th>4</th>\n",
              "      <td>What are the criticisms of John Wick Chapter 2...</td>\n",
              "      <td>content='The criticisms of John Wick Chapter 2...</td>\n",
              "      <td>[page_content=': 11\\nReview: Don't believe the...</td>\n",
              "      <td>None</td>\n",
              "      <td>Critics of John Wick Chapter 2 have pointed ou...</td>\n",
              "      <td>0.8</td>\n",
              "      <td>0.7</td>\n",
              "      <td>0.7</td>\n",
              "      <td>0.6</td>\n",
              "      <td>2.301835</td>\n",
              "      <td>6b9598f4-ceff-4b09-939a-f493186d516c</td>\n",
              "      <td>6237e021-2f45-4dcc-8a1d-d52a71110d56</td>\n",
              "    </tr>\n",
              "    <tr>\n",
              "      <th>5</th>\n",
              "      <td>What is the plot of the first John Wick movie?</td>\n",
              "      <td>content='The plot of the first John Wick movie...</td>\n",
              "      <td>[page_content=': 0\\nReview: The best way I can...</td>\n",
              "      <td>None</td>\n",
              "      <td>In the original John Wick (2014), an ex-hit-ma...</td>\n",
              "      <td>0.6</td>\n",
              "      <td>0.7</td>\n",
              "      <td>0.5</td>\n",
              "      <td>0.6</td>\n",
              "      <td>1.168720</td>\n",
              "      <td>0ef03896-2e2b-4410-b353-a802616458c3</td>\n",
              "      <td>f2961ce3-d324-4c1a-a466-3e875c2aaafc</td>\n",
              "    </tr>\n",
              "    <tr>\n",
              "      <th>6</th>\n",
              "      <td>What John Wick movie about, and how it do with...</td>\n",
              "      <td>content=\"John Wick is a movie about a man seek...</td>\n",
              "      <td>[page_content=': 0\\nReview: The best way I can...</td>\n",
              "      <td>None</td>\n",
              "      <td>The John Wick movie is about a retired assassi...</td>\n",
              "      <td>0.8</td>\n",
              "      <td>0.8</td>\n",
              "      <td>0.6</td>\n",
              "      <td>0.7</td>\n",
              "      <td>1.785372</td>\n",
              "      <td>d563f5e1-7c57-4b4b-bf18-ab352b7a0320</td>\n",
              "      <td>42f63bbd-674a-4279-9238-ca6b80d1f98a</td>\n",
              "    </tr>\n",
              "    <tr>\n",
              "      <th>7</th>\n",
              "      <td>Who Chad Stahelski and what he do in John Wick?</td>\n",
              "      <td>content='Chad Stahelski is a stuntman turned w...</td>\n",
              "      <td>[page_content=': 17\\nReview: Stuntman turned w...</td>\n",
              "      <td>None</td>\n",
              "      <td>Chad Stahelski is the director of John Wick, a...</td>\n",
              "      <td>0.7</td>\n",
              "      <td>0.8</td>\n",
              "      <td>0.6</td>\n",
              "      <td>0.7</td>\n",
              "      <td>0.969143</td>\n",
              "      <td>8c924974-dbad-4ded-9c20-9012056429ef</td>\n",
              "      <td>ab9b367c-0e10-4e77-89c6-6df1f8744629</td>\n",
              "    </tr>\n",
              "    <tr>\n",
              "      <th>8</th>\n",
              "      <td>What is the general reception of the John Wick...</td>\n",
              "      <td>content='The general reception of the John Wic...</td>\n",
              "      <td>[page_content=': 20\\nReview: In a world where ...</td>\n",
              "      <td>None</td>\n",
              "      <td>The John Wick film series is apparently loved ...</td>\n",
              "      <td>1.0</td>\n",
              "      <td>1.0</td>\n",
              "      <td>0.8</td>\n",
              "      <td>0.8</td>\n",
              "      <td>1.856211</td>\n",
              "      <td>8112ac9f-1486-4382-aa39-6b59adebede8</td>\n",
              "      <td>aae4b5b0-0a63-4764-94ba-74a1530d1788</td>\n",
              "    </tr>\n",
              "    <tr>\n",
              "      <th>9</th>\n",
              "      <td>How does the film 'A Good Day to Die Hard' com...</td>\n",
              "      <td>content=\"Based on the context provided, 'John ...</td>\n",
              "      <td>[page_content=': 0\\nReview: The best way I can...</td>\n",
              "      <td>None</td>\n",
              "      <td>'A Good Day to Die Hard' is mentioned as an ex...</td>\n",
              "      <td>1.0</td>\n",
              "      <td>1.0</td>\n",
              "      <td>1.0</td>\n",
              "      <td>1.0</td>\n",
              "      <td>1.733475</td>\n",
              "      <td>3c2e3603-7399-4bc3-9741-2140da5af483</td>\n",
              "      <td>881be1a6-d9a6-4ecb-873d-ca3ebaa7fbc1</td>\n",
              "    </tr>\n",
              "  </tbody>\n",
              "</table>\n",
              "</div>"
            ],
            "text/plain": [
              "<ExperimentResults reflecting-tub-67>"
            ]
          },
          "execution_count": 58,
          "metadata": {},
          "output_type": "execute_result"
        }
      ],
      "source": [
        "evaluate(\n",
        "    contextual_compression_retrieval_chain.invoke,\n",
        "    data=dataset_name,\n",
        "    evaluators=[\n",
        "        answer_relevancy_evaluator,\n",
        "        context_precision_evaluator,\n",
        "        context_recall_evaluator ,\n",
        "        faithfulness_evaluator,\n",
        "        context_recall_evaluator\n",
        "    ],\n",
        "    metadata={\"retriever\": \"contextual_compression_retriever\"},\n",
        ")"
      ]
    },
    {
      "cell_type": "markdown",
      "metadata": {},
      "source": [
        "### Evaluate Multi-Query Retrieval by using LangSmith Customized Evaluators"
      ]
    },
    {
      "cell_type": "code",
      "execution_count": 59,
      "metadata": {},
      "outputs": [
        {
          "name": "stdout",
          "output_type": "stream",
          "text": [
            "View the evaluation results for experiment: 'excellent-dust-16' at:\n",
            "https://smith.langchain.com/o/48c839b0-a50d-4327-8b62-d77e548f014c/datasets/299968e3-f9b8-43be-bdfb-858258f2f342/compare?selectedSessions=7b677c70-9daf-43bb-8977-7c4a95e7797c\n",
            "\n",
            "\n"
          ]
        },
        {
          "data": {
            "application/vnd.jupyter.widget-view+json": {
              "model_id": "b97f23260b8d44308bc1b5ee8d27f53f",
              "version_major": 2,
              "version_minor": 0
            },
            "text/plain": [
              "0it [00:00, ?it/s]"
            ]
          },
          "metadata": {},
          "output_type": "display_data"
        },
        {
          "data": {
            "text/html": [
              "<div>\n",
              "<style scoped>\n",
              "    .dataframe tbody tr th:only-of-type {\n",
              "        vertical-align: middle;\n",
              "    }\n",
              "\n",
              "    .dataframe tbody tr th {\n",
              "        vertical-align: top;\n",
              "    }\n",
              "\n",
              "    .dataframe thead th {\n",
              "        text-align: right;\n",
              "    }\n",
              "</style>\n",
              "<table border=\"1\" class=\"dataframe\">\n",
              "  <thead>\n",
              "    <tr style=\"text-align: right;\">\n",
              "      <th></th>\n",
              "      <th>inputs.question</th>\n",
              "      <th>outputs.response</th>\n",
              "      <th>outputs.context</th>\n",
              "      <th>error</th>\n",
              "      <th>reference.answer</th>\n",
              "      <th>feedback.score_string:relevancy</th>\n",
              "      <th>feedback.score_string:precision</th>\n",
              "      <th>feedback.score_string:recall</th>\n",
              "      <th>feedback.score_string:faithfulness</th>\n",
              "      <th>execution_time</th>\n",
              "      <th>example_id</th>\n",
              "      <th>id</th>\n",
              "    </tr>\n",
              "  </thead>\n",
              "  <tbody>\n",
              "    <tr>\n",
              "      <th>0</th>\n",
              "      <td>How does 'John Wick: Chapter 3 - Parabellum' b...</td>\n",
              "      <td>content=\"I don't know the specific details abo...</td>\n",
              "      <td>[page_content=': 0\\nReview: It is 5 years sinc...</td>\n",
              "      <td>None</td>\n",
              "      <td>'John Wick: Chapter 3 - Parabellum' is praised...</td>\n",
              "      <td>0.1</td>\n",
              "      <td>0.1</td>\n",
              "      <td>0.1</td>\n",
              "      <td>0.1</td>\n",
              "      <td>3.880544</td>\n",
              "      <td>83b8e7d6-0fc5-492c-abb7-b3df6676c720</td>\n",
              "      <td>b9d06e9a-61cc-4172-8299-ec5a7105d3ca</td>\n",
              "    </tr>\n",
              "    <tr>\n",
              "      <th>1</th>\n",
              "      <td>In what ways does 'John Wick: Chapter 4' build...</td>\n",
              "      <td>content=\"In 'John Wick: Chapter 4', the stylis...</td>\n",
              "      <td>[page_content=': 19\\nReview: John Wick: Chapte...</td>\n",
              "      <td>None</td>\n",
              "      <td>'John Wick: Chapter 4' builds upon the stylist...</td>\n",
              "      <td>1.0</td>\n",
              "      <td>1.0</td>\n",
              "      <td>0.9</td>\n",
              "      <td>1.0</td>\n",
              "      <td>6.138372</td>\n",
              "      <td>c428323a-3182-4c8b-84d1-0a507b5fa2f9</td>\n",
              "      <td>7b49e087-b0c7-4a49-a7e1-72c909b74a32</td>\n",
              "    </tr>\n",
              "    <tr>\n",
              "      <th>2</th>\n",
              "      <td>How does the action and narrative development ...</td>\n",
              "      <td>content=\"I'm sorry, I don't have the specific ...</td>\n",
              "      <td>[page_content=': 9\\nReview: \"John Wick: Chapte...</td>\n",
              "      <td>None</td>\n",
              "      <td>John Wick 2, while unable to surprise audience...</td>\n",
              "      <td>0.1</td>\n",
              "      <td>0.1</td>\n",
              "      <td>0.1</td>\n",
              "      <td>0.1</td>\n",
              "      <td>2.946474</td>\n",
              "      <td>e4b4fb23-5414-4932-85f9-84d76c34b4db</td>\n",
              "      <td>999d0fba-5dd4-4ade-915a-cbd0a1c74992</td>\n",
              "    </tr>\n",
              "    <tr>\n",
              "      <th>3</th>\n",
              "      <td>Why John Wick 2 not surprise like first movie ...</td>\n",
              "      <td>content='John Wick 2 may not have been as surp...</td>\n",
              "      <td>[page_content=': 10\\nReview: The first John Wi...</td>\n",
              "      <td>None</td>\n",
              "      <td>John Wick 2 doesn't have the ability to surpri...</td>\n",
              "      <td>0.9</td>\n",
              "      <td>0.9</td>\n",
              "      <td>0.8</td>\n",
              "      <td>0.8</td>\n",
              "      <td>3.461864</td>\n",
              "      <td>2141564b-a959-461b-85ae-7492503d76ef</td>\n",
              "      <td>76d6b4f0-df8e-421b-b9b1-96ba02feb164</td>\n",
              "    </tr>\n",
              "    <tr>\n",
              "      <th>4</th>\n",
              "      <td>What are the criticisms of John Wick Chapter 2...</td>\n",
              "      <td>content='The criticisms of John Wick: Chapter ...</td>\n",
              "      <td>[page_content=': 9\\nReview: \"John Wick: Chapte...</td>\n",
              "      <td>None</td>\n",
              "      <td>Critics of John Wick Chapter 2 have pointed ou...</td>\n",
              "      <td>0.8</td>\n",
              "      <td>0.8</td>\n",
              "      <td>0.8</td>\n",
              "      <td>0.8</td>\n",
              "      <td>5.532222</td>\n",
              "      <td>6b9598f4-ceff-4b09-939a-f493186d516c</td>\n",
              "      <td>81062b21-b984-450c-9c96-0942ec36855e</td>\n",
              "    </tr>\n",
              "    <tr>\n",
              "      <th>5</th>\n",
              "      <td>What is the plot of the first John Wick movie?</td>\n",
              "      <td>content=\"The plot of the first John Wick movie...</td>\n",
              "      <td>[page_content=': 18\\nReview: When the story be...</td>\n",
              "      <td>None</td>\n",
              "      <td>In the original John Wick (2014), an ex-hit-ma...</td>\n",
              "      <td>1.0</td>\n",
              "      <td>1.0</td>\n",
              "      <td>0.7</td>\n",
              "      <td>1.0</td>\n",
              "      <td>3.845059</td>\n",
              "      <td>0ef03896-2e2b-4410-b353-a802616458c3</td>\n",
              "      <td>f7792337-26c5-4573-8f77-ae41c5957ed6</td>\n",
              "    </tr>\n",
              "    <tr>\n",
              "      <th>6</th>\n",
              "      <td>What John Wick movie about, and how it do with...</td>\n",
              "      <td>content=\"The John Wick movies are action-packe...</td>\n",
              "      <td>[page_content=': 1\\nReview: I'm a fan of the J...</td>\n",
              "      <td>None</td>\n",
              "      <td>The John Wick movie is about a retired assassi...</td>\n",
              "      <td>1.0</td>\n",
              "      <td>0.8</td>\n",
              "      <td>0.7</td>\n",
              "      <td>0.8</td>\n",
              "      <td>4.333740</td>\n",
              "      <td>d563f5e1-7c57-4b4b-bf18-ab352b7a0320</td>\n",
              "      <td>a7243d1a-c767-4012-92a8-267878914f98</td>\n",
              "    </tr>\n",
              "    <tr>\n",
              "      <th>7</th>\n",
              "      <td>Who Chad Stahelski and what he do in John Wick?</td>\n",
              "      <td>content='Chad Stahelski is a stunt specialist ...</td>\n",
              "      <td>[page_content=': 3\\nReview: John wick has a ve...</td>\n",
              "      <td>None</td>\n",
              "      <td>Chad Stahelski is the director of John Wick, a...</td>\n",
              "      <td>1.0</td>\n",
              "      <td>1.0</td>\n",
              "      <td>1.0</td>\n",
              "      <td>1.0</td>\n",
              "      <td>3.392288</td>\n",
              "      <td>8c924974-dbad-4ded-9c20-9012056429ef</td>\n",
              "      <td>950d82e8-2f90-4343-9000-1914f50315a2</td>\n",
              "    </tr>\n",
              "    <tr>\n",
              "      <th>8</th>\n",
              "      <td>What is the general reception of the John Wick...</td>\n",
              "      <td>content=\"The general reception of the John Wic...</td>\n",
              "      <td>[page_content=': 20\\nReview: In a world where ...</td>\n",
              "      <td>None</td>\n",
              "      <td>The John Wick film series is apparently loved ...</td>\n",
              "      <td>1.0</td>\n",
              "      <td>1.0</td>\n",
              "      <td>0.8</td>\n",
              "      <td>0.9</td>\n",
              "      <td>2.883424</td>\n",
              "      <td>8112ac9f-1486-4382-aa39-6b59adebede8</td>\n",
              "      <td>44f6ca39-f438-4934-a2d4-06267e3728ff</td>\n",
              "    </tr>\n",
              "    <tr>\n",
              "      <th>9</th>\n",
              "      <td>How does the film 'A Good Day to Die Hard' com...</td>\n",
              "      <td>content=\"Based on the context provided, the fi...</td>\n",
              "      <td>[page_content=': 0\\nReview: The best way I can...</td>\n",
              "      <td>None</td>\n",
              "      <td>'A Good Day to Die Hard' is mentioned as an ex...</td>\n",
              "      <td>1.0</td>\n",
              "      <td>1.0</td>\n",
              "      <td>1.0</td>\n",
              "      <td>1.0</td>\n",
              "      <td>3.157135</td>\n",
              "      <td>3c2e3603-7399-4bc3-9741-2140da5af483</td>\n",
              "      <td>47f1de02-ac90-448d-9de5-c81c7901f29d</td>\n",
              "    </tr>\n",
              "  </tbody>\n",
              "</table>\n",
              "</div>"
            ],
            "text/plain": [
              "<ExperimentResults excellent-dust-16>"
            ]
          },
          "execution_count": 59,
          "metadata": {},
          "output_type": "execute_result"
        }
      ],
      "source": [
        "evaluate(\n",
        "    multi_query_retrieval_chain.invoke,\n",
        "    data=dataset_name,\n",
        "    evaluators=[\n",
        "        answer_relevancy_evaluator,\n",
        "        context_precision_evaluator,\n",
        "        context_recall_evaluator ,\n",
        "        faithfulness_evaluator,\n",
        "        context_recall_evaluator\n",
        "    ],\n",
        "    metadata={\"retriever\": \"multi_query_retriever\"},\n",
        ")"
      ]
    },
    {
      "cell_type": "markdown",
      "metadata": {},
      "source": [
        "### Evaluate Parent Document Retrieval by using LangSmith Evaluators"
      ]
    },
    {
      "cell_type": "code",
      "execution_count": 60,
      "metadata": {},
      "outputs": [
        {
          "name": "stdout",
          "output_type": "stream",
          "text": [
            "View the evaluation results for experiment: 'mealy-income-6' at:\n",
            "https://smith.langchain.com/o/48c839b0-a50d-4327-8b62-d77e548f014c/datasets/299968e3-f9b8-43be-bdfb-858258f2f342/compare?selectedSessions=882e9e30-e7a9-4b53-8f9f-660a40e60e7a\n",
            "\n",
            "\n"
          ]
        },
        {
          "data": {
            "application/vnd.jupyter.widget-view+json": {
              "model_id": "0ed913c19f854e7495483162c918224b",
              "version_major": 2,
              "version_minor": 0
            },
            "text/plain": [
              "0it [00:00, ?it/s]"
            ]
          },
          "metadata": {},
          "output_type": "display_data"
        },
        {
          "data": {
            "text/html": [
              "<div>\n",
              "<style scoped>\n",
              "    .dataframe tbody tr th:only-of-type {\n",
              "        vertical-align: middle;\n",
              "    }\n",
              "\n",
              "    .dataframe tbody tr th {\n",
              "        vertical-align: top;\n",
              "    }\n",
              "\n",
              "    .dataframe thead th {\n",
              "        text-align: right;\n",
              "    }\n",
              "</style>\n",
              "<table border=\"1\" class=\"dataframe\">\n",
              "  <thead>\n",
              "    <tr style=\"text-align: right;\">\n",
              "      <th></th>\n",
              "      <th>inputs.question</th>\n",
              "      <th>outputs.response</th>\n",
              "      <th>outputs.context</th>\n",
              "      <th>error</th>\n",
              "      <th>reference.answer</th>\n",
              "      <th>feedback.score_string:relevancy</th>\n",
              "      <th>feedback.score_string:precision</th>\n",
              "      <th>feedback.score_string:recall</th>\n",
              "      <th>feedback.score_string:faithfulness</th>\n",
              "      <th>execution_time</th>\n",
              "      <th>example_id</th>\n",
              "      <th>id</th>\n",
              "    </tr>\n",
              "  </thead>\n",
              "  <tbody>\n",
              "    <tr>\n",
              "      <th>0</th>\n",
              "      <td>How does 'John Wick: Chapter 3 - Parabellum' b...</td>\n",
              "      <td>content=\"John Wick: Chapter 3 - Parabellum bal...</td>\n",
              "      <td>[page_content=': 13\\nReview: Following on from...</td>\n",
              "      <td>None</td>\n",
              "      <td>'John Wick: Chapter 3 - Parabellum' is praised...</td>\n",
              "      <td>0.5</td>\n",
              "      <td>0.4</td>\n",
              "      <td>0.3</td>\n",
              "      <td>0.3</td>\n",
              "      <td>1.660241</td>\n",
              "      <td>83b8e7d6-0fc5-492c-abb7-b3df6676c720</td>\n",
              "      <td>2a33da9e-59d0-4cb2-b05c-037c0636f82f</td>\n",
              "    </tr>\n",
              "    <tr>\n",
              "      <th>1</th>\n",
              "      <td>In what ways does 'John Wick: Chapter 4' build...</td>\n",
              "      <td>content=\"Based on the provided context, 'John ...</td>\n",
              "      <td>[page_content=': 19\\nReview: John Wick: Chapte...</td>\n",
              "      <td>None</td>\n",
              "      <td>'John Wick: Chapter 4' builds upon the stylist...</td>\n",
              "      <td>1.0</td>\n",
              "      <td>1.0</td>\n",
              "      <td>1.0</td>\n",
              "      <td>1.0</td>\n",
              "      <td>2.740898</td>\n",
              "      <td>c428323a-3182-4c8b-84d1-0a507b5fa2f9</td>\n",
              "      <td>965112aa-fca9-4a6d-8d00-cc4212e9ea44</td>\n",
              "    </tr>\n",
              "    <tr>\n",
              "      <th>2</th>\n",
              "      <td>How does the action and narrative development ...</td>\n",
              "      <td>content=\"I'm sorry, I don't have the specific ...</td>\n",
              "      <td>[page_content=': 14\\nReview: By now you know w...</td>\n",
              "      <td>None</td>\n",
              "      <td>John Wick 2, while unable to surprise audience...</td>\n",
              "      <td>0.1</td>\n",
              "      <td>0.1</td>\n",
              "      <td>0.1</td>\n",
              "      <td>0.2</td>\n",
              "      <td>0.964714</td>\n",
              "      <td>e4b4fb23-5414-4932-85f9-84d76c34b4db</td>\n",
              "      <td>a142de55-0657-4c8f-abc1-6aab961b39c7</td>\n",
              "    </tr>\n",
              "    <tr>\n",
              "      <th>3</th>\n",
              "      <td>Why John Wick 2 not surprise like first movie ...</td>\n",
              "      <td>content='John Wick Chapter 2 may not have surp...</td>\n",
              "      <td>[page_content=': 16\\nReview: John Wick Chapter...</td>\n",
              "      <td>None</td>\n",
              "      <td>John Wick 2 doesn't have the ability to surpri...</td>\n",
              "      <td>0.9</td>\n",
              "      <td>0.9</td>\n",
              "      <td>0.8</td>\n",
              "      <td>0.7</td>\n",
              "      <td>1.286105</td>\n",
              "      <td>2141564b-a959-461b-85ae-7492503d76ef</td>\n",
              "      <td>5851d1d0-9e19-45d8-9cbd-66a3893146e7</td>\n",
              "    </tr>\n",
              "    <tr>\n",
              "      <th>4</th>\n",
              "      <td>What are the criticisms of John Wick Chapter 2...</td>\n",
              "      <td>content='The criticisms of John Wick Chapter 2...</td>\n",
              "      <td>[page_content=': 11\\nReview: Don't believe the...</td>\n",
              "      <td>None</td>\n",
              "      <td>Critics of John Wick Chapter 2 have pointed ou...</td>\n",
              "      <td>0.6</td>\n",
              "      <td>0.5</td>\n",
              "      <td>0.3</td>\n",
              "      <td>0.4</td>\n",
              "      <td>1.026806</td>\n",
              "      <td>6b9598f4-ceff-4b09-939a-f493186d516c</td>\n",
              "      <td>8dba4e3b-e0a4-409a-950b-69b4aadc1842</td>\n",
              "    </tr>\n",
              "    <tr>\n",
              "      <th>5</th>\n",
              "      <td>What is the plot of the first John Wick movie?</td>\n",
              "      <td>content='The plot of the first John Wick movie...</td>\n",
              "      <td>[page_content=': 0\\nReview: The best way I can...</td>\n",
              "      <td>None</td>\n",
              "      <td>In the original John Wick (2014), an ex-hit-ma...</td>\n",
              "      <td>0.8</td>\n",
              "      <td>0.7</td>\n",
              "      <td>0.7</td>\n",
              "      <td>0.7</td>\n",
              "      <td>1.237546</td>\n",
              "      <td>0ef03896-2e2b-4410-b353-a802616458c3</td>\n",
              "      <td>397a0ef8-bc41-488a-bb12-b34e453c6772</td>\n",
              "    </tr>\n",
              "    <tr>\n",
              "      <th>6</th>\n",
              "      <td>What John Wick movie about, and how it do with...</td>\n",
              "      <td>content='The John Wick movie series follows th...</td>\n",
              "      <td>[page_content=': 8\\nReview: It's hard to find ...</td>\n",
              "      <td>None</td>\n",
              "      <td>The John Wick movie is about a retired assassi...</td>\n",
              "      <td>0.7</td>\n",
              "      <td>0.7</td>\n",
              "      <td>0.7</td>\n",
              "      <td>0.7</td>\n",
              "      <td>1.866116</td>\n",
              "      <td>d563f5e1-7c57-4b4b-bf18-ab352b7a0320</td>\n",
              "      <td>3510c6b4-1648-4b32-80d3-3ad5a0d5d593</td>\n",
              "    </tr>\n",
              "    <tr>\n",
              "      <th>7</th>\n",
              "      <td>Who Chad Stahelski and what he do in John Wick?</td>\n",
              "      <td>content='Chad Stahelski is a stuntman turned w...</td>\n",
              "      <td>[page_content=': 17\\nReview: Stuntman turned w...</td>\n",
              "      <td>None</td>\n",
              "      <td>Chad Stahelski is the director of John Wick, a...</td>\n",
              "      <td>1.0</td>\n",
              "      <td>1.0</td>\n",
              "      <td>1.0</td>\n",
              "      <td>0.9</td>\n",
              "      <td>0.996398</td>\n",
              "      <td>8c924974-dbad-4ded-9c20-9012056429ef</td>\n",
              "      <td>7628289a-259b-439a-b3d9-593e66232a7f</td>\n",
              "    </tr>\n",
              "    <tr>\n",
              "      <th>8</th>\n",
              "      <td>What is the general reception of the John Wick...</td>\n",
              "      <td>content='The general reception of the John Wic...</td>\n",
              "      <td>[page_content=': 20\\nReview: In a world where ...</td>\n",
              "      <td>None</td>\n",
              "      <td>The John Wick film series is apparently loved ...</td>\n",
              "      <td>0.8</td>\n",
              "      <td>0.8</td>\n",
              "      <td>0.7</td>\n",
              "      <td>0.6</td>\n",
              "      <td>1.086273</td>\n",
              "      <td>8112ac9f-1486-4382-aa39-6b59adebede8</td>\n",
              "      <td>2637a911-3e23-4b7f-8ac3-45593b9432e6</td>\n",
              "    </tr>\n",
              "    <tr>\n",
              "      <th>9</th>\n",
              "      <td>How does the film 'A Good Day to Die Hard' com...</td>\n",
              "      <td>content='In terms of plot complexity and effec...</td>\n",
              "      <td>[page_content=': 0\\nReview: The best way I can...</td>\n",
              "      <td>None</td>\n",
              "      <td>'A Good Day to Die Hard' is mentioned as an ex...</td>\n",
              "      <td>1.0</td>\n",
              "      <td>1.0</td>\n",
              "      <td>1.0</td>\n",
              "      <td>1.0</td>\n",
              "      <td>2.237478</td>\n",
              "      <td>3c2e3603-7399-4bc3-9741-2140da5af483</td>\n",
              "      <td>75ef6e21-7555-4527-a3bd-664d416cf507</td>\n",
              "    </tr>\n",
              "  </tbody>\n",
              "</table>\n",
              "</div>"
            ],
            "text/plain": [
              "<ExperimentResults mealy-income-6>"
            ]
          },
          "execution_count": 60,
          "metadata": {},
          "output_type": "execute_result"
        }
      ],
      "source": [
        "evaluate(\n",
        "    parent_document_retrieval_chain.invoke,\n",
        "    data=dataset_name,\n",
        "    evaluators=[\n",
        "        answer_relevancy_evaluator,\n",
        "        context_precision_evaluator,\n",
        "        context_recall_evaluator ,\n",
        "        faithfulness_evaluator,\n",
        "        context_recall_evaluator\n",
        "    ],\n",
        "    metadata={\"retriever\": \"parent_document_retriever\"},\n",
        ")"
      ]
    },
    {
      "cell_type": "markdown",
      "metadata": {},
      "source": [
        "### Evaluate Ensemble Retrieval by using LangSmith Customized Evaluators"
      ]
    },
    {
      "cell_type": "code",
      "execution_count": 61,
      "metadata": {},
      "outputs": [
        {
          "name": "stdout",
          "output_type": "stream",
          "text": [
            "View the evaluation results for experiment: 'long-wing-13' at:\n",
            "https://smith.langchain.com/o/48c839b0-a50d-4327-8b62-d77e548f014c/datasets/299968e3-f9b8-43be-bdfb-858258f2f342/compare?selectedSessions=e74215bf-c916-4a1f-b4b3-f72db767a0f8\n",
            "\n",
            "\n"
          ]
        },
        {
          "data": {
            "application/vnd.jupyter.widget-view+json": {
              "model_id": "962eebae5d66498191507c7e79a8fe9c",
              "version_major": 2,
              "version_minor": 0
            },
            "text/plain": [
              "0it [00:00, ?it/s]"
            ]
          },
          "metadata": {},
          "output_type": "display_data"
        },
        {
          "data": {
            "text/html": [
              "<div>\n",
              "<style scoped>\n",
              "    .dataframe tbody tr th:only-of-type {\n",
              "        vertical-align: middle;\n",
              "    }\n",
              "\n",
              "    .dataframe tbody tr th {\n",
              "        vertical-align: top;\n",
              "    }\n",
              "\n",
              "    .dataframe thead th {\n",
              "        text-align: right;\n",
              "    }\n",
              "</style>\n",
              "<table border=\"1\" class=\"dataframe\">\n",
              "  <thead>\n",
              "    <tr style=\"text-align: right;\">\n",
              "      <th></th>\n",
              "      <th>inputs.question</th>\n",
              "      <th>outputs.response</th>\n",
              "      <th>outputs.context</th>\n",
              "      <th>error</th>\n",
              "      <th>reference.answer</th>\n",
              "      <th>feedback.score_string:relevancy</th>\n",
              "      <th>feedback.score_string:precision</th>\n",
              "      <th>feedback.score_string:recall</th>\n",
              "      <th>feedback.score_string:faithfulness</th>\n",
              "      <th>execution_time</th>\n",
              "      <th>example_id</th>\n",
              "      <th>id</th>\n",
              "    </tr>\n",
              "  </thead>\n",
              "  <tbody>\n",
              "    <tr>\n",
              "      <th>0</th>\n",
              "      <td>How does 'John Wick: Chapter 3 - Parabellum' b...</td>\n",
              "      <td>content=\"I don't know.\" additional_kwargs={'re...</td>\n",
              "      <td>[page_content=': 13\\nReview: Following on from...</td>\n",
              "      <td>None</td>\n",
              "      <td>'John Wick: Chapter 3 - Parabellum' is praised...</td>\n",
              "      <td>0.1</td>\n",
              "      <td>0.1</td>\n",
              "      <td>0.1</td>\n",
              "      <td>0.1</td>\n",
              "      <td>3.620429</td>\n",
              "      <td>83b8e7d6-0fc5-492c-abb7-b3df6676c720</td>\n",
              "      <td>7043b5c8-f70b-496d-a56b-74e720276fdd</td>\n",
              "    </tr>\n",
              "    <tr>\n",
              "      <th>1</th>\n",
              "      <td>In what ways does 'John Wick: Chapter 4' build...</td>\n",
              "      <td>content=\"In 'John Wick: Chapter 4', the stylis...</td>\n",
              "      <td>[page_content=': 19\\nReview: John Wick: Chapte...</td>\n",
              "      <td>None</td>\n",
              "      <td>'John Wick: Chapter 4' builds upon the stylist...</td>\n",
              "      <td>1.0</td>\n",
              "      <td>1.0</td>\n",
              "      <td>0.9</td>\n",
              "      <td>1.0</td>\n",
              "      <td>8.246290</td>\n",
              "      <td>c428323a-3182-4c8b-84d1-0a507b5fa2f9</td>\n",
              "      <td>8f4dba4c-727f-4c0f-8c91-a3473033585d</td>\n",
              "    </tr>\n",
              "    <tr>\n",
              "      <th>2</th>\n",
              "      <td>How does the action and narrative development ...</td>\n",
              "      <td>content=\"I don't know the specific details of ...</td>\n",
              "      <td>[page_content=': 8\\nReview: In this 2nd instal...</td>\n",
              "      <td>None</td>\n",
              "      <td>John Wick 2, while unable to surprise audience...</td>\n",
              "      <td>0.1</td>\n",
              "      <td>0.1</td>\n",
              "      <td>0.1</td>\n",
              "      <td>0.1</td>\n",
              "      <td>3.719703</td>\n",
              "      <td>e4b4fb23-5414-4932-85f9-84d76c34b4db</td>\n",
              "      <td>6f4557d6-2d24-4589-8dc0-7b05716a35fe</td>\n",
              "    </tr>\n",
              "    <tr>\n",
              "      <th>3</th>\n",
              "      <td>Why John Wick 2 not surprise like first movie ...</td>\n",
              "      <td>content='John Wick Chapter 2 may not have been...</td>\n",
              "      <td>[page_content=': 16\\nReview: John Wick Chapter...</td>\n",
              "      <td>None</td>\n",
              "      <td>John Wick 2 doesn't have the ability to surpri...</td>\n",
              "      <td>1.0</td>\n",
              "      <td>0.9</td>\n",
              "      <td>0.8</td>\n",
              "      <td>1.0</td>\n",
              "      <td>3.919303</td>\n",
              "      <td>2141564b-a959-461b-85ae-7492503d76ef</td>\n",
              "      <td>23cd0c6e-fa75-48aa-91b0-cfda5fa27a19</td>\n",
              "    </tr>\n",
              "    <tr>\n",
              "      <th>4</th>\n",
              "      <td>What are the criticisms of John Wick Chapter 2...</td>\n",
              "      <td>content='The criticisms of John Wick Chapter 2...</td>\n",
              "      <td>[page_content=': 23\\nReview: I love me a bit o...</td>\n",
              "      <td>None</td>\n",
              "      <td>Critics of John Wick Chapter 2 have pointed ou...</td>\n",
              "      <td>0.9</td>\n",
              "      <td>0.8</td>\n",
              "      <td>0.7</td>\n",
              "      <td>0.7</td>\n",
              "      <td>3.709244</td>\n",
              "      <td>6b9598f4-ceff-4b09-939a-f493186d516c</td>\n",
              "      <td>2d1a62d3-5736-4783-a405-bf897e4d8b6b</td>\n",
              "    </tr>\n",
              "    <tr>\n",
              "      <th>5</th>\n",
              "      <td>What is the plot of the first John Wick movie?</td>\n",
              "      <td>content='The plot of the first John Wick movie...</td>\n",
              "      <td>[page_content=': 5\\nReview: Ultra-violent firs...</td>\n",
              "      <td>None</td>\n",
              "      <td>In the original John Wick (2014), an ex-hit-ma...</td>\n",
              "      <td>0.8</td>\n",
              "      <td>0.8</td>\n",
              "      <td>0.6</td>\n",
              "      <td>0.7</td>\n",
              "      <td>4.836296</td>\n",
              "      <td>0ef03896-2e2b-4410-b353-a802616458c3</td>\n",
              "      <td>1addeccc-6ead-4124-b50a-3575a805fc51</td>\n",
              "    </tr>\n",
              "    <tr>\n",
              "      <th>6</th>\n",
              "      <td>What John Wick movie about, and how it do with...</td>\n",
              "      <td>content='John Wick is a movie series that foll...</td>\n",
              "      <td>[page_content=': 0\\nReview: The best way I can...</td>\n",
              "      <td>None</td>\n",
              "      <td>The John Wick movie is about a retired assassi...</td>\n",
              "      <td>1.0</td>\n",
              "      <td>0.8</td>\n",
              "      <td>0.7</td>\n",
              "      <td>0.8</td>\n",
              "      <td>3.887344</td>\n",
              "      <td>d563f5e1-7c57-4b4b-bf18-ab352b7a0320</td>\n",
              "      <td>9722252c-9a05-49f2-8257-19e9a78d9a8a</td>\n",
              "    </tr>\n",
              "    <tr>\n",
              "      <th>7</th>\n",
              "      <td>Who Chad Stahelski and what he do in John Wick?</td>\n",
              "      <td>content='Chad Stahelski is a stuntman turned w...</td>\n",
              "      <td>[page_content=': 17\\nReview: Stuntman turned w...</td>\n",
              "      <td>None</td>\n",
              "      <td>Chad Stahelski is the director of John Wick, a...</td>\n",
              "      <td>1.0</td>\n",
              "      <td>1.0</td>\n",
              "      <td>0.8</td>\n",
              "      <td>0.9</td>\n",
              "      <td>3.148390</td>\n",
              "      <td>8c924974-dbad-4ded-9c20-9012056429ef</td>\n",
              "      <td>0cd489f4-8ceb-450b-9303-9d721bce1194</td>\n",
              "    </tr>\n",
              "    <tr>\n",
              "      <th>8</th>\n",
              "      <td>What is the general reception of the John Wick...</td>\n",
              "      <td>content=\"The general reception of the John Wic...</td>\n",
              "      <td>[page_content=': 20\\nReview: In a world where ...</td>\n",
              "      <td>None</td>\n",
              "      <td>The John Wick film series is apparently loved ...</td>\n",
              "      <td>1.0</td>\n",
              "      <td>1.0</td>\n",
              "      <td>1.0</td>\n",
              "      <td>1.0</td>\n",
              "      <td>3.890408</td>\n",
              "      <td>8112ac9f-1486-4382-aa39-6b59adebede8</td>\n",
              "      <td>2977bf04-580a-4603-bed4-805348f83670</td>\n",
              "    </tr>\n",
              "    <tr>\n",
              "      <th>9</th>\n",
              "      <td>How does the film 'A Good Day to Die Hard' com...</td>\n",
              "      <td>content='Based on the context provided, \"John ...</td>\n",
              "      <td>[page_content=': 0\\nReview: The best way I can...</td>\n",
              "      <td>None</td>\n",
              "      <td>'A Good Day to Die Hard' is mentioned as an ex...</td>\n",
              "      <td>1.0</td>\n",
              "      <td>1.0</td>\n",
              "      <td>1.0</td>\n",
              "      <td>1.0</td>\n",
              "      <td>8.866274</td>\n",
              "      <td>3c2e3603-7399-4bc3-9741-2140da5af483</td>\n",
              "      <td>7cfaf0b2-acee-4c03-bf46-46839c6bd90a</td>\n",
              "    </tr>\n",
              "  </tbody>\n",
              "</table>\n",
              "</div>"
            ],
            "text/plain": [
              "<ExperimentResults long-wing-13>"
            ]
          },
          "execution_count": 61,
          "metadata": {},
          "output_type": "execute_result"
        }
      ],
      "source": [
        "evaluate(\n",
        "    ensemble_retrieval_chain.invoke,\n",
        "    data=dataset_name,\n",
        "    evaluators=[\n",
        "        answer_relevancy_evaluator,\n",
        "        context_precision_evaluator,\n",
        "        context_recall_evaluator ,\n",
        "        faithfulness_evaluator,\n",
        "        context_recall_evaluator\n",
        "    ],\n",
        "    metadata={\"retriever\": \"ensemble_retriever\"},\n",
        ")"
      ]
    },
    {
      "cell_type": "markdown",
      "metadata": {},
      "source": [
        "### Evaluate Semantic Chunk with Naive Retrieval by using LangSmith Evaluators"
      ]
    },
    {
      "cell_type": "code",
      "execution_count": 62,
      "metadata": {},
      "outputs": [
        {
          "name": "stdout",
          "output_type": "stream",
          "text": [
            "View the evaluation results for experiment: 'abandoned-death-7' at:\n",
            "https://smith.langchain.com/o/48c839b0-a50d-4327-8b62-d77e548f014c/datasets/299968e3-f9b8-43be-bdfb-858258f2f342/compare?selectedSessions=f6dc7a92-2517-45a7-b8ac-ff179dc08182\n",
            "\n",
            "\n"
          ]
        },
        {
          "data": {
            "application/vnd.jupyter.widget-view+json": {
              "model_id": "67369630be714eb4b5668b8c74079cec",
              "version_major": 2,
              "version_minor": 0
            },
            "text/plain": [
              "0it [00:00, ?it/s]"
            ]
          },
          "metadata": {},
          "output_type": "display_data"
        },
        {
          "data": {
            "text/html": [
              "<div>\n",
              "<style scoped>\n",
              "    .dataframe tbody tr th:only-of-type {\n",
              "        vertical-align: middle;\n",
              "    }\n",
              "\n",
              "    .dataframe tbody tr th {\n",
              "        vertical-align: top;\n",
              "    }\n",
              "\n",
              "    .dataframe thead th {\n",
              "        text-align: right;\n",
              "    }\n",
              "</style>\n",
              "<table border=\"1\" class=\"dataframe\">\n",
              "  <thead>\n",
              "    <tr style=\"text-align: right;\">\n",
              "      <th></th>\n",
              "      <th>inputs.question</th>\n",
              "      <th>outputs.response</th>\n",
              "      <th>outputs.context</th>\n",
              "      <th>error</th>\n",
              "      <th>reference.answer</th>\n",
              "      <th>feedback.score_string:relevancy</th>\n",
              "      <th>feedback.score_string:precision</th>\n",
              "      <th>feedback.score_string:recall</th>\n",
              "      <th>feedback.score_string:faithfulness</th>\n",
              "      <th>execution_time</th>\n",
              "      <th>example_id</th>\n",
              "      <th>id</th>\n",
              "    </tr>\n",
              "  </thead>\n",
              "  <tbody>\n",
              "    <tr>\n",
              "      <th>0</th>\n",
              "      <td>How does 'John Wick: Chapter 3 - Parabellum' b...</td>\n",
              "      <td>content=\"I don't know.\" additional_kwargs={'re...</td>\n",
              "      <td>[page_content=': 13\\nReview: Following on from...</td>\n",
              "      <td>None</td>\n",
              "      <td>'John Wick: Chapter 3 - Parabellum' is praised...</td>\n",
              "      <td>0.1</td>\n",
              "      <td>0.1</td>\n",
              "      <td>0.1</td>\n",
              "      <td>0.1</td>\n",
              "      <td>0.705761</td>\n",
              "      <td>83b8e7d6-0fc5-492c-abb7-b3df6676c720</td>\n",
              "      <td>1459df39-2292-4a87-9756-645184d761c5</td>\n",
              "    </tr>\n",
              "    <tr>\n",
              "      <th>1</th>\n",
              "      <td>In what ways does 'John Wick: Chapter 4' build...</td>\n",
              "      <td>content=\"In 'John Wick: Chapter 4', the stylis...</td>\n",
              "      <td>[page_content=': 19\\nReview: John Wick: Chapte...</td>\n",
              "      <td>None</td>\n",
              "      <td>'John Wick: Chapter 4' builds upon the stylist...</td>\n",
              "      <td>1.0</td>\n",
              "      <td>1.0</td>\n",
              "      <td>0.9</td>\n",
              "      <td>1.0</td>\n",
              "      <td>2.038134</td>\n",
              "      <td>c428323a-3182-4c8b-84d1-0a507b5fa2f9</td>\n",
              "      <td>cc86c9a2-bff5-4c14-bd66-efbb2f6cba90</td>\n",
              "    </tr>\n",
              "    <tr>\n",
              "      <th>2</th>\n",
              "      <td>How does the action and narrative development ...</td>\n",
              "      <td>content=\"I don't know the specific details of ...</td>\n",
              "      <td>[page_content=': 0\\nReview: It is 5 years sinc...</td>\n",
              "      <td>None</td>\n",
              "      <td>John Wick 2, while unable to surprise audience...</td>\n",
              "      <td>0.1</td>\n",
              "      <td>0.1</td>\n",
              "      <td>0.1</td>\n",
              "      <td>0.1</td>\n",
              "      <td>0.868458</td>\n",
              "      <td>e4b4fb23-5414-4932-85f9-84d76c34b4db</td>\n",
              "      <td>375956a1-83cf-4574-abf4-0649b58d7dc1</td>\n",
              "    </tr>\n",
              "    <tr>\n",
              "      <th>3</th>\n",
              "      <td>Why John Wick 2 not surprise like first movie ...</td>\n",
              "      <td>content=\"I don't know why John Wick 2 did not ...</td>\n",
              "      <td>[page_content='This is EXACTLY what you want o...</td>\n",
              "      <td>None</td>\n",
              "      <td>John Wick 2 doesn't have the ability to surpri...</td>\n",
              "      <td>0.7</td>\n",
              "      <td>0.6</td>\n",
              "      <td>0.4</td>\n",
              "      <td>0.6</td>\n",
              "      <td>0.988735</td>\n",
              "      <td>2141564b-a959-461b-85ae-7492503d76ef</td>\n",
              "      <td>bece7987-6b14-4dd4-b133-1bcc98bdce85</td>\n",
              "    </tr>\n",
              "    <tr>\n",
              "      <th>4</th>\n",
              "      <td>What are the criticisms of John Wick Chapter 2...</td>\n",
              "      <td>content='The criticisms of John Wick Chapter 2...</td>\n",
              "      <td>[page_content='Failing that, the gory mayhem h...</td>\n",
              "      <td>None</td>\n",
              "      <td>Critics of John Wick Chapter 2 have pointed ou...</td>\n",
              "      <td>0.7</td>\n",
              "      <td>0.5</td>\n",
              "      <td>0.5</td>\n",
              "      <td>0.5</td>\n",
              "      <td>1.178022</td>\n",
              "      <td>6b9598f4-ceff-4b09-939a-f493186d516c</td>\n",
              "      <td>01e102a6-1c53-45d7-824b-047a53a7ba01</td>\n",
              "    </tr>\n",
              "    <tr>\n",
              "      <th>5</th>\n",
              "      <td>What is the plot of the first John Wick movie?</td>\n",
              "      <td>content='The plot of the first John Wick movie...</td>\n",
              "      <td>[page_content='John Wick (Reeves) is out to se...</td>\n",
              "      <td>None</td>\n",
              "      <td>In the original John Wick (2014), an ex-hit-ma...</td>\n",
              "      <td>0.8</td>\n",
              "      <td>0.7</td>\n",
              "      <td>0.7</td>\n",
              "      <td>0.7</td>\n",
              "      <td>1.139589</td>\n",
              "      <td>0ef03896-2e2b-4410-b353-a802616458c3</td>\n",
              "      <td>4a8300a6-9101-4837-ae62-6317dce3489f</td>\n",
              "    </tr>\n",
              "    <tr>\n",
              "      <th>6</th>\n",
              "      <td>What John Wick movie about, and how it do with...</td>\n",
              "      <td>content='John Wick is about a former hitman se...</td>\n",
              "      <td>[page_content='John Wick (Reeves) is out to se...</td>\n",
              "      <td>None</td>\n",
              "      <td>The John Wick movie is about a retired assassi...</td>\n",
              "      <td>1.0</td>\n",
              "      <td>1.0</td>\n",
              "      <td>0.7</td>\n",
              "      <td>0.8</td>\n",
              "      <td>1.600873</td>\n",
              "      <td>d563f5e1-7c57-4b4b-bf18-ab352b7a0320</td>\n",
              "      <td>bba3cb3b-8fc5-4b4d-aae1-6bb32a681df8</td>\n",
              "    </tr>\n",
              "    <tr>\n",
              "      <th>7</th>\n",
              "      <td>Who Chad Stahelski and what he do in John Wick?</td>\n",
              "      <td>content='Chad Stahelski is a stunt specialist ...</td>\n",
              "      <td>[page_content='Directed by Chad Stahelski who'...</td>\n",
              "      <td>None</td>\n",
              "      <td>Chad Stahelski is the director of John Wick, a...</td>\n",
              "      <td>1.0</td>\n",
              "      <td>1.0</td>\n",
              "      <td>1.0</td>\n",
              "      <td>1.0</td>\n",
              "      <td>0.994378</td>\n",
              "      <td>8c924974-dbad-4ded-9c20-9012056429ef</td>\n",
              "      <td>63449f33-a08f-4337-b040-3073e51f937d</td>\n",
              "    </tr>\n",
              "    <tr>\n",
              "      <th>8</th>\n",
              "      <td>What is the general reception of the John Wick...</td>\n",
              "      <td>content=\"The John Wick film series has been we...</td>\n",
              "      <td>[page_content=': 20\\nReview: In a world where ...</td>\n",
              "      <td>None</td>\n",
              "      <td>The John Wick film series is apparently loved ...</td>\n",
              "      <td>1.0</td>\n",
              "      <td>1.0</td>\n",
              "      <td>0.8</td>\n",
              "      <td>0.9</td>\n",
              "      <td>1.173549</td>\n",
              "      <td>8112ac9f-1486-4382-aa39-6b59adebede8</td>\n",
              "      <td>1af0b202-1f6f-4865-8a5e-d399602f443a</td>\n",
              "    </tr>\n",
              "    <tr>\n",
              "      <th>9</th>\n",
              "      <td>How does the film 'A Good Day to Die Hard' com...</td>\n",
              "      <td>content=\"Based on the context provided, 'John ...</td>\n",
              "      <td>[page_content='John Wick (Reeves) is out to se...</td>\n",
              "      <td>None</td>\n",
              "      <td>'A Good Day to Die Hard' is mentioned as an ex...</td>\n",
              "      <td>1.0</td>\n",
              "      <td>0.9</td>\n",
              "      <td>0.9</td>\n",
              "      <td>0.9</td>\n",
              "      <td>2.450341</td>\n",
              "      <td>3c2e3603-7399-4bc3-9741-2140da5af483</td>\n",
              "      <td>1abc624f-4bb0-4e17-a80b-4d1341c42249</td>\n",
              "    </tr>\n",
              "  </tbody>\n",
              "</table>\n",
              "</div>"
            ],
            "text/plain": [
              "<ExperimentResults abandoned-death-7>"
            ]
          },
          "execution_count": 62,
          "metadata": {},
          "output_type": "execute_result"
        }
      ],
      "source": [
        "evaluate(\n",
        "    semantic_retrieval_chain.invoke,\n",
        "    data=dataset_name,\n",
        "    evaluators=[\n",
        "        answer_relevancy_evaluator,\n",
        "        context_precision_evaluator,\n",
        "        context_recall_evaluator ,\n",
        "        faithfulness_evaluator,\n",
        "        context_recall_evaluator\n",
        "    ],\n",
        "    metadata={\"retriever\": \"semantic_retriever\"},\n",
        ")"
      ]
    },
    {
      "cell_type": "markdown",
      "metadata": {},
      "source": [
        "## Evaluate Each Retrieval's Performance By using Ragas"
      ]
    },
    {
      "cell_type": "code",
      "execution_count": 65,
      "metadata": {},
      "outputs": [],
      "source": [
        "from ragas import EvaluationDataset\n",
        "from ragas import evaluate\n",
        "from ragas.llms import LangchainLLMWrapper\n",
        "from ragas.metrics import LLMContextRecall, Faithfulness, FactualCorrectness, ResponseRelevancy, ContextEntityRecall, NoiseSensitivity\n",
        "from ragas import evaluate, RunConfig\n",
        "\n",
        "evaluator_llm = LangchainLLMWrapper(ChatOpenAI(model=\"gpt-4o\", seed=10))\n",
        "custom_run_config = RunConfig(timeout=1440)\n",
        "\n",
        "\n",
        "def ragas_evaluate_one_chain(evaluator_llm, dataset, the_chain, custom_run_config):\n",
        "\n",
        "    for test_row in dataset:\n",
        "        response = the_chain.invoke({\"question\" : test_row.eval_sample.user_input})\n",
        "        test_row.eval_sample.response = response[\"response\"].content\n",
        "        test_row.eval_sample.retrieved_contexts = [context.page_content for context in response[\"context\"]]\n",
        "\n",
        "    evaluation_dataset = EvaluationDataset.from_pandas(dataset.to_pandas())\n",
        "\n",
        "    result = evaluate(\n",
        "        dataset=evaluation_dataset,\n",
        "        metrics=[LLMContextRecall(), Faithfulness(), FactualCorrectness(), ResponseRelevancy(), ContextEntityRecall(), NoiseSensitivity()],\n",
        "        llm=evaluator_llm,\n",
        "        run_config=custom_run_config\n",
        "    )\n",
        "\n",
        "    return result\n"
      ]
    },
    {
      "cell_type": "code",
      "execution_count": 66,
      "metadata": {},
      "outputs": [
        {
          "data": {
            "application/vnd.jupyter.widget-view+json": {
              "model_id": "0805e5f673e249a3a36763dbee89cc17",
              "version_major": 2,
              "version_minor": 0
            },
            "text/plain": [
              "Evaluating:   0%|          | 0/60 [00:00<?, ?it/s]"
            ]
          },
          "metadata": {},
          "output_type": "display_data"
        },
        {
          "data": {
            "text/plain": [
              "{'context_recall': 0.7817, 'faithfulness': 0.7732, 'factual_correctness': 0.5470, 'answer_relevancy': 0.6678, 'context_entity_recall': 0.5750, 'noise_sensitivity_relevant': 0.3390}"
            ]
          },
          "execution_count": 66,
          "metadata": {},
          "output_type": "execute_result"
        }
      ],
      "source": [
        "ragas_evaluate_one_chain(evaluator_llm, golden_dataset, naive_retrieval_chain, custom_run_config)"
      ]
    },
    {
      "cell_type": "code",
      "execution_count": 68,
      "metadata": {},
      "outputs": [
        {
          "data": {
            "application/vnd.jupyter.widget-view+json": {
              "model_id": "4deb0abcf26e42f0b44064c0589690f9",
              "version_major": 2,
              "version_minor": 0
            },
            "text/plain": [
              "Evaluating:   0%|          | 0/60 [00:00<?, ?it/s]"
            ]
          },
          "metadata": {},
          "output_type": "display_data"
        },
        {
          "data": {
            "text/plain": [
              "{'context_recall': 0.6600, 'faithfulness': 0.6908, 'factual_correctness': 0.4410, 'answer_relevancy': 0.6679, 'context_entity_recall': 0.5217, 'noise_sensitivity_relevant': 0.1175}"
            ]
          },
          "execution_count": 68,
          "metadata": {},
          "output_type": "execute_result"
        }
      ],
      "source": [
        "ragas_evaluate_one_chain(evaluator_llm, golden_dataset, bm25_retrieval_chain, custom_run_config)"
      ]
    },
    {
      "cell_type": "code",
      "execution_count": 70,
      "metadata": {},
      "outputs": [
        {
          "data": {
            "application/vnd.jupyter.widget-view+json": {
              "model_id": "832bd6d7278649da86feb7713d734f6e",
              "version_major": 2,
              "version_minor": 0
            },
            "text/plain": [
              "Evaluating:   0%|          | 0/60 [00:00<?, ?it/s]"
            ]
          },
          "metadata": {},
          "output_type": "display_data"
        }
      ],
      "source": [
        "contextual_compression_performance=ragas_evaluate_one_chain(evaluator_llm, golden_dataset, contextual_compression_retrieval_chain, custom_run_config)"
      ]
    },
    {
      "cell_type": "code",
      "execution_count": 71,
      "metadata": {},
      "outputs": [
        {
          "data": {
            "text/plain": [
              "{'context_recall': 0.7233, 'faithfulness': 0.8703, 'factual_correctness': 0.4090, 'answer_relevancy': 0.7667, 'context_entity_recall': 0.4833, 'noise_sensitivity_relevant': 0.3703}"
            ]
          },
          "execution_count": 71,
          "metadata": {},
          "output_type": "execute_result"
        }
      ],
      "source": [
        "contextual_compression_performance"
      ]
    },
    {
      "cell_type": "code",
      "execution_count": 67,
      "metadata": {},
      "outputs": [
        {
          "data": {
            "application/vnd.jupyter.widget-view+json": {
              "model_id": "8114ae3973f14cd59f62f73d10204d11",
              "version_major": 2,
              "version_minor": 0
            },
            "text/plain": [
              "Evaluating:   0%|          | 0/60 [00:00<?, ?it/s]"
            ]
          },
          "metadata": {},
          "output_type": "display_data"
        },
        {
          "data": {
            "text/plain": [
              "{'context_recall': 0.7495, 'faithfulness': 0.7515, 'factual_correctness': 0.4950, 'answer_relevancy': 0.7554, 'context_entity_recall': 0.5250, 'noise_sensitivity_relevant': 0.3858}"
            ]
          },
          "execution_count": 67,
          "metadata": {},
          "output_type": "execute_result"
        }
      ],
      "source": [
        "ragas_evaluate_one_chain(evaluator_llm, golden_dataset, multi_query_retrieval_chain, custom_run_config)"
      ]
    },
    {
      "cell_type": "code",
      "execution_count": 72,
      "metadata": {},
      "outputs": [
        {
          "data": {
            "application/vnd.jupyter.widget-view+json": {
              "model_id": "5562239ba135442a9af0a68cf7bbc836",
              "version_major": 2,
              "version_minor": 0
            },
            "text/plain": [
              "Evaluating:   0%|          | 0/60 [00:00<?, ?it/s]"
            ]
          },
          "metadata": {},
          "output_type": "display_data"
        },
        {
          "data": {
            "text/plain": [
              "{'context_recall': 0.5567, 'faithfulness': 0.8917, 'factual_correctness': 0.3960, 'answer_relevancy': 0.8660, 'context_entity_recall': 0.4583, 'noise_sensitivity_relevant': 0.3292}"
            ]
          },
          "execution_count": 72,
          "metadata": {},
          "output_type": "execute_result"
        }
      ],
      "source": [
        "parent_document_performance = ragas_evaluate_one_chain(evaluator_llm, golden_dataset, parent_document_retrieval_chain, custom_run_config)\n",
        "parent_document_performance"
      ]
    },
    {
      "cell_type": "code",
      "execution_count": 73,
      "metadata": {},
      "outputs": [
        {
          "data": {
            "application/vnd.jupyter.widget-view+json": {
              "model_id": "ac139925d5c2481bab454c0471e2c8be",
              "version_major": 2,
              "version_minor": 0
            },
            "text/plain": [
              "Evaluating:   0%|          | 0/60 [00:00<?, ?it/s]"
            ]
          },
          "metadata": {},
          "output_type": "display_data"
        },
        {
          "name": "stderr",
          "output_type": "stream",
          "text": [
            "Exception raised in Job[35]: RateLimitError(Error code: 429 - {'error': {'message': 'You exceeded your current quota, please check your plan and billing details. For more information on this error, read the docs: https://platform.openai.com/docs/guides/error-codes/api-errors.', 'type': 'insufficient_quota', 'param': None, 'code': 'insufficient_quota'}})\n",
            "Exception raised in Job[59]: RateLimitError(Error code: 429 - {'error': {'message': 'You exceeded your current quota, please check your plan and billing details. For more information on this error, read the docs: https://platform.openai.com/docs/guides/error-codes/api-errors.', 'type': 'insufficient_quota', 'param': None, 'code': 'insufficient_quota'}})\n",
            "Exception raised in Job[53]: RateLimitError(Error code: 429 - {'error': {'message': 'You exceeded your current quota, please check your plan and billing details. For more information on this error, read the docs: https://platform.openai.com/docs/guides/error-codes/api-errors.', 'type': 'insufficient_quota', 'param': None, 'code': 'insufficient_quota'}})\n",
            "Exception raised in Job[5]: RateLimitError(Error code: 429 - {'error': {'message': 'You exceeded your current quota, please check your plan and billing details. For more information on this error, read the docs: https://platform.openai.com/docs/guides/error-codes/api-errors.', 'type': 'insufficient_quota', 'param': None, 'code': 'insufficient_quota'}})\n",
            "Exception raised in Job[23]: RateLimitError(Error code: 429 - {'error': {'message': 'You exceeded your current quota, please check your plan and billing details. For more information on this error, read the docs: https://platform.openai.com/docs/guides/error-codes/api-errors.', 'type': 'insufficient_quota', 'param': None, 'code': 'insufficient_quota'}})\n",
            "Exception raised in Job[41]: RateLimitError(Error code: 429 - {'error': {'message': 'You exceeded your current quota, please check your plan and billing details. For more information on this error, read the docs: https://platform.openai.com/docs/guides/error-codes/api-errors.', 'type': 'insufficient_quota', 'param': None, 'code': 'insufficient_quota'}})\n",
            "Exception raised in Job[29]: RateLimitError(Error code: 429 - {'error': {'message': 'You exceeded your current quota, please check your plan and billing details. For more information on this error, read the docs: https://platform.openai.com/docs/guides/error-codes/api-errors.', 'type': 'insufficient_quota', 'param': None, 'code': 'insufficient_quota'}})\n",
            "Exception raised in Job[11]: RateLimitError(Error code: 429 - {'error': {'message': 'You exceeded your current quota, please check your plan and billing details. For more information on this error, read the docs: https://platform.openai.com/docs/guides/error-codes/api-errors.', 'type': 'insufficient_quota', 'param': None, 'code': 'insufficient_quota'}})\n"
          ]
        },
        {
          "data": {
            "text/plain": [
              "{'context_recall': 0.8567, 'faithfulness': 0.8909, 'factual_correctness': 0.5460, 'answer_relevancy': 0.7682, 'context_entity_recall': 0.5167, 'noise_sensitivity_relevant': 0.1250}"
            ]
          },
          "execution_count": 73,
          "metadata": {},
          "output_type": "execute_result"
        }
      ],
      "source": [
        "ensemble_performance = ragas_evaluate_one_chain(evaluator_llm, golden_dataset, ensemble_retrieval_chain, custom_run_config)\n",
        "ensemble_performance"
      ]
    },
    {
      "cell_type": "markdown",
      "metadata": {},
      "source": [
        "### Semantic chunk with Naive Retriever"
      ]
    },
    {
      "cell_type": "code",
      "execution_count": 75,
      "metadata": {},
      "outputs": [
        {
          "data": {
            "application/vnd.jupyter.widget-view+json": {
              "model_id": "13371951d7ee489f9a3cd47711fbec8a",
              "version_major": 2,
              "version_minor": 0
            },
            "text/plain": [
              "Evaluating:   0%|          | 0/60 [00:00<?, ?it/s]"
            ]
          },
          "metadata": {},
          "output_type": "display_data"
        },
        {
          "data": {
            "text/plain": [
              "{'context_recall': 0.8314, 'faithfulness': 0.7092, 'factual_correctness': 0.4860, 'answer_relevancy': 0.7651, 'context_entity_recall': 0.5583, 'noise_sensitivity_relevant': 0.2597}"
            ]
          },
          "execution_count": 75,
          "metadata": {},
          "output_type": "execute_result"
        }
      ],
      "source": [
        "semantic_performance = ragas_evaluate_one_chain(evaluator_llm, golden_dataset, semantic_retrieval_chain, custom_run_config)\n",
        "semantic_performance"
      ]
    },
    {
      "cell_type": "markdown",
      "metadata": {},
      "source": [
        "## Evalution Summary on Retrievals' Cost, Latency, Performance\n",
        "\n",
        "#### Summary on Evaluation Steps\n",
        "\n",
        "    1. Used Ragas to create a golden dataset with 10 examples of questions and related answers\n",
        "    2. Created 4 LangSmith customized labeled_score_evaluators for relevancy, precision, recall and faithfulness, ran evaluators on 7 retrievers by using the golden dataset\n",
        "    3. After comparing the langsmith evaluation results, I found the cost and latency results seem make sense while the relvancy, precision, recall and faithfulness scores generated by the customized evaluators seems not trustable because Naive Retrieval got the best scores\n",
        "    4. Ran Ragas Evaluator on each retrieval chain to compare 6 RAG metrics   \n",
        "\n",
        "#### Summary on my Evaluation Results\n",
        "1. Cost\n",
        "    - The most expensive retrieval is Ensemble Retrieval, and it runs multiple retrievers and merges results. So its cost was higher than other retrievals. I am not sure why the cost was not doubled or trippled.\n",
        "    - The 2nd expensive retrieval is Multi-Query Retrieval as it generates multiple queries, often using a language model, which increases computational cost. Additional retrieval passes and result aggregation adds to resource usage.\n",
        "2. Latency\n",
        "    - Ensemble Retrieval had the longest latency. As LangChain’s EnsembleRetriever typically executes retrievers in parallel where possible, it minizes the latency. So its latency was higher than other retrievals but not much higher.\n",
        "    - Multi-Query Retrieval had the 2nd longest latency. Multiple queries mean multiple retrieval operations, increasing latency compared to single-query methods.\n",
        "3. Performance\n",
        "    - Ensemble Retrieval got the highest scores on context_recall, faithfulness and factual-correctness, and 2nd high on answer_relevancy (lower than parent document retrieval). Because this retrieval combines strengths of different methods (e.g., lexical precision of BM25 and semantic depth of embeddings), leading to robust recall and precision.\n",
        "    - Parent Document Retrieval got the highest scores on faithfulness and answer_relevancy. Because it enhances context by returning full documents rather than isolated snippets, improving relevance for tasks needing broader understanding.\n",
        "    - Contextual Compression (Rerank) Retrieval excels at improving precision by leveraging semantic understanding, making it ideal for queries requiring nuanced relevance. but it did not excel in the evaluation results compared with other retrievals. \n",
        "    - With only 10 examples and one time run, the evaluation results may not conclude correctly. \n",
        "\n",
        "\n",
        "##### Runs List:\n",
        "\n",
        "    1. Naive Retrieval\n",
        "    2. Best Matching 25 (BM25) Retrieval\n",
        "    3. Contextual Compression Retrieval\n",
        "    4. Multi-query Retrieval\n",
        "    5. Parent-document Retrieval \n",
        "    6. Ensemble Retrieval\n",
        "    7. Semantic Chunk Retrieval\n",
        "\n",
        "\n",
        "<img src=\"img/LangSmith_Comparing.jpg\" />\n",
        "\n",
        "<img src=\"img/LangSmith_customized_evaulators.jpg\" />\n",
        "\n",
        "<img src=\"img/Ragas_Performance_Comparing.jpg\" />"
      ]
    }
  ],
  "metadata": {
    "colab": {
      "provenance": [],
      "toc_visible": true
    },
    "kernelspec": {
      "display_name": "Python 3",
      "language": "python",
      "name": "python3"
    },
    "language_info": {
      "codemirror_mode": {
        "name": "ipython",
        "version": 3
      },
      "file_extension": ".py",
      "mimetype": "text/x-python",
      "name": "python",
      "nbconvert_exporter": "python",
      "pygments_lexer": "ipython3",
      "version": "3.11.11"
    }
  },
  "nbformat": 4,
  "nbformat_minor": 0
}
